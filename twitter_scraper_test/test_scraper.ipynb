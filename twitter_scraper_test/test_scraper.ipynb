{
 "cells": [
  {
   "cell_type": "code",
   "execution_count": 1,
   "metadata": {},
   "outputs": [
    {
     "output_type": "stream",
     "name": "stderr",
     "text": "INFO: {'User-Agent': 'Mozilla/5.0 (Windows; U; Windows NT 6.1; x64; fr; rv:1.9.2.13) Gecko/20101203 Firebird/3.6.13'}\n"
    }
   ],
   "source": [
    "from twitterscraper import query_tweets\n",
    "from datetime import datetime\n",
    "from pandas import DataFrame"
   ]
  },
  {
   "cell_type": "markdown",
   "metadata": {},
   "source": [
    "## Choose arguments"
   ]
  },
  {
   "cell_type": "code",
   "execution_count": 2,
   "metadata": {},
   "outputs": [
    {
     "output_type": "execute_result",
     "data": {
      "text/plain": "'2020-04-22'"
     },
     "metadata": {},
     "execution_count": 2
    }
   ],
   "source": [
    "datetime.today().strftime('%Y-%m-%d')"
   ]
  },
  {
   "cell_type": "code",
   "execution_count": 3,
   "metadata": {},
   "outputs": [
    {
     "output_type": "stream",
     "name": "stdout",
     "text": "(brood) AND (homemade OR zelfgemaakt) since:2020-04-19 until:2020-04-22\n"
    }
   ],
   "source": [
    "# advanced query\n",
    "location =  None\n",
    "\n",
    "radius = None\n",
    "\n",
    "terms = [['brood'], ['homemade', 'zelfgemaakt']]\n",
    "\n",
    "\n",
    "\n",
    "# limit (should always be None for our case)\n",
    "limit = None\n",
    "\n",
    "## begin and end date are very import to us\n",
    "begindate = '2020-04-19'\n",
    "enddate = datetime.today().strftime('%Y-%m-%d')\n",
    "\n",
    "lang = None\n",
    "\n",
    "query = ''\n",
    "for id1, and_group in enumerate(terms):\n",
    "    if id1 == 0:\n",
    "        query += '('\n",
    "    else:\n",
    "        query += ' AND ('\n",
    "    query += ' OR '.join(and_group)\n",
    "    query += ')'\n",
    "\n",
    "if location:\n",
    "    query += ' near:{}'.format(location)\n",
    "if radius:\n",
    "    query += ' within:{}'.format(radius)\n",
    "if lang:\n",
    "    query += ' lang:{}'.format(lang)\n",
    "if begindate:\n",
    "    query += ' since:{}'.format(begindate)\n",
    "if enddate:\n",
    "    query += ' until:{}'.format(enddate)\n",
    "\n",
    "print(query)\n"
   ]
  },
  {
   "cell_type": "code",
   "execution_count": 4,
   "metadata": {},
   "outputs": [],
   "source": [
    "def valid_date(s):\n",
    "    try:\n",
    "        return datetime.strptime(s, \"%Y-%m-%d\").date()\n",
    "    except ValueError:\n",
    "        msg = \"Not a valid date: '{0}'.\".format(s)\n",
    "        raise argparse.ArgumentTypeError(msg)\n",
    "\n",
    "begindate = valid_date(begindate)\n",
    "enddate = valid_date(enddate)"
   ]
  },
  {
   "cell_type": "markdown",
   "metadata": {},
   "source": [
    "## Search Tweets"
   ]
  },
  {
   "cell_type": "code",
   "execution_count": 5,
   "metadata": {
    "tags": [
     "outputPrepend",
     "outputPrepend",
     "outputPrepend",
     "outputPrepend",
     "outputPrepend",
     "outputPrepend",
     "outputPrepend",
     "outputPrepend",
     "outputPrepend",
     "outputPrepend",
     "outputPrepend",
     "outputPrepend",
     "outputPrepend",
     "outputPrepend",
     "outputPrepend",
     "outputPrepend",
     "outputPrepend",
     "outputPrepend",
     "outputPrepend",
     "outputPrepend",
     "outputPrepend",
     "outputPrepend",
     "outputPrepend",
     "outputPrepend",
     "outputPrepend",
     "outputPrepend",
     "outputPrepend",
     "outputPrepend",
     "outputPrepend",
     "outputPrepend",
     "outputPrepend",
     "outputPrepend",
     "outputPrepend",
     "outputPrepend",
     "outputPrepend",
     "outputPrepend",
     "outputPrepend",
     "outputPrepend",
     "outputPrepend",
     "outputPrepend",
     "outputPrepend",
     "outputPrepend",
     "outputPrepend",
     "outputPrepend",
     "outputPrepend",
     "outputPrepend",
     "outputPrepend",
     "outputPrepend",
     "outputPrepend",
     "outputPrepend",
     "outputPrepend",
     "outputPrepend",
     "outputPrepend",
     "outputPrepend",
     "outputPrepend",
     "outputPrepend",
     "outputPrepend",
     "outputPrepend",
     "outputPrepend",
     "outputPrepend",
     "outputPrepend",
     "outputPrepend",
     "outputPrepend",
     "outputPrepend",
     "outputPrepend",
     "outputPrepend",
     "outputPrepend",
     "outputPrepend",
     "outputPrepend",
     "outputPrepend",
     "outputPrepend",
     "outputPrepend",
     "outputPrepend",
     "outputPrepend",
     "outputPrepend",
     "outputPrepend",
     "outputPrepend",
     "outputPrepend",
     "outputPrepend",
     "outputPrepend",
     "outputPrepend",
     "outputPrepend",
     "outputPrepend",
     "outputPrepend",
     "outputPrepend",
     "outputPrepend",
     "outputPrepend",
     "outputPrepend",
     "outputPrepend",
     "outputPrepend",
     "outputPrepend",
     "outputPrepend",
     "outputPrepend",
     "outputPrepend",
     "outputPrepend",
     "outputPrepend",
     "outputPrepend",
     "outputPrepend",
     "outputPrepend",
     "outputPrepend",
     "outputPrepend",
     "outputPrepend",
     "outputPrepend",
     "outputPrepend",
     "outputPrepend",
     "outputPrepend",
     "outputPrepend",
     "outputPrepend",
     "outputPrepend",
     "outputPrepend",
     "outputPrepend",
     "outputPrepend",
     "outputPrepend",
     "outputPrepend",
     "outputPrepend",
     "outputPrepend",
     "outputPrepend",
     "outputPrepend",
     "outputPrepend",
     "outputPrepend",
     "outputPrepend",
     "outputPrepend",
     "outputPrepend",
     "outputPrepend",
     "outputPrepend",
     "outputPrepend",
     "outputPrepend",
     "outputPrepend",
     "outputPrepend",
     "outputPrepend",
     "outputPrepend",
     "outputPrepend",
     "outputPrepend",
     "outputPrepend",
     "outputPrepend",
     "outputPrepend",
     "outputPrepend",
     "outputPrepend",
     "outputPrepend",
     "outputPrepend",
     "outputPrepend",
     "outputPrepend",
     "outputPrepend",
     "outputPrepend",
     "outputPrepend",
     "outputPrepend",
     "outputPrepend",
     "outputPrepend",
     "outputPrepend",
     "outputPrepend",
     "outputPrepend",
     "outputPrepend",
     "outputPrepend",
     "outputPrepend",
     "outputPrepend",
     "outputPrepend",
     "outputPrepend",
     "outputPrepend",
     "outputPrepend",
     "outputPrepend",
     "outputPrepend",
     "outputPrepend",
     "outputPrepend",
     "outputPrepend",
     "outputPrepend",
     "outputPrepend",
     "outputPrepend",
     "outputPrepend",
     "outputPrepend",
     "outputPrepend",
     "outputPrepend",
     "outputPrepend",
     "outputPrepend",
     "outputPrepend",
     "outputPrepend",
     "outputPrepend",
     "outputPrepend",
     "outputPrepend",
     "outputPrepend",
     "outputPrepend",
     "outputPrepend",
     "outputPrepend",
     "outputPrepend",
     "outputPrepend",
     "outputPrepend",
     "outputPrepend",
     "outputPrepend",
     "outputPrepend",
     "outputPrepend",
     "outputPrepend",
     "outputPrepend",
     "outputPrepend",
     "outputPrepend",
     "outputPrepend",
     "outputPrepend",
     "outputPrepend",
     "outputPrepend",
     "outputPrepend",
     "outputPrepend",
     "outputPrepend",
     "outputPrepend",
     "outputPrepend",
     "outputPrepend",
     "outputPrepend",
     "outputPrepend",
     "outputPrepend",
     "outputPrepend",
     "outputPrepend",
     "outputPrepend",
     "outputPrepend",
     "outputPrepend",
     "outputPrepend",
     "outputPrepend",
     "outputPrepend",
     "outputPrepend",
     "outputPrepend",
     "outputPrepend",
     "outputPrepend"
    ]
   },
   "outputs": [
    {
     "output_type": "stream",
     "name": "stderr",
     "text": "INFO: queries: ['(brood) AND (homemade OR zelfgemaakt) since:2020-04-19 until:2020-04-22 since:2020-04-19 until:2020-04-20', '(brood) AND (homemade OR zelfgemaakt) since:2020-04-19 until:2020-04-22 since:2020-04-20 until:2020-04-21', '(brood) AND (homemade OR zelfgemaakt) since:2020-04-19 until:2020-04-22 since:2020-04-21 until:2020-04-22']\nINFO: Querying (brood) AND (homemade OR zelfgemaakt) since:2020-04-19 until:2020-04-22 since:2020-04-19 until:2020-04-20\nINFO: Querying (brood) AND (homemade OR zelfgemaakt) since:2020-04-19 until:2020-04-22 since:2020-04-20 until:2020-04-21\nINFO: Querying (brood) AND (homemade OR zelfgemaakt) since:2020-04-19 until:2020-04-22 since:2020-04-21 until:2020-04-22\nINFO: Scraping tweets from https://twitter.com/search?f=tweets&vertical=default&q=(brood)%20AND%20(homemade%20OR%20zelfgemaakt)%20since%3A2020-04-19%20until%3A2020-04-22%20since%3A2020-04-19%20until%3A2020-04-20&l=None\nINFO: Scraping tweets from https://twitter.com/search?f=tweets&vertical=default&q=(brood)%20AND%20(homemade%20OR%20zelfgemaakt)%20since%3A2020-04-19%20until%3A2020-04-22%20since%3A2020-04-20%20until%3A2020-04-21&l=None\nINFO: Scraping tweets from https://twitter.com/search?f=tweets&vertical=default&q=(brood)%20AND%20(homemade%20OR%20zelfgemaakt)%20since%3A2020-04-19%20until%3A2020-04-22%20since%3A2020-04-21%20until%3A2020-04-22&l=None\nINFO: Using proxy 118.99.100.20:8080\nINFO: Using proxy 118.99.100.20:8080\nINFO: Using proxy 118.99.100.20:8080\nINFO: Retrying... (Attempts left: 50)\nINFO: Scraping tweets from https://twitter.com/search?f=tweets&vertical=default&q=(brood)%20AND%20(homemade%20OR%20zelfgemaakt)%20since%3A2020-04-19%20until%3A2020-04-22%20since%3A2020-04-21%20until%3A2020-04-22&l=None\nINFO: Using proxy 51.158.107.202:8811\nINFO: Scraping tweets from https://twitter.com/i/search/timeline?f=tweets&vertical=default&include_available_features=1&include_entities=1&reset_error_state=false&src=typd&max_position=TWEET-1251824477593317377-1251824477593317377&q=(brood)%20AND%20(homemade%20OR%20zelfgemaakt)%20since%3A2020-04-19%20until%3A2020-04-22%20since%3A2020-04-19%20until%3A2020-04-20&l=None\nINFO: Using proxy 51.158.107.202:8811\nINFO: Scraping tweets from https://twitter.com/i/search/timeline?f=tweets&vertical=default&include_available_features=1&include_entities=1&reset_error_state=false&src=typd&max_position=TWEET-1252119988254715904-1252236554417737738&q=(brood)%20AND%20(homemade%20OR%20zelfgemaakt)%20since%3A2020-04-19%20until%3A2020-04-22%20since%3A2020-04-20%20until%3A2020-04-21&l=None\nINFO: Using proxy 51.158.107.202:8811\nINFO: Scraping tweets from https://twitter.com/i/search/timeline?f=tweets&vertical=default&include_available_features=1&include_entities=1&reset_error_state=false&src=typd&max_position=thGAVUV0VFVBaCwLXB2-6v3yIWgsC1wdvur98iEjUAFQAlAFUAFQAA&q=(brood)%20AND%20(homemade%20OR%20zelfgemaakt)%20since%3A2020-04-19%20until%3A2020-04-22%20since%3A2020-04-19%20until%3A2020-04-20&l=None\nINFO: Using proxy 165.227.26.121:3128\nINFO: Scraping tweets from https://twitter.com/i/search/timeline?f=tweets&vertical=default&include_available_features=1&include_entities=1&reset_error_state=false&src=typd&max_position=thGAVUV0VFVBaAwLXB2Z-24CIWlMCgjd-g6-AiEjUAFQAlAFUAFQAA&q=(brood)%20AND%20(homemade%20OR%20zelfgemaakt)%20since%3A2020-04-19%20until%3A2020-04-22%20since%3A2020-04-20%20until%3A2020-04-21&l=None\nINFO: Using proxy 165.227.26.121:3128\nINFO: Retrying... (Attempts left: 49)\nINFO: Scraping tweets from https://twitter.com/search?f=tweets&vertical=default&q=(brood)%20AND%20(homemade%20OR%20zelfgemaakt)%20since%3A2020-04-19%20until%3A2020-04-22%20since%3A2020-04-21%20until%3A2020-04-22&l=None\nINFO: Using proxy 165.227.26.121:3128\nINFO: Twitter returned : 'has_more_items' \nINFO: Got 2 tweets for (brood)%20AND%20(homemade%20OR%20zelfgemaakt)%20since%3A2020-04-19%20until%3A2020-04-22%20since%3A2020-04-19%20until%3A2020-04-20.\nINFO: Got 2 tweets (2 new).\nINFO: Twitter returned : 'has_more_items' \nINFO: Got 4 tweets for (brood)%20AND%20(homemade%20OR%20zelfgemaakt)%20since%3A2020-04-19%20until%3A2020-04-22%20since%3A2020-04-20%20until%3A2020-04-21.\nINFO: Got 6 tweets (4 new).\nINFO: Retrying... (Attempts left: 48)\nINFO: Scraping tweets from https://twitter.com/search?f=tweets&vertical=default&q=(brood)%20AND%20(homemade%20OR%20zelfgemaakt)%20since%3A2020-04-19%20until%3A2020-04-22%20since%3A2020-04-21%20until%3A2020-04-22&l=None\nINFO: Using proxy 103.68.18.118:8080\nINFO: Retrying... (Attempts left: 47)\nINFO: Scraping tweets from https://twitter.com/search?f=tweets&vertical=default&q=(brood)%20AND%20(homemade%20OR%20zelfgemaakt)%20since%3A2020-04-19%20until%3A2020-04-22%20since%3A2020-04-21%20until%3A2020-04-22&l=None\nINFO: Using proxy 92.84.56.10:49556\nINFO: Retrying... (Attempts left: 46)\nINFO: Scraping tweets from https://twitter.com/search?f=tweets&vertical=default&q=(brood)%20AND%20(homemade%20OR%20zelfgemaakt)%20since%3A2020-04-19%20until%3A2020-04-22%20since%3A2020-04-21%20until%3A2020-04-22&l=None\nINFO: Using proxy 45.33.34.167:8080\nINFO: Retrying... (Attempts left: 45)\nINFO: Scraping tweets from https://twitter.com/search?f=tweets&vertical=default&q=(brood)%20AND%20(homemade%20OR%20zelfgemaakt)%20since%3A2020-04-19%20until%3A2020-04-22%20since%3A2020-04-21%20until%3A2020-04-22&l=None\nINFO: Using proxy 188.165.141.114:3129\nINFO: Retrying... (Attempts left: 44)\nINFO: Scraping tweets from https://twitter.com/search?f=tweets&vertical=default&q=(brood)%20AND%20(homemade%20OR%20zelfgemaakt)%20since%3A2020-04-19%20until%3A2020-04-22%20since%3A2020-04-21%20until%3A2020-04-22&l=None\nINFO: Using proxy 68.183.208.248:80\nINFO: Retrying... (Attempts left: 43)\nINFO: Scraping tweets from https://twitter.com/search?f=tweets&vertical=default&q=(brood)%20AND%20(homemade%20OR%20zelfgemaakt)%20since%3A2020-04-19%20until%3A2020-04-22%20since%3A2020-04-21%20until%3A2020-04-22&l=None\nINFO: Using proxy 51.38.71.101:8080\nINFO: Retrying... (Attempts left: 42)\nINFO: Scraping tweets from https://twitter.com/search?f=tweets&vertical=default&q=(brood)%20AND%20(homemade%20OR%20zelfgemaakt)%20since%3A2020-04-19%20until%3A2020-04-22%20since%3A2020-04-21%20until%3A2020-04-22&l=None\nINFO: Using proxy 41.170.12.92:37444\nINFO: Retrying... (Attempts left: 41)\nINFO: Scraping tweets from https://twitter.com/search?f=tweets&vertical=default&q=(brood)%20AND%20(homemade%20OR%20zelfgemaakt)%20since%3A2020-04-19%20until%3A2020-04-22%20since%3A2020-04-21%20until%3A2020-04-22&l=None\nINFO: Using proxy 203.142.58.69:38732\nINFO: Retrying... (Attempts left: 40)\nINFO: Scraping tweets from https://twitter.com/search?f=tweets&vertical=default&q=(brood)%20AND%20(homemade%20OR%20zelfgemaakt)%20since%3A2020-04-19%20until%3A2020-04-22%20since%3A2020-04-21%20until%3A2020-04-22&l=None\nINFO: Using proxy 117.121.211.170:8080\nINFO: Retrying... (Attempts left: 39)\nINFO: Scraping tweets from https://twitter.com/search?f=tweets&vertical=default&q=(brood)%20AND%20(homemade%20OR%20zelfgemaakt)%20since%3A2020-04-19%20until%3A2020-04-22%20since%3A2020-04-21%20until%3A2020-04-22&l=None\nINFO: Using proxy 194.147.27.252:23500\nINFO: Retrying... (Attempts left: 38)\nINFO: Scraping tweets from https://twitter.com/search?f=tweets&vertical=default&q=(brood)%20AND%20(homemade%20OR%20zelfgemaakt)%20since%3A2020-04-19%20until%3A2020-04-22%20since%3A2020-04-21%20until%3A2020-04-22&l=None\nINFO: Using proxy 13.82.16.76:3128\nINFO: Retrying... (Attempts left: 37)\nINFO: Scraping tweets from https://twitter.com/search?f=tweets&vertical=default&q=(brood)%20AND%20(homemade%20OR%20zelfgemaakt)%20since%3A2020-04-19%20until%3A2020-04-22%20since%3A2020-04-21%20until%3A2020-04-22&l=None\nINFO: Using proxy 191.103.254.125:51869\nINFO: Retrying... (Attempts left: 36)\nINFO: Scraping tweets from https://twitter.com/search?f=tweets&vertical=default&q=(brood)%20AND%20(homemade%20OR%20zelfgemaakt)%20since%3A2020-04-19%20until%3A2020-04-22%20since%3A2020-04-21%20until%3A2020-04-22&l=None\nINFO: Using proxy 92.126.223.237:41258\nINFO: Retrying... (Attempts left: 35)\nINFO: Scraping tweets from https://twitter.com/search?f=tweets&vertical=default&q=(brood)%20AND%20(homemade%20OR%20zelfgemaakt)%20since%3A2020-04-19%20until%3A2020-04-22%20since%3A2020-04-21%20until%3A2020-04-22&l=None\nINFO: Using proxy 43.227.129.193:83\nINFO: Retrying... (Attempts left: 34)\nINFO: Scraping tweets from https://twitter.com/search?f=tweets&vertical=default&q=(brood)%20AND%20(homemade%20OR%20zelfgemaakt)%20since%3A2020-04-19%20until%3A2020-04-22%20since%3A2020-04-21%20until%3A2020-04-22&l=None\nINFO: Using proxy 159.138.21.170:443\nINFO: Retrying... (Attempts left: 33)\nINFO: Scraping tweets from https://twitter.com/search?f=tweets&vertical=default&q=(brood)%20AND%20(homemade%20OR%20zelfgemaakt)%20since%3A2020-04-19%20until%3A2020-04-22%20since%3A2020-04-21%20until%3A2020-04-22&l=None\nINFO: Using proxy 81.23.32.47:443\nINFO: Retrying... (Attempts left: 32)\nINFO: Scraping tweets from https://twitter.com/search?f=tweets&vertical=default&q=(brood)%20AND%20(homemade%20OR%20zelfgemaakt)%20since%3A2020-04-19%20until%3A2020-04-22%20since%3A2020-04-21%20until%3A2020-04-22&l=None\nINFO: Using proxy 3.124.80.57:80\nINFO: Retrying... (Attempts left: 31)\nINFO: Scraping tweets from https://twitter.com/search?f=tweets&vertical=default&q=(brood)%20AND%20(homemade%20OR%20zelfgemaakt)%20since%3A2020-04-19%20until%3A2020-04-22%20since%3A2020-04-21%20until%3A2020-04-22&l=None\nINFO: Using proxy 51.158.119.88:8811\nINFO: Retrying... (Attempts left: 30)\nINFO: Scraping tweets from https://twitter.com/search?f=tweets&vertical=default&q=(brood)%20AND%20(homemade%20OR%20zelfgemaakt)%20since%3A2020-04-19%20until%3A2020-04-22%20since%3A2020-04-21%20until%3A2020-04-22&l=None\nINFO: Using proxy 203.202.254.206:32938\nINFO: Retrying... (Attempts left: 29)\nINFO: Scraping tweets from https://twitter.com/search?f=tweets&vertical=default&q=(brood)%20AND%20(homemade%20OR%20zelfgemaakt)%20since%3A2020-04-19%20until%3A2020-04-22%20since%3A2020-04-21%20until%3A2020-04-22&l=None\nINFO: Using proxy 89.111.33.164:3128\nINFO: Retrying... (Attempts left: 28)\nINFO: Scraping tweets from https://twitter.com/search?f=tweets&vertical=default&q=(brood)%20AND%20(homemade%20OR%20zelfgemaakt)%20since%3A2020-04-19%20until%3A2020-04-22%20since%3A2020-04-21%20until%3A2020-04-22&l=None\nINFO: Using proxy 188.166.83.17:3128\nINFO: Retrying... (Attempts left: 27)\nINFO: Scraping tweets from https://twitter.com/search?f=tweets&vertical=default&q=(brood)%20AND%20(homemade%20OR%20zelfgemaakt)%20since%3A2020-04-19%20until%3A2020-04-22%20since%3A2020-04-21%20until%3A2020-04-22&l=None\nINFO: Using proxy 103.216.82.19:6666\nINFO: Retrying... (Attempts left: 26)\nINFO: Scraping tweets from https://twitter.com/search?f=tweets&vertical=default&q=(brood)%20AND%20(homemade%20OR%20zelfgemaakt)%20since%3A2020-04-19%20until%3A2020-04-22%20since%3A2020-04-21%20until%3A2020-04-22&l=None\nINFO: Using proxy 193.34.93.221:53805\nINFO: Retrying... (Attempts left: 25)\nINFO: Scraping tweets from https://twitter.com/search?f=tweets&vertical=default&q=(brood)%20AND%20(homemade%20OR%20zelfgemaakt)%20since%3A2020-04-19%20until%3A2020-04-22%20since%3A2020-04-21%20until%3A2020-04-22&l=None\nINFO: Using proxy 81.163.54.53:41258\nINFO: Retrying... (Attempts left: 24)\nINFO: Scraping tweets from https://twitter.com/search?f=tweets&vertical=default&q=(brood)%20AND%20(homemade%20OR%20zelfgemaakt)%20since%3A2020-04-19%20until%3A2020-04-22%20since%3A2020-04-21%20until%3A2020-04-22&l=None\nINFO: Using proxy 144.217.101.242:3129\nINFO: Retrying... (Attempts left: 23)\nINFO: Scraping tweets from https://twitter.com/search?f=tweets&vertical=default&q=(brood)%20AND%20(homemade%20OR%20zelfgemaakt)%20since%3A2020-04-19%20until%3A2020-04-22%20since%3A2020-04-21%20until%3A2020-04-22&l=None\nINFO: Using proxy 117.58.241.164:52636\nINFO: Retrying... (Attempts left: 22)\nINFO: Scraping tweets from https://twitter.com/search?f=tweets&vertical=default&q=(brood)%20AND%20(homemade%20OR%20zelfgemaakt)%20since%3A2020-04-19%20until%3A2020-04-22%20since%3A2020-04-21%20until%3A2020-04-22&l=None\nINFO: Using proxy 180.252.181.2:80\nINFO: Retrying... (Attempts left: 21)\nINFO: Scraping tweets from https://twitter.com/search?f=tweets&vertical=default&q=(brood)%20AND%20(homemade%20OR%20zelfgemaakt)%20since%3A2020-04-19%20until%3A2020-04-22%20since%3A2020-04-21%20until%3A2020-04-22&l=None\nINFO: Using proxy 163.172.189.32:8811\nINFO: Retrying... (Attempts left: 20)\nINFO: Scraping tweets from https://twitter.com/search?f=tweets&vertical=default&q=(brood)%20AND%20(homemade%20OR%20zelfgemaakt)%20since%3A2020-04-19%20until%3A2020-04-22%20since%3A2020-04-21%20until%3A2020-04-22&l=None\nINFO: Using proxy 24.172.225.122:53281\nINFO: Retrying... (Attempts left: 19)\nINFO: Scraping tweets from https://twitter.com/search?f=tweets&vertical=default&q=(brood)%20AND%20(homemade%20OR%20zelfgemaakt)%20since%3A2020-04-19%20until%3A2020-04-22%20since%3A2020-04-21%20until%3A2020-04-22&l=None\nINFO: Using proxy 187.73.68.14:53281\nINFO: Retrying... (Attempts left: 18)\nINFO: Scraping tweets from https://twitter.com/search?f=tweets&vertical=default&q=(brood)%20AND%20(homemade%20OR%20zelfgemaakt)%20since%3A2020-04-19%20until%3A2020-04-22%20since%3A2020-04-21%20until%3A2020-04-22&l=None\nINFO: Using proxy 173.192.128.238:25\nINFO: Retrying... (Attempts left: 17)\nINFO: Scraping tweets from https://twitter.com/search?f=tweets&vertical=default&q=(brood)%20AND%20(homemade%20OR%20zelfgemaakt)%20since%3A2020-04-19%20until%3A2020-04-22%20since%3A2020-04-21%20until%3A2020-04-22&l=None\nINFO: Using proxy 195.69.221.198:33972\nINFO: Retrying... (Attempts left: 16)\nINFO: Scraping tweets from https://twitter.com/search?f=tweets&vertical=default&q=(brood)%20AND%20(homemade%20OR%20zelfgemaakt)%20since%3A2020-04-19%20until%3A2020-04-22%20since%3A2020-04-21%20until%3A2020-04-22&l=None\nINFO: Using proxy 185.79.242.253:50828\nINFO: Retrying... (Attempts left: 15)\nINFO: Scraping tweets from https://twitter.com/search?f=tweets&vertical=default&q=(brood)%20AND%20(homemade%20OR%20zelfgemaakt)%20since%3A2020-04-19%20until%3A2020-04-22%20since%3A2020-04-21%20until%3A2020-04-22&l=None\nINFO: Using proxy 88.198.33.232:1080\nINFO: Retrying... (Attempts left: 14)\nINFO: Scraping tweets from https://twitter.com/search?f=tweets&vertical=default&q=(brood)%20AND%20(homemade%20OR%20zelfgemaakt)%20since%3A2020-04-19%20until%3A2020-04-22%20since%3A2020-04-21%20until%3A2020-04-22&l=None\nINFO: Using proxy 51.158.123.250:8811\nINFO: Retrying... (Attempts left: 13)\nINFO: Scraping tweets from https://twitter.com/search?f=tweets&vertical=default&q=(brood)%20AND%20(homemade%20OR%20zelfgemaakt)%20since%3A2020-04-19%20until%3A2020-04-22%20since%3A2020-04-21%20until%3A2020-04-22&l=None\nINFO: Using proxy 110.50.84.231:52727\nINFO: Retrying... (Attempts left: 12)\nINFO: Scraping tweets from https://twitter.com/search?f=tweets&vertical=default&q=(brood)%20AND%20(homemade%20OR%20zelfgemaakt)%20since%3A2020-04-19%20until%3A2020-04-22%20since%3A2020-04-21%20until%3A2020-04-22&l=None\nINFO: Using proxy 192.41.71.221:3128\nINFO: Retrying... (Attempts left: 11)\nINFO: Scraping tweets from https://twitter.com/search?f=tweets&vertical=default&q=(brood)%20AND%20(homemade%20OR%20zelfgemaakt)%20since%3A2020-04-19%20until%3A2020-04-22%20since%3A2020-04-21%20until%3A2020-04-22&l=None\nINFO: Using proxy 177.202.43.110:53092\nINFO: Retrying... (Attempts left: 10)\nINFO: Scraping tweets from https://twitter.com/search?f=tweets&vertical=default&q=(brood)%20AND%20(homemade%20OR%20zelfgemaakt)%20since%3A2020-04-19%20until%3A2020-04-22%20since%3A2020-04-21%20until%3A2020-04-22&l=None\nINFO: Using proxy 154.16.63.16:8080\nINFO: Retrying... (Attempts left: 9)\nINFO: Scraping tweets from https://twitter.com/search?f=tweets&vertical=default&q=(brood)%20AND%20(homemade%20OR%20zelfgemaakt)%20since%3A2020-04-19%20until%3A2020-04-22%20since%3A2020-04-21%20until%3A2020-04-22&l=None\nINFO: Using proxy 194.28.80.105:52016\nINFO: Retrying... (Attempts left: 8)\nINFO: Scraping tweets from https://twitter.com/search?f=tweets&vertical=default&q=(brood)%20AND%20(homemade%20OR%20zelfgemaakt)%20since%3A2020-04-19%20until%3A2020-04-22%20since%3A2020-04-21%20until%3A2020-04-22&l=None\nINFO: Using proxy 203.202.245.62:80\nINFO: Retrying... (Attempts left: 7)\nINFO: Scraping tweets from https://twitter.com/search?f=tweets&vertical=default&q=(brood)%20AND%20(homemade%20OR%20zelfgemaakt)%20since%3A2020-04-19%20until%3A2020-04-22%20since%3A2020-04-21%20until%3A2020-04-22&l=None\nINFO: Using proxy 78.157.40.152:8080\nINFO: Retrying... (Attempts left: 6)\nINFO: Scraping tweets from https://twitter.com/search?f=tweets&vertical=default&q=(brood)%20AND%20(homemade%20OR%20zelfgemaakt)%20since%3A2020-04-19%20until%3A2020-04-22%20since%3A2020-04-21%20until%3A2020-04-22&l=None\nINFO: Using proxy 79.134.7.134:53044\nINFO: Retrying... (Attempts left: 5)\nINFO: Scraping tweets from https://twitter.com/search?f=tweets&vertical=default&q=(brood)%20AND%20(homemade%20OR%20zelfgemaakt)%20since%3A2020-04-19%20until%3A2020-04-22%20since%3A2020-04-21%20until%3A2020-04-22&l=None\nINFO: Using proxy 169.57.157.146:80\nINFO: Retrying... (Attempts left: 4)\nINFO: Scraping tweets from https://twitter.com/search?f=tweets&vertical=default&q=(brood)%20AND%20(homemade%20OR%20zelfgemaakt)%20since%3A2020-04-19%20until%3A2020-04-22%20since%3A2020-04-21%20until%3A2020-04-22&l=None\nINFO: Using proxy 119.82.252.25:56874\nINFO: Retrying... (Attempts left: 3)\nINFO: Scraping tweets from https://twitter.com/search?f=tweets&vertical=default&q=(brood)%20AND%20(homemade%20OR%20zelfgemaakt)%20since%3A2020-04-19%20until%3A2020-04-22%20since%3A2020-04-21%20until%3A2020-04-22&l=None\nINFO: Using proxy 217.219.31.210:44791\nINFO: Retrying... (Attempts left: 2)\nINFO: Scraping tweets from https://twitter.com/search?f=tweets&vertical=default&q=(brood)%20AND%20(homemade%20OR%20zelfgemaakt)%20since%3A2020-04-19%20until%3A2020-04-22%20since%3A2020-04-21%20until%3A2020-04-22&l=None\nINFO: Using proxy 103.224.5.5:54143\nINFO: Retrying... (Attempts left: 1)\nINFO: Scraping tweets from https://twitter.com/search?f=tweets&vertical=default&q=(brood)%20AND%20(homemade%20OR%20zelfgemaakt)%20since%3A2020-04-19%20until%3A2020-04-22%20since%3A2020-04-21%20until%3A2020-04-22&l=None\nINFO: Using proxy 41.217.217.60:36120\nINFO: Got 0 tweets for (brood)%20AND%20(homemade%20OR%20zelfgemaakt)%20since%3A2020-04-19%20until%3A2020-04-22%20since%3A2020-04-21%20until%3A2020-04-22.\nINFO: Got 6 tweets (0 new).\n"
    }
   ],
   "source": [
    "tweets = query_tweets(query= query, limit=limit, begindate=begindate, enddate=enddate, poolsize=20, lang=lang)"
   ]
  },
  {
   "cell_type": "code",
   "execution_count": 6,
   "metadata": {},
   "outputs": [
    {
     "output_type": "stream",
     "name": "stdout",
     "text": "[<twitterscraper.tweet.Tweet object at 0x7fcb2db9ad68>, <twitterscraper.tweet.Tweet object at 0x7fcb2db9afd0>, <twitterscraper.tweet.Tweet object at 0x7fcb2db9ae10>, <twitterscraper.tweet.Tweet object at 0x7fcb2dba4160>, <twitterscraper.tweet.Tweet object at 0x7fcb2dba41d0>, <twitterscraper.tweet.Tweet object at 0x7fcb2dba4208>]\n"
    }
   ],
   "source": [
    "print(tweets)"
   ]
  },
  {
   "cell_type": "code",
   "execution_count": 7,
   "metadata": {},
   "outputs": [
    {
     "output_type": "stream",
     "name": "stdout",
     "text": "Feest!\nEn lekkers zelfgemaakt Turks brood (of een soort naan) pic.twitter.com/GYsxTWGxVF\nFeest!\nEn lekkers zelfgemaakt Turks brood (of een soort naan) pic.twitter.com/GYsxTWGxVF\nDe tosti met zelfgemaakt brood is een beeeeeeetje lang pic.twitter.com/jq0wzYcIBt\nSimit Turkse Sesam Bagel https://goodmoodmama.nl/simit-turkse-sesam-bagel/ … #recept #heelhollandbakt #brood #broodjesbakken #simit #breekbrood #zelfgemaakt #goedemorgen\nDe tosti met zelfgemaakt brood is een beeeeeeetje lang pic.twitter.com/jq0wzYcIBt\nSimit Turkse Sesam Bagel https://goodmoodmama.nl/simit-turkse-sesam-bagel/ … #recept #heelhollandbakt #brood #broodjesbakken #simit #breekbrood #zelfgemaakt #goedemorgen\n"
    }
   ],
   "source": [
    "for tweet in tweets:\n",
    "    print(tweet.text)"
   ]
  },
  {
   "cell_type": "markdown",
   "metadata": {},
   "source": [
    "## Store as dataframe and drop duplicates"
   ]
  },
  {
   "cell_type": "code",
   "execution_count": 18,
   "metadata": {},
   "outputs": [],
   "source": [
    "import re\n",
    "def delete_hashtags(tweet):\n",
    "    return re.sub('#', '', tweet)\n",
    "\n",
    "tweets_df = DataFrame([[tweet.user_id, delete_hashtags(tweet.text), tweet.retweets, tweet.timestamp] for tweet in tweets], columns=['user_id', 'text', 'retweets', 'timestamp'])"
   ]
  },
  {
   "cell_type": "code",
   "execution_count": 19,
   "metadata": {},
   "outputs": [
    {
     "output_type": "execute_result",
     "data": {
      "text/plain": "              user_id                                               text  \\\n0             6360462  Feest!\\nEn lekkers zelfgemaakt Turks brood (of...   \n1             6360462  Feest!\\nEn lekkers zelfgemaakt Turks brood (of...   \n2  989165840598818816  De tosti met zelfgemaakt brood is een beeeeeee...   \n3            93032323  Simit Turkse Sesam Bagel https://goodmoodmama....   \n4  989165840598818816  De tosti met zelfgemaakt brood is een beeeeeee...   \n5            93032323  Simit Turkse Sesam Bagel https://goodmoodmama....   \n\n   retweets           timestamp  \n0         0 2020-04-19 10:46:27  \n1         0 2020-04-19 10:46:27  \n2         0 2020-04-20 14:03:54  \n3         0 2020-04-20 06:20:43  \n4         0 2020-04-20 14:03:54  \n5         0 2020-04-20 06:20:43  ",
      "text/html": "<div>\n<style scoped>\n    .dataframe tbody tr th:only-of-type {\n        vertical-align: middle;\n    }\n\n    .dataframe tbody tr th {\n        vertical-align: top;\n    }\n\n    .dataframe thead th {\n        text-align: right;\n    }\n</style>\n<table border=\"1\" class=\"dataframe\">\n  <thead>\n    <tr style=\"text-align: right;\">\n      <th></th>\n      <th>user_id</th>\n      <th>text</th>\n      <th>retweets</th>\n      <th>timestamp</th>\n    </tr>\n  </thead>\n  <tbody>\n    <tr>\n      <th>0</th>\n      <td>6360462</td>\n      <td>Feest!\\nEn lekkers zelfgemaakt Turks brood (of...</td>\n      <td>0</td>\n      <td>2020-04-19 10:46:27</td>\n    </tr>\n    <tr>\n      <th>1</th>\n      <td>6360462</td>\n      <td>Feest!\\nEn lekkers zelfgemaakt Turks brood (of...</td>\n      <td>0</td>\n      <td>2020-04-19 10:46:27</td>\n    </tr>\n    <tr>\n      <th>2</th>\n      <td>989165840598818816</td>\n      <td>De tosti met zelfgemaakt brood is een beeeeeee...</td>\n      <td>0</td>\n      <td>2020-04-20 14:03:54</td>\n    </tr>\n    <tr>\n      <th>3</th>\n      <td>93032323</td>\n      <td>Simit Turkse Sesam Bagel https://goodmoodmama....</td>\n      <td>0</td>\n      <td>2020-04-20 06:20:43</td>\n    </tr>\n    <tr>\n      <th>4</th>\n      <td>989165840598818816</td>\n      <td>De tosti met zelfgemaakt brood is een beeeeeee...</td>\n      <td>0</td>\n      <td>2020-04-20 14:03:54</td>\n    </tr>\n    <tr>\n      <th>5</th>\n      <td>93032323</td>\n      <td>Simit Turkse Sesam Bagel https://goodmoodmama....</td>\n      <td>0</td>\n      <td>2020-04-20 06:20:43</td>\n    </tr>\n  </tbody>\n</table>\n</div>"
     },
     "metadata": {},
     "execution_count": 19
    }
   ],
   "source": [
    "tweets_df"
   ]
  },
  {
   "cell_type": "code",
   "execution_count": 20,
   "metadata": {},
   "outputs": [],
   "source": [
    "tweets_df = tweets_df.drop_duplicates()"
   ]
  },
  {
   "cell_type": "code",
   "execution_count": 21,
   "metadata": {},
   "outputs": [
    {
     "output_type": "execute_result",
     "data": {
      "text/plain": "              user_id                                               text  \\\n0             6360462  Feest!\\nEn lekkers zelfgemaakt Turks brood (of...   \n2  989165840598818816  De tosti met zelfgemaakt brood is een beeeeeee...   \n3            93032323  Simit Turkse Sesam Bagel https://goodmoodmama....   \n\n   retweets           timestamp  \n0         0 2020-04-19 10:46:27  \n2         0 2020-04-20 14:03:54  \n3         0 2020-04-20 06:20:43  ",
      "text/html": "<div>\n<style scoped>\n    .dataframe tbody tr th:only-of-type {\n        vertical-align: middle;\n    }\n\n    .dataframe tbody tr th {\n        vertical-align: top;\n    }\n\n    .dataframe thead th {\n        text-align: right;\n    }\n</style>\n<table border=\"1\" class=\"dataframe\">\n  <thead>\n    <tr style=\"text-align: right;\">\n      <th></th>\n      <th>user_id</th>\n      <th>text</th>\n      <th>retweets</th>\n      <th>timestamp</th>\n    </tr>\n  </thead>\n  <tbody>\n    <tr>\n      <th>0</th>\n      <td>6360462</td>\n      <td>Feest!\\nEn lekkers zelfgemaakt Turks brood (of...</td>\n      <td>0</td>\n      <td>2020-04-19 10:46:27</td>\n    </tr>\n    <tr>\n      <th>2</th>\n      <td>989165840598818816</td>\n      <td>De tosti met zelfgemaakt brood is een beeeeeee...</td>\n      <td>0</td>\n      <td>2020-04-20 14:03:54</td>\n    </tr>\n    <tr>\n      <th>3</th>\n      <td>93032323</td>\n      <td>Simit Turkse Sesam Bagel https://goodmoodmama....</td>\n      <td>0</td>\n      <td>2020-04-20 06:20:43</td>\n    </tr>\n  </tbody>\n</table>\n</div>"
     },
     "metadata": {},
     "execution_count": 21
    }
   ],
   "source": [
    "tweets_df"
   ]
  },
  {
   "cell_type": "markdown",
   "metadata": {},
   "source": [
    "## Translate to english for generela sentiment analysis"
   ]
  },
  {
   "cell_type": "code",
   "execution_count": 25,
   "metadata": {},
   "outputs": [],
   "source": [
    "from googletrans import Translator"
   ]
  },
  {
   "cell_type": "code",
   "execution_count": 31,
   "metadata": {},
   "outputs": [
    {
     "output_type": "stream",
     "name": "stdout",
     "text": "Party!\nAnd delicious homemade Turkish bread (or any kind of naan) pic.twitter.com/GYsxTWGxVF\nThe sandwich with homemade bread is a long beeeeeeetje pic.twitter.com/jq0wzYcIBt\nSimit Turkish Sesame Bagel https://goodmoodmama.nl/simit-turkse-sesam-bagel/ recipe ... The Great British Bake Off baking bread simit break bread made good morning\n"
    }
   ],
   "source": [
    "translator = Translator()\n",
    "for text in tweets_df['text']:\n",
    "    translation = translator.translate(text).text\n",
    "    print(translation)\n"
   ]
  },
  {
   "cell_type": "markdown",
   "metadata": {},
   "source": [
    "## Sentiment analysis"
   ]
  },
  {
   "cell_type": "code",
   "execution_count": 32,
   "metadata": {},
   "outputs": [
    {
     "output_type": "stream",
     "name": "stderr",
     "text": "[nltk_data] Downloading package vader_lexicon to\n[nltk_data]     /home/arne/nltk_data...\n[nltk_data]   Package vader_lexicon is already up-to-date!\n"
    }
   ],
   "source": [
    "import nltk\n",
    "nltk.download('vader_lexicon')\n",
    "from nltk.sentiment.vader import SentimentIntensityAnalyzer\n",
    "sid = SentimentIntensityAnalyzer()"
   ]
  },
  {
   "cell_type": "code",
   "execution_count": 34,
   "metadata": {},
   "outputs": [
    {
     "output_type": "stream",
     "name": "stdout",
     "text": "Party!\nAnd delicious homemade Turkish bread (or any kind of naan) pic.twitter.com/GYsxTWGxVF\nscore: {'neg': 0.0, 'neu': 0.599, 'pos': 0.401, 'compound': 0.7712}\nThe sandwich with homemade bread is a long beeeeeeetje pic.twitter.com/jq0wzYcIBt\nscore: {'neg': 0.0, 'neu': 1.0, 'pos': 0.0, 'compound': 0.0}\nSimit Turkish Sesame Bagel https://goodmoodmama.nl/simit-turkse-sesam-bagel/ recipe ... The Great British Bake Off baking bread simit break bread made good morning\nscore: {'neg': 0.0, 'neu': 0.72, 'pos': 0.28, 'compound': 0.7906}\n"
    }
   ],
   "source": [
    "translator = Translator()\n",
    "for text in tweets_df['text']:\n",
    "    translation = translator.translate(text).text\n",
    "    print(translation)\n",
    "    print('score: {}'.format(sid.polarity_scores(translation)))"
   ]
  },
  {
   "cell_type": "code",
   "execution_count": null,
   "metadata": {},
   "outputs": [],
   "source": []
  }
 ],
 "metadata": {
  "language_info": {
   "codemirror_mode": {
    "name": "ipython",
    "version": 3
   },
   "file_extension": ".py",
   "mimetype": "text/x-python",
   "name": "python",
   "nbconvert_exporter": "python",
   "pygments_lexer": "ipython3",
   "version": "3.6.9-final"
  },
  "orig_nbformat": 2,
  "kernelspec": {
   "name": "python36964bitvenvvirtualenvaa63ac1f89734736a689a78acc2cc528",
   "display_name": "Python 3.6.9 64-bit ('venv': virtualenv)"
  }
 },
 "nbformat": 4,
 "nbformat_minor": 2
}