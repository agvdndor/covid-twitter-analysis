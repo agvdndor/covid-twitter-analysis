{
 "cells": [
  {
   "cell_type": "code",
   "execution_count": 6,
   "metadata": {},
   "outputs": [],
   "source": [
    "from twitterscraper import query_tweets\n",
    "from datetime import datetime"
   ]
  },
  {
   "cell_type": "markdown",
   "metadata": {},
   "source": [
    "## Choose arguments"
   ]
  },
  {
   "cell_type": "code",
   "execution_count": 10,
   "metadata": {},
   "outputs": [
    {
     "output_type": "execute_result",
     "data": {
      "text/plain": "'2020-04-22'"
     },
     "metadata": {},
     "execution_count": 10
    }
   ],
   "source": [
    "datetime.today().strftime('%Y-%m-%d')"
   ]
  },
  {
   "cell_type": "code",
   "execution_count": null,
   "metadata": {},
   "outputs": [],
   "source": [
    "# advanced query\n",
    "location = 'gent'\n",
    "\n",
    "radius = '50mi'\n",
    "\n",
    "terms = [['brood'], ['homemade', 'zelfgemaakt']]\n",
    "\n",
    "\n",
    "\n",
    "# limit (should always be None for our case)\n",
    "limit = None\n",
    "\n",
    "## begin and end date are very import to us\n",
    "begindate = '2020-04-01'\n",
    "enddate = datetime.today().strftime('%Y-%m-%d')\n",
    "\n",
    "lang = None\n",
    "\n",
    "for id1, and_group in enumerate(terms):\n",
    "    if id1 == 0:\n",
    "        query += '('\n",
    "    else:\n",
    "        query += 'AND ('\n",
    "    query += ' OR '.join(and_group)\n",
    "    query += ')'\n",
    "\n",
    "query = ''\n"
   ]
  }
 ],
 "metadata": {
  "language_info": {
   "codemirror_mode": {
    "name": "ipython",
    "version": 3
   },
   "file_extension": ".py",
   "mimetype": "text/x-python",
   "name": "python",
   "nbconvert_exporter": "python",
   "pygments_lexer": "ipython3",
   "version": "3.6.9-final"
  },
  "orig_nbformat": 2,
  "kernelspec": {
   "name": "python36964bitvenvvirtualenvaa63ac1f89734736a689a78acc2cc528",
   "display_name": "Python 3.6.9 64-bit ('venv': virtualenv)"
  }
 },
 "nbformat": 4,
 "nbformat_minor": 2
}