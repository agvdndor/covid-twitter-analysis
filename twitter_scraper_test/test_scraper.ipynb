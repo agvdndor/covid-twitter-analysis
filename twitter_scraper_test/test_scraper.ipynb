{
 "cells": [
  {
   "cell_type": "code",
   "execution_count": 1,
   "metadata": {},
   "outputs": [
    {
     "output_type": "stream",
     "name": "stderr",
     "text": "INFO: {'User-Agent': 'Opera/9.80 (X11; Linux i686; Ubuntu/14.10) Presto/2.12.388 Version/12.16'}\n"
    }
   ],
   "source": [
    "from twitterscraper import query_tweets\n",
    "from datetime import datetime\n",
    "from pandas import DataFrame"
   ]
  },
  {
   "cell_type": "markdown",
   "metadata": {},
   "source": [
    "## Choose arguments"
   ]
  },
  {
   "cell_type": "code",
   "execution_count": 2,
   "metadata": {},
   "outputs": [
    {
     "output_type": "execute_result",
     "data": {
      "text/plain": "'2020-04-28'"
     },
     "metadata": {},
     "execution_count": 2
    }
   ],
   "source": [
    "datetime.today().strftime('%Y-%m-%d')"
   ]
  },
  {
   "cell_type": "code",
   "execution_count": 10,
   "metadata": {},
   "outputs": [
    {
     "output_type": "stream",
     "name": "stdout",
     "text": "(brood) AND (homemade OR zelfgemaakt) lang:nl since:2020-04-10 until:2020-04-28\n"
    }
   ],
   "source": [
    "# advanced query\n",
    "location =  None\n",
    "\n",
    "radius = None\n",
    "\n",
    "terms = [['brood'], ['homemade', 'zelfgemaakt']]\n",
    "#terms = [['tendeuse', 'tondeuse', 'kaal', 'scheren', 'bald', 'peaky cut']]\n",
    "\n",
    "\n",
    "\n",
    "# limit (should always be None for our case)\n",
    "limit = None\n",
    "\n",
    "## begin and end date are very import to us\n",
    "begindate = '2020-04-10'\n",
    "enddate = datetime.today().strftime('%Y-%m-%d')\n",
    "\n",
    "lang = 'nl'\n",
    "\n",
    "query = ''\n",
    "for id1, and_group in enumerate(terms):\n",
    "    if id1 == 0:\n",
    "        query += '('\n",
    "    else:\n",
    "        query += ' AND ('\n",
    "    query += ' OR '.join(and_group)\n",
    "    query += ')'\n",
    "\n",
    "if location:\n",
    "    query += ' near:{}'.format(location)\n",
    "if radius:\n",
    "    query += ' within:{}'.format(radius)\n",
    "if lang:\n",
    "    query += ' lang:{}'.format(lang)\n",
    "if begindate:\n",
    "    query += ' since:{}'.format(begindate)\n",
    "if enddate:\n",
    "    query += ' until:{}'.format(enddate)\n",
    "\n",
    "print(query)\n"
   ]
  },
  {
   "cell_type": "code",
   "execution_count": 11,
   "metadata": {},
   "outputs": [],
   "source": [
    "def valid_date(s):\n",
    "    try:\n",
    "        return datetime.strptime(s, \"%Y-%m-%d\").date()\n",
    "    except ValueError:\n",
    "        msg = \"Not a valid date: '{0}'.\".format(s)\n",
    "        raise argparse.ArgumentTypeError(msg)\n",
    "\n",
    "begindate = valid_date(begindate)\n",
    "enddate = valid_date(enddate)"
   ]
  },
  {
   "cell_type": "markdown",
   "metadata": {},
   "source": [
    "## Search Tweets"
   ]
  },
  {
   "cell_type": "code",
   "execution_count": 12,
   "metadata": {
    "tags": [
     "outputPrepend",
     "outputPrepend",
     "outputPrepend",
     "outputPrepend",
     "outputPrepend",
     "outputPrepend",
     "outputPrepend",
     "outputPrepend",
     "outputPrepend",
     "outputPrepend",
     "outputPrepend",
     "outputPrepend",
     "outputPrepend",
     "outputPrepend",
     "outputPrepend",
     "outputPrepend",
     "outputPrepend",
     "outputPrepend",
     "outputPrepend",
     "outputPrepend",
     "outputPrepend",
     "outputPrepend",
     "outputPrepend",
     "outputPrepend",
     "outputPrepend",
     "outputPrepend",
     "outputPrepend",
     "outputPrepend",
     "outputPrepend",
     "outputPrepend",
     "outputPrepend",
     "outputPrepend",
     "outputPrepend",
     "outputPrepend",
     "outputPrepend",
     "outputPrepend",
     "outputPrepend",
     "outputPrepend",
     "outputPrepend",
     "outputPrepend",
     "outputPrepend",
     "outputPrepend",
     "outputPrepend",
     "outputPrepend",
     "outputPrepend",
     "outputPrepend",
     "outputPrepend",
     "outputPrepend",
     "outputPrepend",
     "outputPrepend",
     "outputPrepend",
     "outputPrepend",
     "outputPrepend",
     "outputPrepend",
     "outputPrepend",
     "outputPrepend",
     "outputPrepend",
     "outputPrepend",
     "outputPrepend",
     "outputPrepend",
     "outputPrepend",
     "outputPrepend",
     "outputPrepend",
     "outputPrepend",
     "outputPrepend",
     "outputPrepend",
     "outputPrepend",
     "outputPrepend",
     "outputPrepend",
     "outputPrepend",
     "outputPrepend",
     "outputPrepend",
     "outputPrepend",
     "outputPrepend",
     "outputPrepend",
     "outputPrepend",
     "outputPrepend",
     "outputPrepend",
     "outputPrepend",
     "outputPrepend",
     "outputPrepend",
     "outputPrepend",
     "outputPrepend",
     "outputPrepend",
     "outputPrepend",
     "outputPrepend",
     "outputPrepend",
     "outputPrepend",
     "outputPrepend",
     "outputPrepend",
     "outputPrepend",
     "outputPrepend",
     "outputPrepend",
     "outputPrepend",
     "outputPrepend",
     "outputPrepend",
     "outputPrepend",
     "outputPrepend",
     "outputPrepend",
     "outputPrepend",
     "outputPrepend",
     "outputPrepend",
     "outputPrepend",
     "outputPrepend",
     "outputPrepend",
     "outputPrepend",
     "outputPrepend",
     "outputPrepend",
     "outputPrepend",
     "outputPrepend",
     "outputPrepend",
     "outputPrepend",
     "outputPrepend",
     "outputPrepend",
     "outputPrepend",
     "outputPrepend",
     "outputPrepend",
     "outputPrepend",
     "outputPrepend",
     "outputPrepend",
     "outputPrepend",
     "outputPrepend",
     "outputPrepend",
     "outputPrepend",
     "outputPrepend",
     "outputPrepend",
     "outputPrepend",
     "outputPrepend",
     "outputPrepend",
     "outputPrepend",
     "outputPrepend",
     "outputPrepend",
     "outputPrepend",
     "outputPrepend",
     "outputPrepend",
     "outputPrepend",
     "outputPrepend",
     "outputPrepend",
     "outputPrepend",
     "outputPrepend",
     "outputPrepend",
     "outputPrepend",
     "outputPrepend",
     "outputPrepend",
     "outputPrepend",
     "outputPrepend",
     "outputPrepend",
     "outputPrepend",
     "outputPrepend",
     "outputPrepend",
     "outputPrepend",
     "outputPrepend",
     "outputPrepend",
     "outputPrepend",
     "outputPrepend",
     "outputPrepend",
     "outputPrepend",
     "outputPrepend",
     "outputPrepend",
     "outputPrepend",
     "outputPrepend",
     "outputPrepend",
     "outputPrepend",
     "outputPrepend",
     "outputPrepend",
     "outputPrepend",
     "outputPrepend",
     "outputPrepend",
     "outputPrepend",
     "outputPrepend",
     "outputPrepend",
     "outputPrepend",
     "outputPrepend",
     "outputPrepend",
     "outputPrepend",
     "outputPrepend",
     "outputPrepend",
     "outputPrepend",
     "outputPrepend",
     "outputPrepend",
     "outputPrepend",
     "outputPrepend",
     "outputPrepend",
     "outputPrepend",
     "outputPrepend",
     "outputPrepend",
     "outputPrepend",
     "outputPrepend",
     "outputPrepend",
     "outputPrepend",
     "outputPrepend",
     "outputPrepend",
     "outputPrepend",
     "outputPrepend",
     "outputPrepend",
     "outputPrepend",
     "outputPrepend",
     "outputPrepend",
     "outputPrepend",
     "outputPrepend",
     "outputPrepend",
     "outputPrepend",
     "outputPrepend",
     "outputPrepend",
     "outputPrepend",
     "outputPrepend",
     "outputPrepend",
     "outputPrepend",
     "outputPrepend",
     "outputPrepend",
     "outputPrepend",
     "outputPrepend",
     "outputPrepend",
     "outputPrepend",
     "outputPrepend",
     "outputPrepend",
     "outputPrepend",
     "outputPrepend"
    ]
   },
   "outputs": [
    {
     "output_type": "stream",
     "name": "stderr",
     "text": "INFO: queries: ['(brood) AND (homemade OR zelfgemaakt) lang:nl since:2020-04-10 until:2020-04-28 since:2020-04-10 until:2020-04-28']\nINFO: Querying (brood) AND (homemade OR zelfgemaakt) lang:nl since:2020-04-10 until:2020-04-28 since:2020-04-10 until:2020-04-28\nINFO: Scraping tweets from https://twitter.com/search?f=tweets&vertical=default&q=(brood)%20AND%20(homemade%20OR%20zelfgemaakt)%20lang%3Anl%20since%3A2020-04-10%20until%3A2020-04-28%20since%3A2020-04-10%20until%3A2020-04-28&l=nl\nINFO: Using proxy 190.12.95.170:31260\nINFO: Scraping tweets from https://twitter.com/i/search/timeline?f=tweets&vertical=default&include_available_features=1&include_entities=1&reset_error_state=false&src=typd&max_position=TWEET-1250091889111568385-1254793967583088640&q=(brood)%20AND%20(homemade%20OR%20zelfgemaakt)%20lang%3Anl%20since%3A2020-04-10%20until%3A2020-04-28%20since%3A2020-04-10%20until%3A2020-04-28&l=nl\nINFO: Using proxy 204.15.243.233:58159\nINFO: Scraping tweets from https://twitter.com/i/search/timeline?f=tweets&vertical=default&include_available_features=1&include_entities=1&reset_error_state=false&src=typd&max_position=thGAVUV0VFVBaCwLyx5fyb2SIWgMC-geSd9ukiEjUAFQAlAFUAFQAA&q=(brood)%20AND%20(homemade%20OR%20zelfgemaakt)%20lang%3Anl%20since%3A2020-04-10%20until%3A2020-04-28%20since%3A2020-04-10%20until%3A2020-04-28&l=nl\nINFO: Using proxy 200.73.128.5:8080\nINFO: Twitter returned : 'has_more_items' \nINFO: Got 18 tweets for (brood)%20AND%20(homemade%20OR%20zelfgemaakt)%20lang%3Anl%20since%3A2020-04-10%20until%3A2020-04-28%20since%3A2020-04-10%20until%3A2020-04-28.\nINFO: Got 18 tweets (18 new).\n"
    }
   ],
   "source": [
    "tweets = query_tweets(query= query, limit=limit, begindate=begindate, enddate=enddate, poolsize=1, lang=lang)"
   ]
  },
  {
   "cell_type": "code",
   "execution_count": 13,
   "metadata": {},
   "outputs": [
    {
     "output_type": "stream",
     "name": "stdout",
     "text": "[<twitterscraper.tweet.Tweet object at 0x7f32b4fa8780>, <twitterscraper.tweet.Tweet object at 0x7f32b4fa8940>, <twitterscraper.tweet.Tweet object at 0x7f32b4fa8978>, <twitterscraper.tweet.Tweet object at 0x7f32b4fa89e8>, <twitterscraper.tweet.Tweet object at 0x7f32b4fa8b38>, <twitterscraper.tweet.Tweet object at 0x7f32b4fa8b70>, <twitterscraper.tweet.Tweet object at 0x7f32b4fa8ba8>, <twitterscraper.tweet.Tweet object at 0x7f32b4fa8c50>, <twitterscraper.tweet.Tweet object at 0x7f32b4fa8c88>, <twitterscraper.tweet.Tweet object at 0x7f32b4fa8d30>, <twitterscraper.tweet.Tweet object at 0x7f32b4fa8dd8>, <twitterscraper.tweet.Tweet object at 0x7f32b4fa8e48>, <twitterscraper.tweet.Tweet object at 0x7f32b4fa8ef0>, <twitterscraper.tweet.Tweet object at 0x7f32b4fad0b8>, <twitterscraper.tweet.Tweet object at 0x7f32b4fad128>, <twitterscraper.tweet.Tweet object at 0x7f32b4fad198>, <twitterscraper.tweet.Tweet object at 0x7f32b4fad278>, <twitterscraper.tweet.Tweet object at 0x7f32b4fad2e8>]\n"
    }
   ],
   "source": [
    "print(tweets)"
   ]
  },
  {
   "cell_type": "code",
   "execution_count": 14,
   "metadata": {},
   "outputs": [
    {
     "output_type": "stream",
     "name": "stdout",
     "text": "Pindakaas op geroosterd brood blijft mijn favoriet! En deze helemaal  #homemade is the best! #pindakaas #sesam #honing #cocosolie #kokenpic.twitter.com/6gEmB0WVsQ\nDe lekkerste combinaties op brood - deel 1! | HOMEMADE #1 https://youtu.be/ekAOjiU1z9M  via @YouTube\nNee, zo barbecuen 'wij' ook niet. Wat vlees en vis, maar voornamelijk heerlijke salades, brood en sauzen (zelfgemaakt, geen fles) en natuurlijk een bak vol met zomers fruit. Dat lust jij ook Wen!\nDit weekend zelf pizzabroodjes maken? Zo gepiept! Receptlink in bio! #pizza #pizzabroodjes #zelfbakken #thuisbakken #brood #broodbakken #bakken #ikbakthuis #homemade #hartig #snack @ http://baksels.net  https://www.instagram.com/p/B_Wg5kcjSWT/?igshid=1am1uc6x10kom …\nBroodmachine is makkelijk maar ik vind het brood lekkerder zelfgemaakt\nDe tosti met zelfgemaakt brood is een beeeeeeetje lang pic.twitter.com/jq0wzYcIBt\nFeest!\nEn lekkers zelfgemaakt Turks brood (of een soort naan) pic.twitter.com/GYsxTWGxVF\nVraag me een geschenk te noemen tijdens dit isolement en ik verwijs naar vol-au-vent met zelfgemaakt brood van mijn lief. En naar jullie #PowerTop500 @Qmusic_BE. Hoe fijn is die?! @felicedekens @Matvandenbulcke @sam_debruyn @SymonsThomas @jana_dewilde @WimOosterlinck\nBlij dat ik dat ook een beetje kan, het is geen desem maar wel met slechts 4,5 gram droge gist. Geduld, poolish, autolyse en zie hier #homemade #brood . pic.twitter.com/FkrFHEohrz\nPindakaas op geroosterd brood blijft mijn favoriet! En deze helemaal  #homemade is the best! #pindakaas #sesam #honing #cocosolie #kokenpic.twitter.com/6gEmB0WVsQ\nDe lekkerste combinaties op brood - deel 1! | HOMEMADE #1 https://youtu.be/ekAOjiU1z9M  via @YouTube\nNee, zo barbecuen 'wij' ook niet. Wat vlees en vis, maar voornamelijk heerlijke salades, brood en sauzen (zelfgemaakt, geen fles) en natuurlijk een bak vol met zomers fruit. Dat lust jij ook Wen!\nDit weekend zelf pizzabroodjes maken? Zo gepiept! Receptlink in bio! #pizza #pizzabroodjes #zelfbakken #thuisbakken #brood #broodbakken #bakken #ikbakthuis #homemade #hartig #snack @ http://baksels.net  https://www.instagram.com/p/B_Wg5kcjSWT/?igshid=1am1uc6x10kom …\nBroodmachine is makkelijk maar ik vind het brood lekkerder zelfgemaakt\nDe tosti met zelfgemaakt brood is een beeeeeeetje lang pic.twitter.com/jq0wzYcIBt\nFeest!\nEn lekkers zelfgemaakt Turks brood (of een soort naan) pic.twitter.com/GYsxTWGxVF\nVraag me een geschenk te noemen tijdens dit isolement en ik verwijs naar vol-au-vent met zelfgemaakt brood van mijn lief. En naar jullie #PowerTop500 @Qmusic_BE. Hoe fijn is die?! @felicedekens @Matvandenbulcke @sam_debruyn @SymonsThomas @jana_dewilde @WimOosterlinck\nBlij dat ik dat ook een beetje kan, het is geen desem maar wel met slechts 4,5 gram droge gist. Geduld, poolish, autolyse en zie hier #homemade #brood . pic.twitter.com/FkrFHEohrz\n"
    }
   ],
   "source": [
    "for tweet in tweets:\n",
    "    print(tweet.text)"
   ]
  },
  {
   "cell_type": "markdown",
   "metadata": {},
   "source": [
    "## Store as dataframe and drop duplicates"
   ]
  },
  {
   "cell_type": "code",
   "execution_count": 15,
   "metadata": {},
   "outputs": [],
   "source": [
    "import re\n",
    "def delete_hashtags(tweet):\n",
    "    return re.sub('#', '', tweet)\n",
    "\n",
    "tweets_df = DataFrame([[tweet.user_id, delete_hashtags(tweet.text), tweet.retweets, tweet.timestamp] for tweet in tweets], columns=['user_id', 'text', 'retweets', 'timestamp'])"
   ]
  },
  {
   "cell_type": "code",
   "execution_count": 16,
   "metadata": {},
   "outputs": [
    {
     "output_type": "execute_result",
     "data": {
      "text/plain": "                user_id                                               text  \\\n0   1165190512292372480  Pindakaas op geroosterd brood blijft mijn favo...   \n1    992354587033198592  De lekkerste combinaties op brood - deel 1! | ...   \n2            1160831334  Nee, zo barbecuen 'wij' ook niet. Wat vlees en...   \n3             547726524  Dit weekend zelf pizzabroodjes maken? Zo gepie...   \n4   1080051624406630404  Broodmachine is makkelijk maar ik vind het bro...   \n5    989165840598818816  De tosti met zelfgemaakt brood is een beeeeeee...   \n6               6360462  Feest!\\nEn lekkers zelfgemaakt Turks brood (of...   \n7             309745298  Vraag me een geschenk te noemen tijdens dit is...   \n8            1173038461  Blij dat ik dat ook een beetje kan, het is gee...   \n9   1165190512292372480  Pindakaas op geroosterd brood blijft mijn favo...   \n10   992354587033198592  De lekkerste combinaties op brood - deel 1! | ...   \n11           1160831334  Nee, zo barbecuen 'wij' ook niet. Wat vlees en...   \n12            547726524  Dit weekend zelf pizzabroodjes maken? Zo gepie...   \n13  1080051624406630404  Broodmachine is makkelijk maar ik vind het bro...   \n14   989165840598818816  De tosti met zelfgemaakt brood is een beeeeeee...   \n15              6360462  Feest!\\nEn lekkers zelfgemaakt Turks brood (of...   \n16            309745298  Vraag me een geschenk te noemen tijdens dit is...   \n17           1173038461  Blij dat ik dat ook een beetje kan, het is gee...   \n\n    retweets           timestamp  \n0          0 2020-04-27 15:26:09  \n1          0 2020-04-27 07:40:23  \n2          0 2020-04-24 21:19:49  \n3          0 2020-04-24 05:24:54  \n4          0 2020-04-22 21:23:37  \n5          0 2020-04-20 14:03:54  \n6          0 2020-04-19 10:46:27  \n7          0 2020-04-15 10:49:27  \n8          0 2020-04-14 16:01:46  \n9          0 2020-04-27 15:26:09  \n10         0 2020-04-27 07:40:23  \n11         0 2020-04-24 21:19:49  \n12         0 2020-04-24 05:24:54  \n13         0 2020-04-22 21:23:37  \n14         0 2020-04-20 14:03:54  \n15         0 2020-04-19 10:46:27  \n16         0 2020-04-15 10:49:27  \n17         0 2020-04-14 16:01:46  ",
      "text/html": "<div>\n<style scoped>\n    .dataframe tbody tr th:only-of-type {\n        vertical-align: middle;\n    }\n\n    .dataframe tbody tr th {\n        vertical-align: top;\n    }\n\n    .dataframe thead th {\n        text-align: right;\n    }\n</style>\n<table border=\"1\" class=\"dataframe\">\n  <thead>\n    <tr style=\"text-align: right;\">\n      <th></th>\n      <th>user_id</th>\n      <th>text</th>\n      <th>retweets</th>\n      <th>timestamp</th>\n    </tr>\n  </thead>\n  <tbody>\n    <tr>\n      <th>0</th>\n      <td>1165190512292372480</td>\n      <td>Pindakaas op geroosterd brood blijft mijn favo...</td>\n      <td>0</td>\n      <td>2020-04-27 15:26:09</td>\n    </tr>\n    <tr>\n      <th>1</th>\n      <td>992354587033198592</td>\n      <td>De lekkerste combinaties op brood - deel 1! | ...</td>\n      <td>0</td>\n      <td>2020-04-27 07:40:23</td>\n    </tr>\n    <tr>\n      <th>2</th>\n      <td>1160831334</td>\n      <td>Nee, zo barbecuen 'wij' ook niet. Wat vlees en...</td>\n      <td>0</td>\n      <td>2020-04-24 21:19:49</td>\n    </tr>\n    <tr>\n      <th>3</th>\n      <td>547726524</td>\n      <td>Dit weekend zelf pizzabroodjes maken? Zo gepie...</td>\n      <td>0</td>\n      <td>2020-04-24 05:24:54</td>\n    </tr>\n    <tr>\n      <th>4</th>\n      <td>1080051624406630404</td>\n      <td>Broodmachine is makkelijk maar ik vind het bro...</td>\n      <td>0</td>\n      <td>2020-04-22 21:23:37</td>\n    </tr>\n    <tr>\n      <th>5</th>\n      <td>989165840598818816</td>\n      <td>De tosti met zelfgemaakt brood is een beeeeeee...</td>\n      <td>0</td>\n      <td>2020-04-20 14:03:54</td>\n    </tr>\n    <tr>\n      <th>6</th>\n      <td>6360462</td>\n      <td>Feest!\\nEn lekkers zelfgemaakt Turks brood (of...</td>\n      <td>0</td>\n      <td>2020-04-19 10:46:27</td>\n    </tr>\n    <tr>\n      <th>7</th>\n      <td>309745298</td>\n      <td>Vraag me een geschenk te noemen tijdens dit is...</td>\n      <td>0</td>\n      <td>2020-04-15 10:49:27</td>\n    </tr>\n    <tr>\n      <th>8</th>\n      <td>1173038461</td>\n      <td>Blij dat ik dat ook een beetje kan, het is gee...</td>\n      <td>0</td>\n      <td>2020-04-14 16:01:46</td>\n    </tr>\n    <tr>\n      <th>9</th>\n      <td>1165190512292372480</td>\n      <td>Pindakaas op geroosterd brood blijft mijn favo...</td>\n      <td>0</td>\n      <td>2020-04-27 15:26:09</td>\n    </tr>\n    <tr>\n      <th>10</th>\n      <td>992354587033198592</td>\n      <td>De lekkerste combinaties op brood - deel 1! | ...</td>\n      <td>0</td>\n      <td>2020-04-27 07:40:23</td>\n    </tr>\n    <tr>\n      <th>11</th>\n      <td>1160831334</td>\n      <td>Nee, zo barbecuen 'wij' ook niet. Wat vlees en...</td>\n      <td>0</td>\n      <td>2020-04-24 21:19:49</td>\n    </tr>\n    <tr>\n      <th>12</th>\n      <td>547726524</td>\n      <td>Dit weekend zelf pizzabroodjes maken? Zo gepie...</td>\n      <td>0</td>\n      <td>2020-04-24 05:24:54</td>\n    </tr>\n    <tr>\n      <th>13</th>\n      <td>1080051624406630404</td>\n      <td>Broodmachine is makkelijk maar ik vind het bro...</td>\n      <td>0</td>\n      <td>2020-04-22 21:23:37</td>\n    </tr>\n    <tr>\n      <th>14</th>\n      <td>989165840598818816</td>\n      <td>De tosti met zelfgemaakt brood is een beeeeeee...</td>\n      <td>0</td>\n      <td>2020-04-20 14:03:54</td>\n    </tr>\n    <tr>\n      <th>15</th>\n      <td>6360462</td>\n      <td>Feest!\\nEn lekkers zelfgemaakt Turks brood (of...</td>\n      <td>0</td>\n      <td>2020-04-19 10:46:27</td>\n    </tr>\n    <tr>\n      <th>16</th>\n      <td>309745298</td>\n      <td>Vraag me een geschenk te noemen tijdens dit is...</td>\n      <td>0</td>\n      <td>2020-04-15 10:49:27</td>\n    </tr>\n    <tr>\n      <th>17</th>\n      <td>1173038461</td>\n      <td>Blij dat ik dat ook een beetje kan, het is gee...</td>\n      <td>0</td>\n      <td>2020-04-14 16:01:46</td>\n    </tr>\n  </tbody>\n</table>\n</div>"
     },
     "metadata": {},
     "execution_count": 16
    }
   ],
   "source": [
    "tweets_df"
   ]
  },
  {
   "cell_type": "code",
   "execution_count": 17,
   "metadata": {},
   "outputs": [],
   "source": [
    "tweets_df = tweets_df.drop_duplicates()"
   ]
  },
  {
   "cell_type": "code",
   "execution_count": 18,
   "metadata": {},
   "outputs": [
    {
     "output_type": "execute_result",
     "data": {
      "text/plain": "               user_id                                               text  \\\n0  1165190512292372480  Pindakaas op geroosterd brood blijft mijn favo...   \n1   992354587033198592  De lekkerste combinaties op brood - deel 1! | ...   \n2           1160831334  Nee, zo barbecuen 'wij' ook niet. Wat vlees en...   \n3            547726524  Dit weekend zelf pizzabroodjes maken? Zo gepie...   \n4  1080051624406630404  Broodmachine is makkelijk maar ik vind het bro...   \n5   989165840598818816  De tosti met zelfgemaakt brood is een beeeeeee...   \n6              6360462  Feest!\\nEn lekkers zelfgemaakt Turks brood (of...   \n7            309745298  Vraag me een geschenk te noemen tijdens dit is...   \n8           1173038461  Blij dat ik dat ook een beetje kan, het is gee...   \n\n   retweets           timestamp  \n0         0 2020-04-27 15:26:09  \n1         0 2020-04-27 07:40:23  \n2         0 2020-04-24 21:19:49  \n3         0 2020-04-24 05:24:54  \n4         0 2020-04-22 21:23:37  \n5         0 2020-04-20 14:03:54  \n6         0 2020-04-19 10:46:27  \n7         0 2020-04-15 10:49:27  \n8         0 2020-04-14 16:01:46  ",
      "text/html": "<div>\n<style scoped>\n    .dataframe tbody tr th:only-of-type {\n        vertical-align: middle;\n    }\n\n    .dataframe tbody tr th {\n        vertical-align: top;\n    }\n\n    .dataframe thead th {\n        text-align: right;\n    }\n</style>\n<table border=\"1\" class=\"dataframe\">\n  <thead>\n    <tr style=\"text-align: right;\">\n      <th></th>\n      <th>user_id</th>\n      <th>text</th>\n      <th>retweets</th>\n      <th>timestamp</th>\n    </tr>\n  </thead>\n  <tbody>\n    <tr>\n      <th>0</th>\n      <td>1165190512292372480</td>\n      <td>Pindakaas op geroosterd brood blijft mijn favo...</td>\n      <td>0</td>\n      <td>2020-04-27 15:26:09</td>\n    </tr>\n    <tr>\n      <th>1</th>\n      <td>992354587033198592</td>\n      <td>De lekkerste combinaties op brood - deel 1! | ...</td>\n      <td>0</td>\n      <td>2020-04-27 07:40:23</td>\n    </tr>\n    <tr>\n      <th>2</th>\n      <td>1160831334</td>\n      <td>Nee, zo barbecuen 'wij' ook niet. Wat vlees en...</td>\n      <td>0</td>\n      <td>2020-04-24 21:19:49</td>\n    </tr>\n    <tr>\n      <th>3</th>\n      <td>547726524</td>\n      <td>Dit weekend zelf pizzabroodjes maken? Zo gepie...</td>\n      <td>0</td>\n      <td>2020-04-24 05:24:54</td>\n    </tr>\n    <tr>\n      <th>4</th>\n      <td>1080051624406630404</td>\n      <td>Broodmachine is makkelijk maar ik vind het bro...</td>\n      <td>0</td>\n      <td>2020-04-22 21:23:37</td>\n    </tr>\n    <tr>\n      <th>5</th>\n      <td>989165840598818816</td>\n      <td>De tosti met zelfgemaakt brood is een beeeeeee...</td>\n      <td>0</td>\n      <td>2020-04-20 14:03:54</td>\n    </tr>\n    <tr>\n      <th>6</th>\n      <td>6360462</td>\n      <td>Feest!\\nEn lekkers zelfgemaakt Turks brood (of...</td>\n      <td>0</td>\n      <td>2020-04-19 10:46:27</td>\n    </tr>\n    <tr>\n      <th>7</th>\n      <td>309745298</td>\n      <td>Vraag me een geschenk te noemen tijdens dit is...</td>\n      <td>0</td>\n      <td>2020-04-15 10:49:27</td>\n    </tr>\n    <tr>\n      <th>8</th>\n      <td>1173038461</td>\n      <td>Blij dat ik dat ook een beetje kan, het is gee...</td>\n      <td>0</td>\n      <td>2020-04-14 16:01:46</td>\n    </tr>\n  </tbody>\n</table>\n</div>"
     },
     "metadata": {},
     "execution_count": 18
    }
   ],
   "source": [
    "tweets_df"
   ]
  },
  {
   "cell_type": "markdown",
   "metadata": {},
   "source": [
    "## Translate to english for generela sentiment analysis"
   ]
  },
  {
   "cell_type": "code",
   "execution_count": 19,
   "metadata": {},
   "outputs": [],
   "source": [
    "from googletrans import Translator"
   ]
  },
  {
   "cell_type": "code",
   "execution_count": 20,
   "metadata": {},
   "outputs": [
    {
     "output_type": "stream",
     "name": "stdout",
     "text": "Peanut butter on toast is my favorite! And it completely homemade is the best! peanut butter sesame honey coconut oil kokenpic.twitter.com/6gEmB0WVsQ\nThe best combinations of bread - Part 1! | HOMEMADE 1 https://youtu.be/ekAOjiU1z9M via @YouTube\nNo, barbecues 'we' do not. What meat and fish, but mostly delicious salads, breads and sauces (homemade, not bottle) and of course a bin full of summer fruits. That lust Wen you too!\nThis weekend, make your own pizza rolls? Piece of cake! Recipe Link in bio! pizza pizza rolls bake home bread baking bread baking ikbakthuis homemade savory snack @ http://baksels.net https://www.instagram.com/p/B_Wg5kcjSWT/?igshid=1am1uc6x10kom ...\nBreadmaker is easy but I find it much better homemade\nThe sandwich with homemade bread is a long beeeeeeetje pic.twitter.com/jq0wzYcIBt\nParty!\nAnd delicious homemade Turkish bread (or any kind of naan) pic.twitter.com/GYsxTWGxVF\nAsk them to call me a gift during this isolation and I refer to vol-au-vent with homemade bread from my love. And to you PowerTop500 @Qmusic_BE. How fine which ?! @felicedekens @Matvandenbulcke @sam_debruyn @SymonsThomas @jana_dewilde @WimOosterlinck\nGlad I also can be a little, it's not leaven but with only 4.5 grams of dry yeast. Patience, poolish, autolysis and here is homemade bread. pic.twitter.com/FkrFHEohrz\n"
    }
   ],
   "source": [
    "translator = Translator()\n",
    "for text in tweets_df['text']:\n",
    "    translation = translator.translate(text).text\n",
    "    print(translation)\n"
   ]
  },
  {
   "cell_type": "markdown",
   "metadata": {},
   "source": [
    "## Sentiment analysis"
   ]
  },
  {
   "cell_type": "code",
   "execution_count": 21,
   "metadata": {},
   "outputs": [
    {
     "output_type": "stream",
     "name": "stderr",
     "text": "[nltk_data] Downloading package vader_lexicon to\n[nltk_data]     /home/arne/nltk_data...\n[nltk_data]   Package vader_lexicon is already up-to-date!\n"
    }
   ],
   "source": [
    "# https://medium.com/@b.terryjack/nlp-pre-trained-sentiment-analysis-1eb52a9d742c\n",
    "import nltk\n",
    "nltk.download('vader_lexicon')\n",
    "from nltk.sentiment.vader import SentimentIntensityAnalyzer\n",
    "sid = SentimentIntensityAnalyzer()"
   ]
  },
  {
   "cell_type": "code",
   "execution_count": 22,
   "metadata": {},
   "outputs": [
    {
     "output_type": "stream",
     "name": "stdout",
     "text": "Peanut butter on toast is my favorite! And it completely homemade is the best! peanut butter sesame honey coconut oil kokenpic.twitter.com/6gEmB0WVsQ\nscore: {'neg': 0.0, 'neu': 0.709, 'pos': 0.291, 'compound': 0.8309}\nThe best combinations of bread - Part 1! | HOMEMADE 1 https://youtu.be/ekAOjiU1z9M via @YouTube\nscore: {'neg': 0.0, 'neu': 0.69, 'pos': 0.31, 'compound': 0.6696}\nNo, barbecues 'we' do not. What meat and fish, but mostly delicious salads, breads and sauces (homemade, not bottle) and of course a bin full of summer fruits. That lust Wen you too!\nscore: {'neg': 0.043, 'neu': 0.812, 'pos': 0.145, 'compound': 0.6948}\nThis weekend, make your own pizza rolls? Piece of cake! Recipe Link in bio! pizza pizza rolls bake home bread baking bread baking ikbakthuis homemade savory snack @ http://baksels.net https://www.instagram.com/p/B_Wg5kcjSWT/?igshid=1am1uc6x10kom ...\nscore: {'neg': 0.0, 'neu': 1.0, 'pos': 0.0, 'compound': 0.0}\nBreadmaker is easy but I find it much better homemade\nscore: {'neg': 0.0, 'neu': 0.547, 'pos': 0.453, 'compound': 0.7003}\nThe sandwich with homemade bread is a long beeeeeeetje pic.twitter.com/jq0wzYcIBt\nscore: {'neg': 0.0, 'neu': 1.0, 'pos': 0.0, 'compound': 0.0}\nParty!\nAnd delicious homemade Turkish bread (or any kind of naan) pic.twitter.com/GYsxTWGxVF\nscore: {'neg': 0.0, 'neu': 0.599, 'pos': 0.401, 'compound': 0.7712}\nAsk them to call me a gift during this isolation and I refer to vol-au-vent with homemade bread from my love. And to you PowerTop500 @Qmusic_BE. How fine which ?! @felicedekens @Matvandenbulcke @sam_debruyn @SymonsThomas @jana_dewilde @WimOosterlinck\nscore: {'neg': 0.064, 'neu': 0.716, 'pos': 0.219, 'compound': 0.7574}\nGlad I also can be a little, it's not leaven but with only 4.5 grams of dry yeast. Patience, poolish, autolysis and here is homemade bread. pic.twitter.com/FkrFHEohrz\nscore: {'neg': 0.0, 'neu': 0.923, 'pos': 0.077, 'compound': 0.25}\n"
    }
   ],
   "source": [
    "# https://towardsdatascience.com/google-translate-api-for-python-723093c2144b\n",
    "translator = Translator()\n",
    "for text in tweets_df['text']:\n",
    "    translation = translator.translate(text).text\n",
    "    print(translation)\n",
    "    print('score: {}'.format(sid.polarity_scores(translation)))"
   ]
  },
  {
   "cell_type": "code",
   "execution_count": null,
   "metadata": {},
   "outputs": [],
   "source": []
  }
 ],
 "metadata": {
  "language_info": {
   "codemirror_mode": {
    "name": "ipython",
    "version": 3
   },
   "file_extension": ".py",
   "mimetype": "text/x-python",
   "name": "python",
   "nbconvert_exporter": "python",
   "pygments_lexer": "ipython3",
   "version": "3.6.9-final"
  },
  "orig_nbformat": 2,
  "kernelspec": {
   "name": "python36964bitvenvvirtualenvaa63ac1f89734736a689a78acc2cc528",
   "display_name": "Python 3.6.9 64-bit ('venv': virtualenv)"
  }
 },
 "nbformat": 4,
 "nbformat_minor": 2
}