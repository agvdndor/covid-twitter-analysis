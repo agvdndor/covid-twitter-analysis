{
 "cells": [
  {
   "cell_type": "code",
   "execution_count": 31,
   "metadata": {},
   "outputs": [],
   "source": [
    "from twitterscraper import query_tweets\n",
    "from datetime import datetime\n",
    "from pandas import DataFrame"
   ]
  },
  {
   "cell_type": "markdown",
   "metadata": {},
   "source": [
    "## Choose arguments"
   ]
  },
  {
   "cell_type": "code",
   "execution_count": 32,
   "metadata": {},
   "outputs": [
    {
     "output_type": "execute_result",
     "data": {
      "text/plain": "'2020-04-28'"
     },
     "metadata": {},
     "execution_count": 32
    }
   ],
   "source": [
    "datetime.today().strftime('%Y-%m-%d')"
   ]
  },
  {
   "cell_type": "code",
   "execution_count": 40,
   "metadata": {},
   "outputs": [
    {
     "output_type": "stream",
     "name": "stdout",
     "text": "(brood) AND (homemade OR zelfgemaakt) lang:nl since:2020-04-01 until:2020-04-28\n"
    }
   ],
   "source": [
    "# advanced query\n",
    "location =  None\n",
    "\n",
    "radius = None\n",
    "\n",
    "terms = [['brood'], ['homemade', 'zelfgemaakt']]\n",
    "#terms = [['tendeuse', 'tondeuse', 'kaal', 'scheren', 'bald', 'peaky cut']]\n",
    "\n",
    "\n",
    "\n",
    "# limit (should always be None for our case)\n",
    "limit = None\n",
    "\n",
    "## begin and end date are very import to us\n",
    "begindate = '2020-04-01'\n",
    "enddate = datetime.today().strftime('%Y-%m-%d')\n",
    "\n",
    "lang = 'nl'\n",
    "\n",
    "query = ''\n",
    "for id1, and_group in enumerate(terms):\n",
    "    if id1 == 0:\n",
    "        query += '('\n",
    "    else:\n",
    "        query += ' AND ('\n",
    "    query += ' OR '.join(and_group)\n",
    "    query += ')'\n",
    "\n",
    "if location:\n",
    "    query += ' near:{}'.format(location)\n",
    "if radius:\n",
    "    query += ' within:{}'.format(radius)\n",
    "if lang:\n",
    "    query += ' lang:{}'.format(lang)\n",
    "if begindate:\n",
    "    query += ' since:{}'.format(begindate)\n",
    "if enddate:\n",
    "    query += ' until:{}'.format(enddate)\n",
    "\n",
    "print(query)\n"
   ]
  },
  {
   "cell_type": "code",
   "execution_count": 41,
   "metadata": {},
   "outputs": [],
   "source": [
    "def valid_date(s):\n",
    "    try:\n",
    "        return datetime.strptime(s, \"%Y-%m-%d\").date()\n",
    "    except ValueError:\n",
    "        print(\"Not a valid date: {}\".format(s))\n",
    "\n",
    "begindate = valid_date(begindate)\n",
    "enddate = valid_date(enddate)"
   ]
  },
  {
   "cell_type": "markdown",
   "metadata": {},
   "source": [
    "## Search Tweets"
   ]
  },
  {
   "cell_type": "code",
   "execution_count": 42,
   "metadata": {
    "tags": [
     "outputPrepend",
     "outputPrepend",
     "outputPrepend",
     "outputPrepend",
     "outputPrepend",
     "outputPrepend",
     "outputPrepend",
     "outputPrepend",
     "outputPrepend",
     "outputPrepend",
     "outputPrepend",
     "outputPrepend",
     "outputPrepend",
     "outputPrepend",
     "outputPrepend",
     "outputPrepend",
     "outputPrepend",
     "outputPrepend",
     "outputPrepend",
     "outputPrepend",
     "outputPrepend",
     "outputPrepend",
     "outputPrepend",
     "outputPrepend",
     "outputPrepend",
     "outputPrepend",
     "outputPrepend",
     "outputPrepend",
     "outputPrepend",
     "outputPrepend",
     "outputPrepend",
     "outputPrepend",
     "outputPrepend",
     "outputPrepend",
     "outputPrepend",
     "outputPrepend",
     "outputPrepend",
     "outputPrepend",
     "outputPrepend",
     "outputPrepend",
     "outputPrepend",
     "outputPrepend",
     "outputPrepend",
     "outputPrepend",
     "outputPrepend",
     "outputPrepend",
     "outputPrepend",
     "outputPrepend",
     "outputPrepend",
     "outputPrepend",
     "outputPrepend",
     "outputPrepend",
     "outputPrepend",
     "outputPrepend",
     "outputPrepend",
     "outputPrepend",
     "outputPrepend",
     "outputPrepend",
     "outputPrepend",
     "outputPrepend",
     "outputPrepend",
     "outputPrepend",
     "outputPrepend",
     "outputPrepend",
     "outputPrepend",
     "outputPrepend",
     "outputPrepend",
     "outputPrepend",
     "outputPrepend",
     "outputPrepend",
     "outputPrepend",
     "outputPrepend",
     "outputPrepend",
     "outputPrepend",
     "outputPrepend",
     "outputPrepend",
     "outputPrepend",
     "outputPrepend",
     "outputPrepend",
     "outputPrepend",
     "outputPrepend",
     "outputPrepend",
     "outputPrepend",
     "outputPrepend",
     "outputPrepend",
     "outputPrepend",
     "outputPrepend",
     "outputPrepend",
     "outputPrepend",
     "outputPrepend",
     "outputPrepend",
     "outputPrepend",
     "outputPrepend",
     "outputPrepend",
     "outputPrepend",
     "outputPrepend",
     "outputPrepend",
     "outputPrepend",
     "outputPrepend",
     "outputPrepend",
     "outputPrepend",
     "outputPrepend",
     "outputPrepend",
     "outputPrepend",
     "outputPrepend",
     "outputPrepend",
     "outputPrepend",
     "outputPrepend",
     "outputPrepend",
     "outputPrepend",
     "outputPrepend",
     "outputPrepend",
     "outputPrepend",
     "outputPrepend",
     "outputPrepend",
     "outputPrepend",
     "outputPrepend",
     "outputPrepend",
     "outputPrepend",
     "outputPrepend",
     "outputPrepend",
     "outputPrepend",
     "outputPrepend",
     "outputPrepend",
     "outputPrepend",
     "outputPrepend",
     "outputPrepend",
     "outputPrepend",
     "outputPrepend",
     "outputPrepend",
     "outputPrepend",
     "outputPrepend",
     "outputPrepend",
     "outputPrepend",
     "outputPrepend",
     "outputPrepend",
     "outputPrepend",
     "outputPrepend",
     "outputPrepend",
     "outputPrepend",
     "outputPrepend",
     "outputPrepend",
     "outputPrepend",
     "outputPrepend",
     "outputPrepend",
     "outputPrepend",
     "outputPrepend",
     "outputPrepend",
     "outputPrepend",
     "outputPrepend",
     "outputPrepend",
     "outputPrepend",
     "outputPrepend",
     "outputPrepend",
     "outputPrepend",
     "outputPrepend",
     "outputPrepend",
     "outputPrepend",
     "outputPrepend",
     "outputPrepend",
     "outputPrepend",
     "outputPrepend",
     "outputPrepend",
     "outputPrepend",
     "outputPrepend",
     "outputPrepend",
     "outputPrepend",
     "outputPrepend",
     "outputPrepend",
     "outputPrepend",
     "outputPrepend",
     "outputPrepend",
     "outputPrepend",
     "outputPrepend",
     "outputPrepend",
     "outputPrepend",
     "outputPrepend",
     "outputPrepend",
     "outputPrepend",
     "outputPrepend",
     "outputPrepend",
     "outputPrepend",
     "outputPrepend",
     "outputPrepend",
     "outputPrepend",
     "outputPrepend",
     "outputPrepend",
     "outputPrepend",
     "outputPrepend",
     "outputPrepend",
     "outputPrepend",
     "outputPrepend",
     "outputPrepend",
     "outputPrepend",
     "outputPrepend",
     "outputPrepend",
     "outputPrepend",
     "outputPrepend",
     "outputPrepend",
     "outputPrepend",
     "outputPrepend",
     "outputPrepend",
     "outputPrepend",
     "outputPrepend",
     "outputPrepend",
     "outputPrepend",
     "outputPrepend",
     "outputPrepend",
     "outputPrepend",
     "outputPrepend",
     "outputPrepend",
     "outputPrepend",
     "outputPrepend",
     "outputPrepend",
     "outputPrepend",
     "outputPrepend",
     "outputPrepend",
     "outputPrepend"
    ]
   },
   "outputs": [
    {
     "output_type": "stream",
     "name": "stderr",
     "text": "INFO: queries: ['(brood) AND (homemade OR zelfgemaakt) lang:nl since:2020-04-01 until:2020-04-28 since:2020-04-01 until:2020-04-28']\nINFO: Querying (brood) AND (homemade OR zelfgemaakt) lang:nl since:2020-04-01 until:2020-04-28 since:2020-04-01 until:2020-04-28\nINFO: Scraping tweets from https://twitter.com/search?f=tweets&vertical=default&q=(brood)%20AND%20(homemade%20OR%20zelfgemaakt)%20lang%3Anl%20since%3A2020-04-01%20until%3A2020-04-28%20since%3A2020-04-01%20until%3A2020-04-28&l=nl\nINFO: Using proxy 190.12.95.170:31260\nINFO: Scraping tweets from https://twitter.com/i/search/timeline?f=tweets&vertical=default&include_available_features=1&include_entities=1&reset_error_state=false&src=typd&max_position=TWEET-1245655977728167938-1254793967583088640&q=(brood)%20AND%20(homemade%20OR%20zelfgemaakt)%20lang%3Anl%20since%3A2020-04-01%20until%3A2020-04-28%20since%3A2020-04-01%20until%3A2020-04-28&l=nl\nINFO: Using proxy 204.15.243.233:58159\nINFO: Scraping tweets from https://twitter.com/i/search/timeline?f=tweets&vertical=default&include_available_features=1&include_entities=1&reset_error_state=false&src=typd&max_position=thGAVUV0VFVBaEwKKN4uC6ySIWgMC-geSd9ukiEjUAFQAlAFUAFQAA&q=(brood)%20AND%20(homemade%20OR%20zelfgemaakt)%20lang%3Anl%20since%3A2020-04-01%20until%3A2020-04-28%20since%3A2020-04-01%20until%3A2020-04-28&l=nl\nINFO: Using proxy 200.73.128.5:8080\nINFO: Twitter returned : 'has_more_items' \nINFO: Got 34 tweets for (brood)%20AND%20(homemade%20OR%20zelfgemaakt)%20lang%3Anl%20since%3A2020-04-01%20until%3A2020-04-28%20since%3A2020-04-01%20until%3A2020-04-28.\nINFO: Got 34 tweets (34 new).\n"
    }
   ],
   "source": [
    "tweets = query_tweets(query= query, limit=limit, begindate=begindate, enddate=enddate, poolsize=1, lang=lang)"
   ]
  },
  {
   "cell_type": "code",
   "execution_count": 43,
   "metadata": {},
   "outputs": [
    {
     "output_type": "stream",
     "name": "stdout",
     "text": "[<twitterscraper.tweet.Tweet object at 0x7f3272770278>, <twitterscraper.tweet.Tweet object at 0x7f3272770a90>, <twitterscraper.tweet.Tweet object at 0x7f3272770198>, <twitterscraper.tweet.Tweet object at 0x7f3272770240>, <twitterscraper.tweet.Tweet object at 0x7f3272770208>, <twitterscraper.tweet.Tweet object at 0x7f3272770128>, <twitterscraper.tweet.Tweet object at 0x7f32727701d0>, <twitterscraper.tweet.Tweet object at 0x7f3272770860>, <twitterscraper.tweet.Tweet object at 0x7f3272770c88>, <twitterscraper.tweet.Tweet object at 0x7f3272770cf8>, <twitterscraper.tweet.Tweet object at 0x7f3272770ac8>, <twitterscraper.tweet.Tweet object at 0x7f3272770c50>, <twitterscraper.tweet.Tweet object at 0x7f3272770eb8>, <twitterscraper.tweet.Tweet object at 0x7f3272770d30>, <twitterscraper.tweet.Tweet object at 0x7f3272770e48>, <twitterscraper.tweet.Tweet object at 0x7f3272770ef0>, <twitterscraper.tweet.Tweet object at 0x7f3272770f98>, <twitterscraper.tweet.Tweet object at 0x7f32727704e0>, <twitterscraper.tweet.Tweet object at 0x7f3272770978>, <twitterscraper.tweet.Tweet object at 0x7f3272770908>, <twitterscraper.tweet.Tweet object at 0x7f327320f198>, <twitterscraper.tweet.Tweet object at 0x7f327320fb38>, <twitterscraper.tweet.Tweet object at 0x7f327320f828>, <twitterscraper.tweet.Tweet object at 0x7f327320ffd0>, <twitterscraper.tweet.Tweet object at 0x7f32732182b0>, <twitterscraper.tweet.Tweet object at 0x7f3273218400>, <twitterscraper.tweet.Tweet object at 0x7f3273218470>, <twitterscraper.tweet.Tweet object at 0x7f3273218518>, <twitterscraper.tweet.Tweet object at 0x7f32732189e8>, <twitterscraper.tweet.Tweet object at 0x7f3273218978>, <twitterscraper.tweet.Tweet object at 0x7f3273218b38>, <twitterscraper.tweet.Tweet object at 0x7f3273218c88>, <twitterscraper.tweet.Tweet object at 0x7f3273218cf8>, <twitterscraper.tweet.Tweet object at 0x7f32732231d0>]\n"
    }
   ],
   "source": [
    "print(tweets)"
   ]
  },
  {
   "cell_type": "code",
   "execution_count": 44,
   "metadata": {},
   "outputs": [
    {
     "output_type": "stream",
     "name": "stdout",
     "text": "Pindakaas op geroosterd brood blijft mijn favoriet! En deze helemaal  #homemade is the best! #pindakaas #sesam #honing #cocosolie #kokenpic.twitter.com/6gEmB0WVsQ\nDe lekkerste combinaties op brood - deel 1! | HOMEMADE #1 https://youtu.be/ekAOjiU1z9M  via @YouTube\nNee, zo barbecuen 'wij' ook niet. Wat vlees en vis, maar voornamelijk heerlijke salades, brood en sauzen (zelfgemaakt, geen fles) en natuurlijk een bak vol met zomers fruit. Dat lust jij ook Wen!\nDit weekend zelf pizzabroodjes maken? Zo gepiept! Receptlink in bio! #pizza #pizzabroodjes #zelfbakken #thuisbakken #brood #broodbakken #bakken #ikbakthuis #homemade #hartig #snack @ http://baksels.net  https://www.instagram.com/p/B_Wg5kcjSWT/?igshid=1am1uc6x10kom …\nBroodmachine is makkelijk maar ik vind het brood lekkerder zelfgemaakt\nDe tosti met zelfgemaakt brood is een beeeeeeetje lang pic.twitter.com/jq0wzYcIBt\nFeest!\nEn lekkers zelfgemaakt Turks brood (of een soort naan) pic.twitter.com/GYsxTWGxVF\nVraag me een geschenk te noemen tijdens dit isolement en ik verwijs naar vol-au-vent met zelfgemaakt brood van mijn lief. En naar jullie #PowerTop500 @Qmusic_BE. Hoe fijn is die?! @felicedekens @Matvandenbulcke @sam_debruyn @SymonsThomas @jana_dewilde @WimOosterlinck\nBlij dat ik dat ook een beetje kan, het is geen desem maar wel met slechts 4,5 gram droge gist. Geduld, poolish, autolyse en zie hier #homemade #brood . pic.twitter.com/FkrFHEohrz\nbaba ganoush of hummus (liefst zelfgemaakt, geldt voor beide) met avocado en gemalen chilivlokken. Maar ik eet het op brood want crackers vind ik niets. Je kan er ook nog tomaat of paprika op doen\nHet was super lekker! We hebben hier een hele productielijn om bonen / zaden te laten spruiten. \n\nEn brood en hummus waren uiteraard zelfgemaakt.\nIk weet nog wel dat ik vroeger met Pasen met een zelfgemaakt kruis met brood erop door de stad liep. Zingend en omhoog houdend. Het brandde niet overigens\nHet is alweer bijna Pasen! Bak deze leuke broodjes met de kinderen en maak er een feest van! Receptlink in bio. #pasen2020 #pasen #brood #bakken #homemade @ http://baksels.net  https://www.instagram.com/p/B-oN93QDi_j/?igshid=awqea9f98dxa …\nHier homemade pizza. \nArabisch brood halen bij Turkse supermarkt (5 voor 1,-), is heerlijke pizzabodem.\nDe achterste gaat over 20 minuten de oven, de voorste komt er dan net uit #brood #blijfgezond #homemade . pic.twitter.com/Qy3QZNMCqy\nWat mooi. Heerlijk is zelfgemaakt brood! Worstenmaken doe ik ook, maar moeizaam, met een flessenhals. In Roemenië hebben we echter zo'n echte worstenpers.\nCuly Homemade: frisse sandwich met citroen-kikkererwtenspread: Wel dol op brood, maar het klassieke broodbeleg een beetje zat? Dan is deze... http://dlvr.it/RT1xbL pic.twitter.com/mneA14BYxi\nPindakaas op geroosterd brood blijft mijn favoriet! En deze helemaal  #homemade is the best! #pindakaas #sesam #honing #cocosolie #kokenpic.twitter.com/6gEmB0WVsQ\nDe lekkerste combinaties op brood - deel 1! | HOMEMADE #1 https://youtu.be/ekAOjiU1z9M  via @YouTube\nNee, zo barbecuen 'wij' ook niet. Wat vlees en vis, maar voornamelijk heerlijke salades, brood en sauzen (zelfgemaakt, geen fles) en natuurlijk een bak vol met zomers fruit. Dat lust jij ook Wen!\nDit weekend zelf pizzabroodjes maken? Zo gepiept! Receptlink in bio! #pizza #pizzabroodjes #zelfbakken #thuisbakken #brood #broodbakken #bakken #ikbakthuis #homemade #hartig #snack @ http://baksels.net  https://www.instagram.com/p/B_Wg5kcjSWT/?igshid=1am1uc6x10kom …\nBroodmachine is makkelijk maar ik vind het brood lekkerder zelfgemaakt\nDe tosti met zelfgemaakt brood is een beeeeeeetje lang pic.twitter.com/jq0wzYcIBt\nFeest!\nEn lekkers zelfgemaakt Turks brood (of een soort naan) pic.twitter.com/GYsxTWGxVF\nVraag me een geschenk te noemen tijdens dit isolement en ik verwijs naar vol-au-vent met zelfgemaakt brood van mijn lief. En naar jullie #PowerTop500 @Qmusic_BE. Hoe fijn is die?! @felicedekens @Matvandenbulcke @sam_debruyn @SymonsThomas @jana_dewilde @WimOosterlinck\nBlij dat ik dat ook een beetje kan, het is geen desem maar wel met slechts 4,5 gram droge gist. Geduld, poolish, autolyse en zie hier #homemade #brood . pic.twitter.com/FkrFHEohrz\nbaba ganoush of hummus (liefst zelfgemaakt, geldt voor beide) met avocado en gemalen chilivlokken. Maar ik eet het op brood want crackers vind ik niets. Je kan er ook nog tomaat of paprika op doen\nHet was super lekker! We hebben hier een hele productielijn om bonen / zaden te laten spruiten. \n\nEn brood en hummus waren uiteraard zelfgemaakt.\nIk weet nog wel dat ik vroeger met Pasen met een zelfgemaakt kruis met brood erop door de stad liep. Zingend en omhoog houdend. Het brandde niet overigens\nHet is alweer bijna Pasen! Bak deze leuke broodjes met de kinderen en maak er een feest van! Receptlink in bio. #pasen2020 #pasen #brood #bakken #homemade @ http://baksels.net  https://www.instagram.com/p/B-oN93QDi_j/?igshid=awqea9f98dxa …\nHier homemade pizza. \nArabisch brood halen bij Turkse supermarkt (5 voor 1,-), is heerlijke pizzabodem.\nDe achterste gaat over 20 minuten de oven, de voorste komt er dan net uit #brood #blijfgezond #homemade . pic.twitter.com/Qy3QZNMCqy\nWat mooi. Heerlijk is zelfgemaakt brood! Worstenmaken doe ik ook, maar moeizaam, met een flessenhals. In Roemenië hebben we echter zo'n echte worstenpers.\nCuly Homemade: frisse sandwich met citroen-kikkererwtenspread: Wel dol op brood, maar het klassieke broodbeleg een beetje zat? Dan is deze... http://dlvr.it/RT1xbL pic.twitter.com/mneA14BYxi\n"
    }
   ],
   "source": [
    "for tweet in tweets:\n",
    "    print(tweet.text)"
   ]
  },
  {
   "cell_type": "markdown",
   "metadata": {},
   "source": [
    "## Store as dataframe and drop duplicates"
   ]
  },
  {
   "cell_type": "code",
   "execution_count": 45,
   "metadata": {},
   "outputs": [],
   "source": [
    "import re\n",
    "def delete_hashtags(tweet):\n",
    "    return re.sub('#', '', tweet)\n",
    "\n",
    "tweets_df = DataFrame([[tweet.user_id, delete_hashtags(tweet.text), tweet.retweets, tweet.timestamp] for tweet in tweets], columns=['user_id', 'text', 'retweets', 'timestamp'])"
   ]
  },
  {
   "cell_type": "code",
   "execution_count": 46,
   "metadata": {},
   "outputs": [
    {
     "output_type": "execute_result",
     "data": {
      "text/plain": "                user_id                                               text  \\\n0   1165190512292372480  Pindakaas op geroosterd brood blijft mijn favo...   \n1    992354587033198592  De lekkerste combinaties op brood - deel 1! | ...   \n2            1160831334  Nee, zo barbecuen 'wij' ook niet. Wat vlees en...   \n3             547726524  Dit weekend zelf pizzabroodjes maken? Zo gepie...   \n4   1080051624406630404  Broodmachine is makkelijk maar ik vind het bro...   \n5    989165840598818816  De tosti met zelfgemaakt brood is een beeeeeee...   \n6               6360462  Feest!\\nEn lekkers zelfgemaakt Turks brood (of...   \n7             309745298  Vraag me een geschenk te noemen tijdens dit is...   \n8            1173038461  Blij dat ik dat ook een beetje kan, het is gee...   \n9              17534339  baba ganoush of hummus (liefst zelfgemaakt, ge...   \n10             26722751  Het was super lekker! We hebben hier een hele ...   \n11   924234073777811461  Ik weet nog wel dat ik vroeger met Pasen met e...   \n12            547726524  Het is alweer bijna Pasen! Bak deze leuke broo...   \n13             33434673  Hier homemade pizza. \\nArabisch brood halen bi...   \n14           1173038461  De achterste gaat over 20 minuten de oven, de ...   \n15             19018965  Wat mooi. Heerlijk is zelfgemaakt brood! Worst...   \n16             17598773  Culy Homemade: frisse sandwich met citroen-kik...   \n17  1165190512292372480  Pindakaas op geroosterd brood blijft mijn favo...   \n18   992354587033198592  De lekkerste combinaties op brood - deel 1! | ...   \n19           1160831334  Nee, zo barbecuen 'wij' ook niet. Wat vlees en...   \n20            547726524  Dit weekend zelf pizzabroodjes maken? Zo gepie...   \n21  1080051624406630404  Broodmachine is makkelijk maar ik vind het bro...   \n22   989165840598818816  De tosti met zelfgemaakt brood is een beeeeeee...   \n23              6360462  Feest!\\nEn lekkers zelfgemaakt Turks brood (of...   \n24            309745298  Vraag me een geschenk te noemen tijdens dit is...   \n25           1173038461  Blij dat ik dat ook een beetje kan, het is gee...   \n26             17534339  baba ganoush of hummus (liefst zelfgemaakt, ge...   \n27             26722751  Het was super lekker! We hebben hier een hele ...   \n28   924234073777811461  Ik weet nog wel dat ik vroeger met Pasen met e...   \n29            547726524  Het is alweer bijna Pasen! Bak deze leuke broo...   \n30             33434673  Hier homemade pizza. \\nArabisch brood halen bi...   \n31           1173038461  De achterste gaat over 20 minuten de oven, de ...   \n32             19018965  Wat mooi. Heerlijk is zelfgemaakt brood! Worst...   \n33             17598773  Culy Homemade: frisse sandwich met citroen-kik...   \n\n    retweets           timestamp  \n0          0 2020-04-27 15:26:09  \n1          0 2020-04-27 07:40:23  \n2          0 2020-04-24 21:19:49  \n3          0 2020-04-24 05:24:54  \n4          0 2020-04-22 21:23:37  \n5          0 2020-04-20 14:03:54  \n6          0 2020-04-19 10:46:27  \n7          0 2020-04-15 10:49:27  \n8          0 2020-04-14 16:01:46  \n9          0 2020-04-09 14:17:11  \n10         0 2020-04-09 13:07:58  \n11         0 2020-04-08 05:17:47  \n12         1 2020-04-06 05:54:23  \n13         0 2020-04-05 14:34:12  \n14         0 2020-04-05 13:15:46  \n15         0 2020-04-03 07:30:19  \n16         0 2020-04-02 10:15:02  \n17         0 2020-04-27 15:26:09  \n18         0 2020-04-27 07:40:23  \n19         0 2020-04-24 21:19:49  \n20         0 2020-04-24 05:24:54  \n21         0 2020-04-22 21:23:37  \n22         0 2020-04-20 14:03:54  \n23         0 2020-04-19 10:46:27  \n24         0 2020-04-15 10:49:27  \n25         0 2020-04-14 16:01:46  \n26         0 2020-04-09 14:17:11  \n27         0 2020-04-09 13:07:58  \n28         0 2020-04-08 05:17:47  \n29         1 2020-04-06 05:54:23  \n30         0 2020-04-05 14:34:12  \n31         0 2020-04-05 13:15:46  \n32         0 2020-04-03 07:30:19  \n33         0 2020-04-02 10:15:02  ",
      "text/html": "<div>\n<style scoped>\n    .dataframe tbody tr th:only-of-type {\n        vertical-align: middle;\n    }\n\n    .dataframe tbody tr th {\n        vertical-align: top;\n    }\n\n    .dataframe thead th {\n        text-align: right;\n    }\n</style>\n<table border=\"1\" class=\"dataframe\">\n  <thead>\n    <tr style=\"text-align: right;\">\n      <th></th>\n      <th>user_id</th>\n      <th>text</th>\n      <th>retweets</th>\n      <th>timestamp</th>\n    </tr>\n  </thead>\n  <tbody>\n    <tr>\n      <th>0</th>\n      <td>1165190512292372480</td>\n      <td>Pindakaas op geroosterd brood blijft mijn favo...</td>\n      <td>0</td>\n      <td>2020-04-27 15:26:09</td>\n    </tr>\n    <tr>\n      <th>1</th>\n      <td>992354587033198592</td>\n      <td>De lekkerste combinaties op brood - deel 1! | ...</td>\n      <td>0</td>\n      <td>2020-04-27 07:40:23</td>\n    </tr>\n    <tr>\n      <th>2</th>\n      <td>1160831334</td>\n      <td>Nee, zo barbecuen 'wij' ook niet. Wat vlees en...</td>\n      <td>0</td>\n      <td>2020-04-24 21:19:49</td>\n    </tr>\n    <tr>\n      <th>3</th>\n      <td>547726524</td>\n      <td>Dit weekend zelf pizzabroodjes maken? Zo gepie...</td>\n      <td>0</td>\n      <td>2020-04-24 05:24:54</td>\n    </tr>\n    <tr>\n      <th>4</th>\n      <td>1080051624406630404</td>\n      <td>Broodmachine is makkelijk maar ik vind het bro...</td>\n      <td>0</td>\n      <td>2020-04-22 21:23:37</td>\n    </tr>\n    <tr>\n      <th>5</th>\n      <td>989165840598818816</td>\n      <td>De tosti met zelfgemaakt brood is een beeeeeee...</td>\n      <td>0</td>\n      <td>2020-04-20 14:03:54</td>\n    </tr>\n    <tr>\n      <th>6</th>\n      <td>6360462</td>\n      <td>Feest!\\nEn lekkers zelfgemaakt Turks brood (of...</td>\n      <td>0</td>\n      <td>2020-04-19 10:46:27</td>\n    </tr>\n    <tr>\n      <th>7</th>\n      <td>309745298</td>\n      <td>Vraag me een geschenk te noemen tijdens dit is...</td>\n      <td>0</td>\n      <td>2020-04-15 10:49:27</td>\n    </tr>\n    <tr>\n      <th>8</th>\n      <td>1173038461</td>\n      <td>Blij dat ik dat ook een beetje kan, het is gee...</td>\n      <td>0</td>\n      <td>2020-04-14 16:01:46</td>\n    </tr>\n    <tr>\n      <th>9</th>\n      <td>17534339</td>\n      <td>baba ganoush of hummus (liefst zelfgemaakt, ge...</td>\n      <td>0</td>\n      <td>2020-04-09 14:17:11</td>\n    </tr>\n    <tr>\n      <th>10</th>\n      <td>26722751</td>\n      <td>Het was super lekker! We hebben hier een hele ...</td>\n      <td>0</td>\n      <td>2020-04-09 13:07:58</td>\n    </tr>\n    <tr>\n      <th>11</th>\n      <td>924234073777811461</td>\n      <td>Ik weet nog wel dat ik vroeger met Pasen met e...</td>\n      <td>0</td>\n      <td>2020-04-08 05:17:47</td>\n    </tr>\n    <tr>\n      <th>12</th>\n      <td>547726524</td>\n      <td>Het is alweer bijna Pasen! Bak deze leuke broo...</td>\n      <td>1</td>\n      <td>2020-04-06 05:54:23</td>\n    </tr>\n    <tr>\n      <th>13</th>\n      <td>33434673</td>\n      <td>Hier homemade pizza. \\nArabisch brood halen bi...</td>\n      <td>0</td>\n      <td>2020-04-05 14:34:12</td>\n    </tr>\n    <tr>\n      <th>14</th>\n      <td>1173038461</td>\n      <td>De achterste gaat over 20 minuten de oven, de ...</td>\n      <td>0</td>\n      <td>2020-04-05 13:15:46</td>\n    </tr>\n    <tr>\n      <th>15</th>\n      <td>19018965</td>\n      <td>Wat mooi. Heerlijk is zelfgemaakt brood! Worst...</td>\n      <td>0</td>\n      <td>2020-04-03 07:30:19</td>\n    </tr>\n    <tr>\n      <th>16</th>\n      <td>17598773</td>\n      <td>Culy Homemade: frisse sandwich met citroen-kik...</td>\n      <td>0</td>\n      <td>2020-04-02 10:15:02</td>\n    </tr>\n    <tr>\n      <th>17</th>\n      <td>1165190512292372480</td>\n      <td>Pindakaas op geroosterd brood blijft mijn favo...</td>\n      <td>0</td>\n      <td>2020-04-27 15:26:09</td>\n    </tr>\n    <tr>\n      <th>18</th>\n      <td>992354587033198592</td>\n      <td>De lekkerste combinaties op brood - deel 1! | ...</td>\n      <td>0</td>\n      <td>2020-04-27 07:40:23</td>\n    </tr>\n    <tr>\n      <th>19</th>\n      <td>1160831334</td>\n      <td>Nee, zo barbecuen 'wij' ook niet. Wat vlees en...</td>\n      <td>0</td>\n      <td>2020-04-24 21:19:49</td>\n    </tr>\n    <tr>\n      <th>20</th>\n      <td>547726524</td>\n      <td>Dit weekend zelf pizzabroodjes maken? Zo gepie...</td>\n      <td>0</td>\n      <td>2020-04-24 05:24:54</td>\n    </tr>\n    <tr>\n      <th>21</th>\n      <td>1080051624406630404</td>\n      <td>Broodmachine is makkelijk maar ik vind het bro...</td>\n      <td>0</td>\n      <td>2020-04-22 21:23:37</td>\n    </tr>\n    <tr>\n      <th>22</th>\n      <td>989165840598818816</td>\n      <td>De tosti met zelfgemaakt brood is een beeeeeee...</td>\n      <td>0</td>\n      <td>2020-04-20 14:03:54</td>\n    </tr>\n    <tr>\n      <th>23</th>\n      <td>6360462</td>\n      <td>Feest!\\nEn lekkers zelfgemaakt Turks brood (of...</td>\n      <td>0</td>\n      <td>2020-04-19 10:46:27</td>\n    </tr>\n    <tr>\n      <th>24</th>\n      <td>309745298</td>\n      <td>Vraag me een geschenk te noemen tijdens dit is...</td>\n      <td>0</td>\n      <td>2020-04-15 10:49:27</td>\n    </tr>\n    <tr>\n      <th>25</th>\n      <td>1173038461</td>\n      <td>Blij dat ik dat ook een beetje kan, het is gee...</td>\n      <td>0</td>\n      <td>2020-04-14 16:01:46</td>\n    </tr>\n    <tr>\n      <th>26</th>\n      <td>17534339</td>\n      <td>baba ganoush of hummus (liefst zelfgemaakt, ge...</td>\n      <td>0</td>\n      <td>2020-04-09 14:17:11</td>\n    </tr>\n    <tr>\n      <th>27</th>\n      <td>26722751</td>\n      <td>Het was super lekker! We hebben hier een hele ...</td>\n      <td>0</td>\n      <td>2020-04-09 13:07:58</td>\n    </tr>\n    <tr>\n      <th>28</th>\n      <td>924234073777811461</td>\n      <td>Ik weet nog wel dat ik vroeger met Pasen met e...</td>\n      <td>0</td>\n      <td>2020-04-08 05:17:47</td>\n    </tr>\n    <tr>\n      <th>29</th>\n      <td>547726524</td>\n      <td>Het is alweer bijna Pasen! Bak deze leuke broo...</td>\n      <td>1</td>\n      <td>2020-04-06 05:54:23</td>\n    </tr>\n    <tr>\n      <th>30</th>\n      <td>33434673</td>\n      <td>Hier homemade pizza. \\nArabisch brood halen bi...</td>\n      <td>0</td>\n      <td>2020-04-05 14:34:12</td>\n    </tr>\n    <tr>\n      <th>31</th>\n      <td>1173038461</td>\n      <td>De achterste gaat over 20 minuten de oven, de ...</td>\n      <td>0</td>\n      <td>2020-04-05 13:15:46</td>\n    </tr>\n    <tr>\n      <th>32</th>\n      <td>19018965</td>\n      <td>Wat mooi. Heerlijk is zelfgemaakt brood! Worst...</td>\n      <td>0</td>\n      <td>2020-04-03 07:30:19</td>\n    </tr>\n    <tr>\n      <th>33</th>\n      <td>17598773</td>\n      <td>Culy Homemade: frisse sandwich met citroen-kik...</td>\n      <td>0</td>\n      <td>2020-04-02 10:15:02</td>\n    </tr>\n  </tbody>\n</table>\n</div>"
     },
     "metadata": {},
     "execution_count": 46
    }
   ],
   "source": [
    "tweets_df"
   ]
  },
  {
   "cell_type": "code",
   "execution_count": 47,
   "metadata": {},
   "outputs": [],
   "source": [
    "tweets_df = tweets_df.drop_duplicates()"
   ]
  },
  {
   "cell_type": "code",
   "execution_count": 48,
   "metadata": {},
   "outputs": [
    {
     "output_type": "execute_result",
     "data": {
      "text/plain": "                user_id                                               text  \\\n0   1165190512292372480  Pindakaas op geroosterd brood blijft mijn favo...   \n1    992354587033198592  De lekkerste combinaties op brood - deel 1! | ...   \n2            1160831334  Nee, zo barbecuen 'wij' ook niet. Wat vlees en...   \n3             547726524  Dit weekend zelf pizzabroodjes maken? Zo gepie...   \n4   1080051624406630404  Broodmachine is makkelijk maar ik vind het bro...   \n5    989165840598818816  De tosti met zelfgemaakt brood is een beeeeeee...   \n6               6360462  Feest!\\nEn lekkers zelfgemaakt Turks brood (of...   \n7             309745298  Vraag me een geschenk te noemen tijdens dit is...   \n8            1173038461  Blij dat ik dat ook een beetje kan, het is gee...   \n9              17534339  baba ganoush of hummus (liefst zelfgemaakt, ge...   \n10             26722751  Het was super lekker! We hebben hier een hele ...   \n11   924234073777811461  Ik weet nog wel dat ik vroeger met Pasen met e...   \n12            547726524  Het is alweer bijna Pasen! Bak deze leuke broo...   \n13             33434673  Hier homemade pizza. \\nArabisch brood halen bi...   \n14           1173038461  De achterste gaat over 20 minuten de oven, de ...   \n15             19018965  Wat mooi. Heerlijk is zelfgemaakt brood! Worst...   \n16             17598773  Culy Homemade: frisse sandwich met citroen-kik...   \n\n    retweets           timestamp  \n0          0 2020-04-27 15:26:09  \n1          0 2020-04-27 07:40:23  \n2          0 2020-04-24 21:19:49  \n3          0 2020-04-24 05:24:54  \n4          0 2020-04-22 21:23:37  \n5          0 2020-04-20 14:03:54  \n6          0 2020-04-19 10:46:27  \n7          0 2020-04-15 10:49:27  \n8          0 2020-04-14 16:01:46  \n9          0 2020-04-09 14:17:11  \n10         0 2020-04-09 13:07:58  \n11         0 2020-04-08 05:17:47  \n12         1 2020-04-06 05:54:23  \n13         0 2020-04-05 14:34:12  \n14         0 2020-04-05 13:15:46  \n15         0 2020-04-03 07:30:19  \n16         0 2020-04-02 10:15:02  ",
      "text/html": "<div>\n<style scoped>\n    .dataframe tbody tr th:only-of-type {\n        vertical-align: middle;\n    }\n\n    .dataframe tbody tr th {\n        vertical-align: top;\n    }\n\n    .dataframe thead th {\n        text-align: right;\n    }\n</style>\n<table border=\"1\" class=\"dataframe\">\n  <thead>\n    <tr style=\"text-align: right;\">\n      <th></th>\n      <th>user_id</th>\n      <th>text</th>\n      <th>retweets</th>\n      <th>timestamp</th>\n    </tr>\n  </thead>\n  <tbody>\n    <tr>\n      <th>0</th>\n      <td>1165190512292372480</td>\n      <td>Pindakaas op geroosterd brood blijft mijn favo...</td>\n      <td>0</td>\n      <td>2020-04-27 15:26:09</td>\n    </tr>\n    <tr>\n      <th>1</th>\n      <td>992354587033198592</td>\n      <td>De lekkerste combinaties op brood - deel 1! | ...</td>\n      <td>0</td>\n      <td>2020-04-27 07:40:23</td>\n    </tr>\n    <tr>\n      <th>2</th>\n      <td>1160831334</td>\n      <td>Nee, zo barbecuen 'wij' ook niet. Wat vlees en...</td>\n      <td>0</td>\n      <td>2020-04-24 21:19:49</td>\n    </tr>\n    <tr>\n      <th>3</th>\n      <td>547726524</td>\n      <td>Dit weekend zelf pizzabroodjes maken? Zo gepie...</td>\n      <td>0</td>\n      <td>2020-04-24 05:24:54</td>\n    </tr>\n    <tr>\n      <th>4</th>\n      <td>1080051624406630404</td>\n      <td>Broodmachine is makkelijk maar ik vind het bro...</td>\n      <td>0</td>\n      <td>2020-04-22 21:23:37</td>\n    </tr>\n    <tr>\n      <th>5</th>\n      <td>989165840598818816</td>\n      <td>De tosti met zelfgemaakt brood is een beeeeeee...</td>\n      <td>0</td>\n      <td>2020-04-20 14:03:54</td>\n    </tr>\n    <tr>\n      <th>6</th>\n      <td>6360462</td>\n      <td>Feest!\\nEn lekkers zelfgemaakt Turks brood (of...</td>\n      <td>0</td>\n      <td>2020-04-19 10:46:27</td>\n    </tr>\n    <tr>\n      <th>7</th>\n      <td>309745298</td>\n      <td>Vraag me een geschenk te noemen tijdens dit is...</td>\n      <td>0</td>\n      <td>2020-04-15 10:49:27</td>\n    </tr>\n    <tr>\n      <th>8</th>\n      <td>1173038461</td>\n      <td>Blij dat ik dat ook een beetje kan, het is gee...</td>\n      <td>0</td>\n      <td>2020-04-14 16:01:46</td>\n    </tr>\n    <tr>\n      <th>9</th>\n      <td>17534339</td>\n      <td>baba ganoush of hummus (liefst zelfgemaakt, ge...</td>\n      <td>0</td>\n      <td>2020-04-09 14:17:11</td>\n    </tr>\n    <tr>\n      <th>10</th>\n      <td>26722751</td>\n      <td>Het was super lekker! We hebben hier een hele ...</td>\n      <td>0</td>\n      <td>2020-04-09 13:07:58</td>\n    </tr>\n    <tr>\n      <th>11</th>\n      <td>924234073777811461</td>\n      <td>Ik weet nog wel dat ik vroeger met Pasen met e...</td>\n      <td>0</td>\n      <td>2020-04-08 05:17:47</td>\n    </tr>\n    <tr>\n      <th>12</th>\n      <td>547726524</td>\n      <td>Het is alweer bijna Pasen! Bak deze leuke broo...</td>\n      <td>1</td>\n      <td>2020-04-06 05:54:23</td>\n    </tr>\n    <tr>\n      <th>13</th>\n      <td>33434673</td>\n      <td>Hier homemade pizza. \\nArabisch brood halen bi...</td>\n      <td>0</td>\n      <td>2020-04-05 14:34:12</td>\n    </tr>\n    <tr>\n      <th>14</th>\n      <td>1173038461</td>\n      <td>De achterste gaat over 20 minuten de oven, de ...</td>\n      <td>0</td>\n      <td>2020-04-05 13:15:46</td>\n    </tr>\n    <tr>\n      <th>15</th>\n      <td>19018965</td>\n      <td>Wat mooi. Heerlijk is zelfgemaakt brood! Worst...</td>\n      <td>0</td>\n      <td>2020-04-03 07:30:19</td>\n    </tr>\n    <tr>\n      <th>16</th>\n      <td>17598773</td>\n      <td>Culy Homemade: frisse sandwich met citroen-kik...</td>\n      <td>0</td>\n      <td>2020-04-02 10:15:02</td>\n    </tr>\n  </tbody>\n</table>\n</div>"
     },
     "metadata": {},
     "execution_count": 48
    }
   ],
   "source": [
    "tweets_df"
   ]
  },
  {
   "cell_type": "markdown",
   "metadata": {},
   "source": [
    "## Translate to english for generela sentiment analysis"
   ]
  },
  {
   "cell_type": "code",
   "execution_count": 58,
   "metadata": {},
   "outputs": [],
   "source": [
    "from googletrans import Translator"
   ]
  },
  {
   "cell_type": "code",
   "execution_count": 59,
   "metadata": {},
   "outputs": [
    {
     "output_type": "stream",
     "name": "stdout",
     "text": "Peanut butter on toast is my favorite! And it completely homemade is the best! peanut butter sesame honey coconut oil kokenpic.twitter.com/6gEmB0WVsQ\nThe best combinations of bread - Part 1! | HOMEMADE 1 https://youtu.be/ekAOjiU1z9M via @YouTube\nNo, barbecues 'we' do not. What meat and fish, but mostly delicious salads, breads and sauces (homemade, not bottle) and of course a bin full of summer fruits. That lust Wen you too!\nThis weekend, make your own pizza rolls? Piece of cake! Recipe Link in bio! pizza pizza rolls bake home bread baking bread baking ikbakthuis homemade savory snack @ http://baksels.net https://www.instagram.com/p/B_Wg5kcjSWT/?igshid=1am1uc6x10kom ...\nBreadmaker is easy but I find it much better homemade\nThe sandwich with homemade bread is a long beeeeeeetje pic.twitter.com/jq0wzYcIBt\nParty!\nAnd delicious homemade Turkish bread (or any kind of naan) pic.twitter.com/GYsxTWGxVF\nAsk them to call me a gift during this isolation and I refer to vol-au-vent with homemade bread from my love. And to you PowerTop500 @Qmusic_BE. How fine which ?! @felicedekens @Matvandenbulcke @sam_debruyn @SymonsThomas @jana_dewilde @WimOosterlinck\nGlad I also can be a little, it's not leaven but with only 4.5 grams of dry yeast. Patience, poolish, autolysis and here is homemade bread. pic.twitter.com/FkrFHEohrz\nBaba ganoush or hummus (most preferably made, is valid for both) with avocado and ground chili flakes. But I eat it on bread crackers because I find nothing. You can also tomato or pepper on doing\nIt was super yummy! We have a whole production line beans / seeds to sprout here.\n\nAnd bread and hummus were obviously homemade.\nI do remember that I was once at Easter with a homemade cross with bread out of the city. Singing and keeping up. It did not burn, moreover,\nIt's almost Easter! Bake these cute sandwiches with the kids and make it a party! Recipe Link in bio. pasen2020 Easter bread baking homemade @ http://baksels.net https://www.instagram.com/p/B-oN93QDi_j/?igshid=awqea9f98dxa ...\nThis homemade pizza.\npick Arabic bread at Turkish supermarket (5 to 1, -), is delicious pizza crust.\nThe rear is about 20 minutes, the oven, the front comes out then just stay healthy homemade bread. pic.twitter.com/Qy3QZNMCqy\nHow beautiful. Delicious is homemade bread! Sausage Making do I, but with difficulty, with a bottleneck. In Romania, however, we have some real sausage press.\nCuly Homemade: Fresh sandwich with lemon chickpea spread Well adore bread but the classic toppings was a bit? Then this ... http://dlvr.it/RT1xbL pic.twitter.com/mneA14BYxi\n"
    }
   ],
   "source": [
    "translator = Translator()\n",
    "for text in tweets_df['text']:\n",
    "    translation = translator.translate(text).text\n",
    "    print(translation)\n"
   ]
  },
  {
   "cell_type": "markdown",
   "metadata": {},
   "source": [
    "## second approach to translation"
   ]
  },
  {
   "cell_type": "code",
   "execution_count": 56,
   "metadata": {},
   "outputs": [],
   "source": [
    "from translate import Translator\n",
    "translator = Translator(provider='microsoft', from_lang= lang, to_lang='en')"
   ]
  },
  {
   "cell_type": "code",
   "execution_count": 57,
   "metadata": {},
   "outputs": [
    {
     "output_type": "error",
     "ename": "HTTPError",
     "evalue": "401 Client Error: Access Denied for url: https://api.cognitive.microsoft.com/sts/v1.0/issueToken",
     "traceback": [
      "\u001b[0;31m---------------------------------------------------------------------------\u001b[0m",
      "\u001b[0;31mHTTPError\u001b[0m                                 Traceback (most recent call last)",
      "\u001b[0;32m<ipython-input-57-50f01dab0636>\u001b[0m in \u001b[0;36m<module>\u001b[0;34m\u001b[0m\n\u001b[1;32m      1\u001b[0m \u001b[0;32mfor\u001b[0m \u001b[0mtext\u001b[0m \u001b[0;32min\u001b[0m \u001b[0mtweets_df\u001b[0m\u001b[0;34m[\u001b[0m\u001b[0;34m'text'\u001b[0m\u001b[0;34m]\u001b[0m\u001b[0;34m:\u001b[0m\u001b[0;34m\u001b[0m\u001b[0;34m\u001b[0m\u001b[0m\n\u001b[0;32m----> 2\u001b[0;31m     \u001b[0mtranslation\u001b[0m \u001b[0;34m=\u001b[0m \u001b[0mtranslator\u001b[0m\u001b[0;34m.\u001b[0m\u001b[0mtranslate\u001b[0m\u001b[0;34m(\u001b[0m\u001b[0mtext\u001b[0m\u001b[0;34m)\u001b[0m\u001b[0;34m\u001b[0m\u001b[0;34m\u001b[0m\u001b[0m\n\u001b[0m\u001b[1;32m      3\u001b[0m     \u001b[0mprint\u001b[0m\u001b[0;34m(\u001b[0m\u001b[0mtranslation\u001b[0m\u001b[0;34m)\u001b[0m\u001b[0;34m\u001b[0m\u001b[0;34m\u001b[0m\u001b[0m\n",
      "\u001b[0;32m/mnt/c/Users/Vande/OneDrive - ugentbe/Ingenieurswetenschappen/_master/2MA/big_data_science/project/bds-project-2020/twitter_scraper_test/venv/lib/python3.6/site-packages/translate/translate.py\u001b[0m in \u001b[0;36mtranslate\u001b[0;34m(self, text)\u001b[0m\n\u001b[1;32m     40\u001b[0m \u001b[0;34m\u001b[0m\u001b[0m\n\u001b[1;32m     41\u001b[0m         \u001b[0mtext_list\u001b[0m \u001b[0;34m=\u001b[0m \u001b[0mwrap\u001b[0m\u001b[0;34m(\u001b[0m\u001b[0mtext\u001b[0m\u001b[0;34m,\u001b[0m \u001b[0mTRANSLATION_API_MAX_LENGHT\u001b[0m\u001b[0;34m,\u001b[0m \u001b[0mreplace_whitespace\u001b[0m\u001b[0;34m=\u001b[0m\u001b[0;32mFalse\u001b[0m\u001b[0;34m)\u001b[0m\u001b[0;34m\u001b[0m\u001b[0;34m\u001b[0m\u001b[0m\n\u001b[0;32m---> 42\u001b[0;31m         \u001b[0;32mreturn\u001b[0m \u001b[0;34m' '\u001b[0m\u001b[0;34m.\u001b[0m\u001b[0mjoin\u001b[0m\u001b[0;34m(\u001b[0m\u001b[0mself\u001b[0m\u001b[0;34m.\u001b[0m\u001b[0mprovider\u001b[0m\u001b[0;34m.\u001b[0m\u001b[0mget_translation\u001b[0m\u001b[0;34m(\u001b[0m\u001b[0mtext_wraped\u001b[0m\u001b[0;34m)\u001b[0m \u001b[0;32mfor\u001b[0m \u001b[0mtext_wraped\u001b[0m \u001b[0;32min\u001b[0m \u001b[0mtext_list\u001b[0m\u001b[0;34m)\u001b[0m\u001b[0;34m\u001b[0m\u001b[0;34m\u001b[0m\u001b[0m\n\u001b[0m",
      "\u001b[0;32m/mnt/c/Users/Vande/OneDrive - ugentbe/Ingenieurswetenschappen/_master/2MA/big_data_science/project/bds-project-2020/twitter_scraper_test/venv/lib/python3.6/site-packages/translate/translate.py\u001b[0m in \u001b[0;36m<genexpr>\u001b[0;34m(.0)\u001b[0m\n\u001b[1;32m     40\u001b[0m \u001b[0;34m\u001b[0m\u001b[0m\n\u001b[1;32m     41\u001b[0m         \u001b[0mtext_list\u001b[0m \u001b[0;34m=\u001b[0m \u001b[0mwrap\u001b[0m\u001b[0;34m(\u001b[0m\u001b[0mtext\u001b[0m\u001b[0;34m,\u001b[0m \u001b[0mTRANSLATION_API_MAX_LENGHT\u001b[0m\u001b[0;34m,\u001b[0m \u001b[0mreplace_whitespace\u001b[0m\u001b[0;34m=\u001b[0m\u001b[0;32mFalse\u001b[0m\u001b[0;34m)\u001b[0m\u001b[0;34m\u001b[0m\u001b[0;34m\u001b[0m\u001b[0m\n\u001b[0;32m---> 42\u001b[0;31m         \u001b[0;32mreturn\u001b[0m \u001b[0;34m' '\u001b[0m\u001b[0;34m.\u001b[0m\u001b[0mjoin\u001b[0m\u001b[0;34m(\u001b[0m\u001b[0mself\u001b[0m\u001b[0;34m.\u001b[0m\u001b[0mprovider\u001b[0m\u001b[0;34m.\u001b[0m\u001b[0mget_translation\u001b[0m\u001b[0;34m(\u001b[0m\u001b[0mtext_wraped\u001b[0m\u001b[0;34m)\u001b[0m \u001b[0;32mfor\u001b[0m \u001b[0mtext_wraped\u001b[0m \u001b[0;32min\u001b[0m \u001b[0mtext_list\u001b[0m\u001b[0;34m)\u001b[0m\u001b[0;34m\u001b[0m\u001b[0;34m\u001b[0m\u001b[0m\n\u001b[0m",
      "\u001b[0;32m/mnt/c/Users/Vande/OneDrive - ugentbe/Ingenieurswetenschappen/_master/2MA/big_data_science/project/bds-project-2020/twitter_scraper_test/venv/lib/python3.6/site-packages/translate/providers/microsoft.py\u001b[0m in \u001b[0;36mget_translation\u001b[0;34m(self, text)\u001b[0m\n\u001b[1;32m     72\u001b[0m \u001b[0;34m\u001b[0m\u001b[0m\n\u001b[1;32m     73\u001b[0m     \u001b[0;32mdef\u001b[0m \u001b[0mget_translation\u001b[0m\u001b[0;34m(\u001b[0m\u001b[0mself\u001b[0m\u001b[0;34m,\u001b[0m \u001b[0mtext\u001b[0m\u001b[0;34m)\u001b[0m\u001b[0;34m:\u001b[0m\u001b[0;34m\u001b[0m\u001b[0;34m\u001b[0m\u001b[0m\n\u001b[0;32m---> 74\u001b[0;31m         \u001b[0mdata\u001b[0m \u001b[0;34m=\u001b[0m \u001b[0mself\u001b[0m\u001b[0;34m.\u001b[0m\u001b[0m_make_request\u001b[0m\u001b[0;34m(\u001b[0m\u001b[0mtext\u001b[0m\u001b[0;34m)\u001b[0m\u001b[0;34m\u001b[0m\u001b[0;34m\u001b[0m\u001b[0m\n\u001b[0m\u001b[1;32m     75\u001b[0m \u001b[0;34m\u001b[0m\u001b[0m\n\u001b[1;32m     76\u001b[0m         \u001b[0mtranslation\u001b[0m \u001b[0;34m=\u001b[0m \u001b[0metree\u001b[0m\u001b[0;34m.\u001b[0m\u001b[0mfromstring\u001b[0m\u001b[0;34m(\u001b[0m\u001b[0mdata\u001b[0m\u001b[0;34m.\u001b[0m\u001b[0mencode\u001b[0m\u001b[0;34m(\u001b[0m\u001b[0;34m'utf-8'\u001b[0m\u001b[0;34m)\u001b[0m\u001b[0;34m)\u001b[0m\u001b[0;34m\u001b[0m\u001b[0;34m\u001b[0m\u001b[0m\n",
      "\u001b[0;32m/mnt/c/Users/Vande/OneDrive - ugentbe/Ingenieurswetenschappen/_master/2MA/big_data_science/project/bds-project-2020/twitter_scraper_test/venv/lib/python3.6/site-packages/translate/providers/microsoft.py\u001b[0m in \u001b[0;36m_make_request\u001b[0;34m(self, text)\u001b[0m\n\u001b[1;32m     60\u001b[0m     \u001b[0;32mdef\u001b[0m \u001b[0m_make_request\u001b[0m\u001b[0;34m(\u001b[0m\u001b[0mself\u001b[0m\u001b[0;34m,\u001b[0m \u001b[0mtext\u001b[0m\u001b[0;34m)\u001b[0m\u001b[0;34m:\u001b[0m\u001b[0;34m\u001b[0m\u001b[0;34m\u001b[0m\u001b[0m\n\u001b[1;32m     61\u001b[0m         \u001b[0mauth_client\u001b[0m \u001b[0;34m=\u001b[0m \u001b[0mAzureAuthClient\u001b[0m\u001b[0;34m(\u001b[0m\u001b[0mself\u001b[0m\u001b[0;34m.\u001b[0m\u001b[0msecret_access_key\u001b[0m\u001b[0;34m)\u001b[0m\u001b[0;34m\u001b[0m\u001b[0;34m\u001b[0m\u001b[0m\n\u001b[0;32m---> 62\u001b[0;31m         \u001b[0maccess_token\u001b[0m \u001b[0;34m=\u001b[0m \u001b[0;34m'Bearer {}'\u001b[0m\u001b[0;34m.\u001b[0m\u001b[0mformat\u001b[0m\u001b[0;34m(\u001b[0m\u001b[0mauth_client\u001b[0m\u001b[0;34m.\u001b[0m\u001b[0mget_access_token\u001b[0m\u001b[0;34m(\u001b[0m\u001b[0;34m)\u001b[0m\u001b[0;34m)\u001b[0m\u001b[0;34m\u001b[0m\u001b[0;34m\u001b[0m\u001b[0m\n\u001b[0m\u001b[1;32m     63\u001b[0m         \u001b[0mself\u001b[0m\u001b[0;34m.\u001b[0m\u001b[0mheaders\u001b[0m\u001b[0;34m.\u001b[0m\u001b[0mupdate\u001b[0m\u001b[0;34m(\u001b[0m\u001b[0;34m{\u001b[0m\u001b[0;34m\"Authorization \"\u001b[0m\u001b[0;34m:\u001b[0m \u001b[0maccess_token\u001b[0m\u001b[0;34m}\u001b[0m\u001b[0;34m)\u001b[0m\u001b[0;34m\u001b[0m\u001b[0;34m\u001b[0m\u001b[0m\n\u001b[1;32m     64\u001b[0m \u001b[0;34m\u001b[0m\u001b[0m\n",
      "\u001b[0;32m/mnt/c/Users/Vande/OneDrive - ugentbe/Ingenieurswetenschappen/_master/2MA/big_data_science/project/bds-project-2020/twitter_scraper_test/venv/lib/python3.6/site-packages/translate/providers/microsoft.py\u001b[0m in \u001b[0;36mget_access_token\u001b[0;34m(self)\u001b[0m\n\u001b[1;32m     41\u001b[0m             \u001b[0mheaders\u001b[0m \u001b[0;34m=\u001b[0m \u001b[0;34m{\u001b[0m\u001b[0;34m'Ocp-Apim-Subscription-Key'\u001b[0m\u001b[0;34m:\u001b[0m \u001b[0mself\u001b[0m\u001b[0;34m.\u001b[0m\u001b[0mclient_secret\u001b[0m\u001b[0;34m}\u001b[0m\u001b[0;34m\u001b[0m\u001b[0;34m\u001b[0m\u001b[0m\n\u001b[1;32m     42\u001b[0m             \u001b[0mresponse\u001b[0m \u001b[0;34m=\u001b[0m \u001b[0mrequests\u001b[0m\u001b[0;34m.\u001b[0m\u001b[0mpost\u001b[0m\u001b[0;34m(\u001b[0m\u001b[0mself\u001b[0m\u001b[0;34m.\u001b[0m\u001b[0mbase_url\u001b[0m\u001b[0;34m,\u001b[0m \u001b[0mheaders\u001b[0m\u001b[0;34m=\u001b[0m\u001b[0mheaders\u001b[0m\u001b[0;34m)\u001b[0m\u001b[0;34m\u001b[0m\u001b[0;34m\u001b[0m\u001b[0m\n\u001b[0;32m---> 43\u001b[0;31m             \u001b[0mresponse\u001b[0m\u001b[0;34m.\u001b[0m\u001b[0mraise_for_status\u001b[0m\u001b[0;34m(\u001b[0m\u001b[0;34m)\u001b[0m\u001b[0;34m\u001b[0m\u001b[0;34m\u001b[0m\u001b[0m\n\u001b[0m\u001b[1;32m     44\u001b[0m \u001b[0;34m\u001b[0m\u001b[0m\n\u001b[1;32m     45\u001b[0m             \u001b[0mself\u001b[0m\u001b[0;34m.\u001b[0m\u001b[0mtoken\u001b[0m \u001b[0;34m=\u001b[0m \u001b[0mresponse\u001b[0m\u001b[0;34m.\u001b[0m\u001b[0mcontent\u001b[0m\u001b[0;34m\u001b[0m\u001b[0;34m\u001b[0m\u001b[0m\n",
      "\u001b[0;32m/mnt/c/Users/Vande/OneDrive - ugentbe/Ingenieurswetenschappen/_master/2MA/big_data_science/project/bds-project-2020/twitter_scraper_test/venv/lib/python3.6/site-packages/requests/models.py\u001b[0m in \u001b[0;36mraise_for_status\u001b[0;34m(self)\u001b[0m\n\u001b[1;32m    939\u001b[0m \u001b[0;34m\u001b[0m\u001b[0m\n\u001b[1;32m    940\u001b[0m         \u001b[0;32mif\u001b[0m \u001b[0mhttp_error_msg\u001b[0m\u001b[0;34m:\u001b[0m\u001b[0;34m\u001b[0m\u001b[0;34m\u001b[0m\u001b[0m\n\u001b[0;32m--> 941\u001b[0;31m             \u001b[0;32mraise\u001b[0m \u001b[0mHTTPError\u001b[0m\u001b[0;34m(\u001b[0m\u001b[0mhttp_error_msg\u001b[0m\u001b[0;34m,\u001b[0m \u001b[0mresponse\u001b[0m\u001b[0;34m=\u001b[0m\u001b[0mself\u001b[0m\u001b[0;34m)\u001b[0m\u001b[0;34m\u001b[0m\u001b[0;34m\u001b[0m\u001b[0m\n\u001b[0m\u001b[1;32m    942\u001b[0m \u001b[0;34m\u001b[0m\u001b[0m\n\u001b[1;32m    943\u001b[0m     \u001b[0;32mdef\u001b[0m \u001b[0mclose\u001b[0m\u001b[0;34m(\u001b[0m\u001b[0mself\u001b[0m\u001b[0;34m)\u001b[0m\u001b[0;34m:\u001b[0m\u001b[0;34m\u001b[0m\u001b[0;34m\u001b[0m\u001b[0m\n",
      "\u001b[0;31mHTTPError\u001b[0m: 401 Client Error: Access Denied for url: https://api.cognitive.microsoft.com/sts/v1.0/issueToken"
     ]
    }
   ],
   "source": [
    "for text in tweets_df['text']:\n",
    "    translation = translator.translate(text)\n",
    "    print(translation)"
   ]
  },
  {
   "cell_type": "markdown",
   "metadata": {},
   "source": [
    "## Sentiment analysis"
   ]
  },
  {
   "cell_type": "code",
   "execution_count": 21,
   "metadata": {},
   "outputs": [
    {
     "output_type": "stream",
     "name": "stderr",
     "text": "[nltk_data] Downloading package vader_lexicon to\n[nltk_data]     /home/arne/nltk_data...\n[nltk_data]   Package vader_lexicon is already up-to-date!\n"
    }
   ],
   "source": [
    "# https://medium.com/@b.terryjack/nlp-pre-trained-sentiment-analysis-1eb52a9d742c\n",
    "import nltk\n",
    "nltk.download('vader_lexicon')\n",
    "from nltk.sentiment.vader import SentimentIntensityAnalyzer\n",
    "sid = SentimentIntensityAnalyzer()"
   ]
  },
  {
   "cell_type": "code",
   "execution_count": 22,
   "metadata": {},
   "outputs": [
    {
     "output_type": "stream",
     "name": "stdout",
     "text": "Peanut butter on toast is my favorite! And it completely homemade is the best! peanut butter sesame honey coconut oil kokenpic.twitter.com/6gEmB0WVsQ\nscore: {'neg': 0.0, 'neu': 0.709, 'pos': 0.291, 'compound': 0.8309}\nThe best combinations of bread - Part 1! | HOMEMADE 1 https://youtu.be/ekAOjiU1z9M via @YouTube\nscore: {'neg': 0.0, 'neu': 0.69, 'pos': 0.31, 'compound': 0.6696}\nNo, barbecues 'we' do not. What meat and fish, but mostly delicious salads, breads and sauces (homemade, not bottle) and of course a bin full of summer fruits. That lust Wen you too!\nscore: {'neg': 0.043, 'neu': 0.812, 'pos': 0.145, 'compound': 0.6948}\nThis weekend, make your own pizza rolls? Piece of cake! Recipe Link in bio! pizza pizza rolls bake home bread baking bread baking ikbakthuis homemade savory snack @ http://baksels.net https://www.instagram.com/p/B_Wg5kcjSWT/?igshid=1am1uc6x10kom ...\nscore: {'neg': 0.0, 'neu': 1.0, 'pos': 0.0, 'compound': 0.0}\nBreadmaker is easy but I find it much better homemade\nscore: {'neg': 0.0, 'neu': 0.547, 'pos': 0.453, 'compound': 0.7003}\nThe sandwich with homemade bread is a long beeeeeeetje pic.twitter.com/jq0wzYcIBt\nscore: {'neg': 0.0, 'neu': 1.0, 'pos': 0.0, 'compound': 0.0}\nParty!\nAnd delicious homemade Turkish bread (or any kind of naan) pic.twitter.com/GYsxTWGxVF\nscore: {'neg': 0.0, 'neu': 0.599, 'pos': 0.401, 'compound': 0.7712}\nAsk them to call me a gift during this isolation and I refer to vol-au-vent with homemade bread from my love. And to you PowerTop500 @Qmusic_BE. How fine which ?! @felicedekens @Matvandenbulcke @sam_debruyn @SymonsThomas @jana_dewilde @WimOosterlinck\nscore: {'neg': 0.064, 'neu': 0.716, 'pos': 0.219, 'compound': 0.7574}\nGlad I also can be a little, it's not leaven but with only 4.5 grams of dry yeast. Patience, poolish, autolysis and here is homemade bread. pic.twitter.com/FkrFHEohrz\nscore: {'neg': 0.0, 'neu': 0.923, 'pos': 0.077, 'compound': 0.25}\n"
    }
   ],
   "source": [
    "# https://towardsdatascience.com/google-translate-api-for-python-723093c2144b\n",
    "translator = Translator()\n",
    "for text in tweets_df['text']:\n",
    "    translation = translator.translate(text).text\n",
    "    print(translation)\n",
    "    print('score: {}'.format(sid.polarity_scores(translation)))"
   ]
  },
  {
   "cell_type": "code",
   "execution_count": 66,
   "metadata": {},
   "outputs": [],
   "source": [
    "def add_translation(row):\n",
    "    text = row['text']\n",
    "    translation = translator.translate(text).text\n",
    "\n",
    "    row['translation'] = translation\n",
    "\n",
    "    return row\n",
    "\n",
    "def sentiment_analysis(row):\n",
    "    trans = row['translation']\n",
    "    sentiment = sid.polarity_scores(trans)\n",
    "\n",
    "    row['negatvie'] = sentiment['neg']\n",
    "    row['neutral'] = sentiment['neu']\n",
    "    row['positive'] = sentiment['pos']\n",
    "\n",
    "    return row\n",
    "\n",
    "\n"
   ]
  },
  {
   "cell_type": "code",
   "execution_count": 63,
   "metadata": {},
   "outputs": [],
   "source": [
    "tweets_df_with_translation = tweets_df.apply(add_translation, axis=1)"
   ]
  },
  {
   "cell_type": "code",
   "execution_count": 67,
   "metadata": {},
   "outputs": [],
   "source": [
    "tweets_df_with_sentiment = tweets_df_with_translation.apply(sentiment_analysis, axis=1)"
   ]
  },
  {
   "cell_type": "code",
   "execution_count": 68,
   "metadata": {},
   "outputs": [
    {
     "output_type": "stream",
     "name": "stdout",
     "text": "user_id                                               text  \\\n0   1165190512292372480  Pindakaas op geroosterd brood blijft mijn favo...   \n1    992354587033198592  De lekkerste combinaties op brood - deel 1! | ...   \n2            1160831334  Nee, zo barbecuen 'wij' ook niet. Wat vlees en...   \n3             547726524  Dit weekend zelf pizzabroodjes maken? Zo gepie...   \n4   1080051624406630404  Broodmachine is makkelijk maar ik vind het bro...   \n5    989165840598818816  De tosti met zelfgemaakt brood is een beeeeeee...   \n6               6360462  Feest!\\nEn lekkers zelfgemaakt Turks brood (of...   \n7             309745298  Vraag me een geschenk te noemen tijdens dit is...   \n8            1173038461  Blij dat ik dat ook een beetje kan, het is gee...   \n9              17534339  baba ganoush of hummus (liefst zelfgemaakt, ge...   \n10             26722751  Het was super lekker! We hebben hier een hele ...   \n11   924234073777811461  Ik weet nog wel dat ik vroeger met Pasen met e...   \n12            547726524  Het is alweer bijna Pasen! Bak deze leuke broo...   \n13             33434673  Hier homemade pizza. \\nArabisch brood halen bi...   \n14           1173038461  De achterste gaat over 20 minuten de oven, de ...   \n15             19018965  Wat mooi. Heerlijk is zelfgemaakt brood! Worst...   \n16             17598773  Culy Homemade: frisse sandwich met citroen-kik...   \n\n    retweets           timestamp  \\\n0          0 2020-04-27 15:26:09   \n1          0 2020-04-27 07:40:23   \n2          0 2020-04-24 21:19:49   \n3          0 2020-04-24 05:24:54   \n4          0 2020-04-22 21:23:37   \n5          0 2020-04-20 14:03:54   \n6          0 2020-04-19 10:46:27   \n7          0 2020-04-15 10:49:27   \n8          0 2020-04-14 16:01:46   \n9          0 2020-04-09 14:17:11   \n10         0 2020-04-09 13:07:58   \n11         0 2020-04-08 05:17:47   \n12         1 2020-04-06 05:54:23   \n13         0 2020-04-05 14:34:12   \n14         0 2020-04-05 13:15:46   \n15         0 2020-04-03 07:30:19   \n16         0 2020-04-02 10:15:02   \n\n                                          translation  negatvie  neutral  \\\n0   Peanut butter on toast is my favorite! And it ...     0.000    0.709   \n1   The best combinations of bread - Part 1! | HOM...     0.000    0.690   \n2   No, barbecues 'we' do not. What meat and fish,...     0.043    0.812   \n3   This weekend, make your own pizza rolls? Piece...     0.000    1.000   \n4   Breadmaker is easy but I find it much better h...     0.000    0.547   \n5   The sandwich with homemade bread is a long bee...     0.000    1.000   \n6   Party!\\nAnd delicious homemade Turkish bread (...     0.000    0.599   \n7   Ask them to call me a gift during this isolati...     0.064    0.716   \n8   Glad I also can be a little, it's not leaven b...     0.000    0.923   \n9   Baba ganoush or hummus (most preferably made, ...     0.000    1.000   \n10  It was super yummy! We have a whole production...     0.000    0.715   \n11  I do remember that I was once at Easter with a...     0.000    1.000   \n12  It's almost Easter! Bake these cute sandwiches...     0.000    0.792   \n13  This homemade pizza.\\npick Arabic bread at Tur...     0.000    0.812   \n14  The rear is about 20 minutes, the oven, the fr...     0.000    0.870   \n15  How beautiful. Delicious is homemade bread! Sa...     0.106    0.719   \n16  Culy Homemade: Fresh sandwich with lemon chick...     0.000    0.776   \n\n    positive  \n0      0.291  \n1      0.310  \n2      0.145  \n3      0.000  \n4      0.453  \n5      0.000  \n6      0.401  \n7      0.219  \n8      0.077  \n9      0.000  \n10     0.285  \n11     0.000  \n12     0.208  \n13     0.188  \n14     0.130  \n15     0.174  \n16     0.224  \n"
    }
   ],
   "source": [
    "print(tweets_df_with_sentiment)"
   ]
  },
  {
   "cell_type": "code",
   "execution_count": null,
   "metadata": {},
   "outputs": [],
   "source": []
  }
 ],
 "metadata": {
  "language_info": {
   "codemirror_mode": {
    "name": "ipython",
    "version": 3
   },
   "file_extension": ".py",
   "mimetype": "text/x-python",
   "name": "python",
   "nbconvert_exporter": "python",
   "pygments_lexer": "ipython3",
   "version": "3.6.9-final"
  },
  "orig_nbformat": 2,
  "kernelspec": {
   "name": "python36964bitvenvvirtualenvaa63ac1f89734736a689a78acc2cc528",
   "display_name": "Python 3.6.9 64-bit ('venv': virtualenv)"
  }
 },
 "nbformat": 4,
 "nbformat_minor": 2
}