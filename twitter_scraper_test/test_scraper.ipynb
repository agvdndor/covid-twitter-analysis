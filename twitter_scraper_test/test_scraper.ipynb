{
 "cells": [
  {
   "cell_type": "code",
   "execution_count": 1,
   "metadata": {},
   "outputs": [
    {
     "output_type": "stream",
     "name": "stderr",
     "text": "INFO: {'User-Agent': 'Mozilla/5.0 (Windows; U; Windows NT 6.1; rv:2.2) Gecko/20110201'}\n"
    }
   ],
   "source": [
    "from twitterscraper import query_tweets\n",
    "from datetime import datetime\n",
    "from pandas import DataFrame"
   ]
  },
  {
   "cell_type": "markdown",
   "metadata": {},
   "source": [
    "## Choose arguments"
   ]
  },
  {
   "cell_type": "code",
   "execution_count": 2,
   "metadata": {},
   "outputs": [
    {
     "output_type": "execute_result",
     "data": {
      "text/plain": "'2020-04-28'"
     },
     "metadata": {},
     "execution_count": 2
    }
   ],
   "source": [
    "datetime.today().strftime('%Y-%m-%d')"
   ]
  },
  {
   "cell_type": "code",
   "execution_count": 3,
   "metadata": {},
   "outputs": [
    {
     "output_type": "stream",
     "name": "stdout",
     "text": "(toiletpapier OR toilet papier OR wc papier OR wc-papier) lang:nl since:2019-09-01 until:2020-04-28\n"
    }
   ],
   "source": [
    "# advanced query\n",
    "location =  None\n",
    "\n",
    "radius = None\n",
    "\n",
    "#terms = [['brood', 'sneetjes', 'broodbakmachine'], ['homemade', 'zelfgemaakt', 'zelfgebakken']]\n",
    "#terms = [['tendeuse', 'tondeuse', 'kaal', 'scheren', 'bald', 'peaky cut', 'corona cut']]\n",
    "#terms = [['corona maatregelen', 'corona boete', 'social distancing', 'corona regels']]\n",
    "terms = [['toiletpapier', 'toilet papier', 'wc papier', 'wc-papier']]\n",
    "\n",
    "\n",
    "# limit (should always be None for our case)\n",
    "limit = None\n",
    "\n",
    "## begin and end date are very import to us\n",
    "begindate = '2019-09-01'\n",
    "enddate = datetime.today().strftime('%Y-%m-%d')\n",
    "\n",
    "lang = 'nl'\n",
    "\n",
    "query = ''\n",
    "for id1, and_group in enumerate(terms):\n",
    "    if id1 == 0:\n",
    "        query += '('\n",
    "    else:\n",
    "        query += ' AND ('\n",
    "    query += ' OR '.join(and_group)\n",
    "    query += ')'\n",
    "\n",
    "if location:\n",
    "    query += ' near:{}'.format(location)\n",
    "if radius:\n",
    "    query += ' within:{}'.format(radius)\n",
    "if lang:\n",
    "    query += ' lang:{}'.format(lang)\n",
    "if begindate:\n",
    "    query += ' since:{}'.format(begindate)\n",
    "if enddate:\n",
    "    query += ' until:{}'.format(enddate)\n",
    "\n",
    "print(query)\n"
   ]
  },
  {
   "cell_type": "code",
   "execution_count": 4,
   "metadata": {},
   "outputs": [],
   "source": [
    "def valid_date(s):\n",
    "    try:\n",
    "        return datetime.strptime(s, \"%Y-%m-%d\").date()\n",
    "    except ValueError:\n",
    "        print(\"Not a valid date: {}\".format(s))\n",
    "\n",
    "begindate = valid_date(begindate)\n",
    "enddate = valid_date(enddate)"
   ]
  },
  {
   "cell_type": "markdown",
   "metadata": {},
   "source": [
    "## Search Tweets"
   ]
  },
  {
   "cell_type": "code",
   "execution_count": 5,
   "metadata": {
    "tags": [
     "outputPrepend",
     "outputPrepend",
     "outputPrepend",
     "outputPrepend",
     "outputPrepend",
     "outputPrepend",
     "outputPrepend",
     "outputPrepend",
     "outputPrepend",
     "outputPrepend",
     "outputPrepend",
     "outputPrepend",
     "outputPrepend",
     "outputPrepend",
     "outputPrepend",
     "outputPrepend",
     "outputPrepend",
     "outputPrepend",
     "outputPrepend",
     "outputPrepend",
     "outputPrepend",
     "outputPrepend",
     "outputPrepend",
     "outputPrepend",
     "outputPrepend",
     "outputPrepend",
     "outputPrepend",
     "outputPrepend",
     "outputPrepend",
     "outputPrepend",
     "outputPrepend",
     "outputPrepend",
     "outputPrepend",
     "outputPrepend",
     "outputPrepend",
     "outputPrepend",
     "outputPrepend",
     "outputPrepend",
     "outputPrepend",
     "outputPrepend",
     "outputPrepend",
     "outputPrepend",
     "outputPrepend",
     "outputPrepend",
     "outputPrepend",
     "outputPrepend",
     "outputPrepend",
     "outputPrepend",
     "outputPrepend",
     "outputPrepend",
     "outputPrepend",
     "outputPrepend",
     "outputPrepend",
     "outputPrepend",
     "outputPrepend",
     "outputPrepend",
     "outputPrepend",
     "outputPrepend",
     "outputPrepend",
     "outputPrepend",
     "outputPrepend",
     "outputPrepend",
     "outputPrepend",
     "outputPrepend",
     "outputPrepend",
     "outputPrepend",
     "outputPrepend",
     "outputPrepend",
     "outputPrepend",
     "outputPrepend",
     "outputPrepend",
     "outputPrepend",
     "outputPrepend",
     "outputPrepend",
     "outputPrepend",
     "outputPrepend",
     "outputPrepend"
    ]
   },
   "outputs": [
    {
     "output_type": "stream",
     "name": "stderr",
     "text": "oiletpapier%20OR%20toilet%20papier%20OR%20wc%20papier%20OR%20wc-papier)%20lang%3Anl%20since%3A2019-09-01%20until%3A2020-04-28%20since%3A2019-09-01%20until%3A2020-04-28&l=nl\nINFO: Using proxy 111.95.23.43:3128\nINFO: Scraping tweets from https://twitter.com/i/search/timeline?f=tweets&vertical=default&include_available_features=1&include_entities=1&reset_error_state=false&src=typd&max_position=thGAVUV0VFVBaCgLChod2vsiIWkMC9gfCMh-oiEjUAFQAlAFUAFQAA&q=(toiletpapier%20OR%20toilet%20papier%20OR%20wc%20papier%20OR%20wc-papier)%20lang%3Anl%20since%3A2019-09-01%20until%3A2020-04-28%20since%3A2019-09-01%20until%3A2020-04-28&l=nl\nINFO: Using proxy 88.99.10.251:1080\nINFO: Scraping tweets from https://twitter.com/i/search/timeline?f=tweets&vertical=default&include_available_features=1&include_entities=1&reset_error_state=false&src=typd&max_position=thGAVUV0VFVBaCgLqdwviMsiIWkMC9gfCMh-oiEjUAFQAlAFUAFQAA&q=(toiletpapier%20OR%20toilet%20papier%20OR%20wc%20papier%20OR%20wc-papier)%20lang%3Anl%20since%3A2019-09-01%20until%3A2020-04-28%20since%3A2019-09-01%20until%3A2020-04-28&l=nl\nINFO: Using proxy 188.40.183.191:1080\nINFO: Scraping tweets from https://twitter.com/i/search/timeline?f=tweets&vertical=default&include_available_features=1&include_entities=1&reset_error_state=false&src=typd&max_position=thGAVUV0VFVBaGwLTd94vHsSIWkMC9gfCMh-oiEjUAFQAlAFUAFQAA&q=(toiletpapier%20OR%20toilet%20papier%20OR%20wc%20papier%20OR%20wc-papier)%20lang%3Anl%20since%3A2019-09-01%20until%3A2020-04-28%20since%3A2019-09-01%20until%3A2020-04-28&l=nl\nINFO: Using proxy 188.40.183.189:1080\nINFO: Scraping tweets from https://twitter.com/i/search/timeline?f=tweets&vertical=default&include_available_features=1&include_entities=1&reset_error_state=false&src=typd&max_position=thGAVUV0VFVBaAwLS5r5O0sSIWkMC9gfCMh-oiEjUAFQAlAFUAFQAA&q=(toiletpapier%20OR%20toilet%20papier%20OR%20wc%20papier%20OR%20wc-papier)%20lang%3Anl%20since%3A2019-09-01%20until%3A2020-04-28%20since%3A2019-09-01%20until%3A2020-04-28&l=nl\nINFO: Using proxy 84.42.247.101:3128\nINFO: Scraping tweets from https://twitter.com/i/search/timeline?f=tweets&vertical=default&include_available_features=1&include_entities=1&reset_error_state=false&src=typd&max_position=thGAVUV0VFVBaOgLCxvNWjsSIWkMC9gfCMh-oiEjUAFQAlAFUAFQAA&q=(toiletpapier%20OR%20toilet%20papier%20OR%20wc%20papier%20OR%20wc-papier)%20lang%3Anl%20since%3A2019-09-01%20until%3A2020-04-28%20since%3A2019-09-01%20until%3A2020-04-28&l=nl\nINFO: Using proxy 5.252.161.48:8080\nINFO: Scraping tweets from https://twitter.com/i/search/timeline?f=tweets&vertical=default&include_available_features=1&include_entities=1&reset_error_state=false&src=typd&max_position=thGAVUV0VFVBaEwLTFhvmXsSIWkMC9gfCMh-oiEjUAFQAlAFUAFQAA&q=(toiletpapier%20OR%20toilet%20papier%20OR%20wc%20papier%20OR%20wc-papier)%20lang%3Anl%20since%3A2019-09-01%20until%3A2020-04-28%20since%3A2019-09-01%20until%3A2020-04-28&l=nl\nINFO: Using proxy 200.150.86.130:3128\nINFO: Scraping tweets from https://twitter.com/i/search/timeline?f=tweets&vertical=default&include_available_features=1&include_entities=1&reset_error_state=false&src=typd&max_position=thGAVUV0VFVBaCgLypsayOsSIWkMC9gfCMh-oiEjUAFQAlAFUAFQAA&q=(toiletpapier%20OR%20toilet%20papier%20OR%20wc%20papier%20OR%20wc-papier)%20lang%3Anl%20since%3A2019-09-01%20until%3A2020-04-28%20since%3A2019-09-01%20until%3A2020-04-28&l=nl\nINFO: Using proxy 158.69.60.89:8080\nINFO: Scraping tweets from https://twitter.com/i/search/timeline?f=tweets&vertical=default&include_available_features=1&include_entities=1&reset_error_state=false&src=typd&max_position=thGAVUV0VFVBaAgLCRncqCsSIWkMC9gfCMh-oiEjUAFQAlAFUAFQAA&q=(toiletpapier%20OR%20toilet%20papier%20OR%20wc%20papier%20OR%20wc-papier)%20lang%3Anl%20since%3A2019-09-01%20until%3A2020-04-28%20since%3A2019-09-01%20until%3A2020-04-28&l=nl\nINFO: Using proxy 103.21.160.10:35101\nINFO: Scraping tweets from https://twitter.com/i/search/timeline?f=tweets&vertical=default&include_available_features=1&include_entities=1&reset_error_state=false&src=typd&max_position=thGAVUV0VFVBaCgLrZ5NL3sCIWkMC9gfCMh-oiEjUAFQAlAFUAFQAA&q=(toiletpapier%20OR%20toilet%20papier%20OR%20wc%20papier%20OR%20wc-papier)%20lang%3Anl%20since%3A2019-09-01%20until%3A2020-04-28%20since%3A2019-09-01%20until%3A2020-04-28&l=nl\nINFO: Using proxy 188.40.183.190:1080\nINFO: Scraping tweets from https://twitter.com/i/search/timeline?f=tweets&vertical=default&include_available_features=1&include_entities=1&reset_error_state=false&src=typd&max_position=thGAVUV0VFVBaGwLSh76rssCIWkMC9gfCMh-oiEjUAFQAlAFUAFQAA&q=(toiletpapier%20OR%20toilet%20papier%20OR%20wc%20papier%20OR%20wc-papier)%20lang%3Anl%20since%3A2019-09-01%20until%3A2020-04-28%20since%3A2019-09-01%20until%3A2020-04-28&l=nl\nINFO: Using proxy 46.4.96.137:3128\nINFO: Scraping tweets from https://twitter.com/i/search/timeline?f=tweets&vertical=default&include_available_features=1&include_entities=1&reset_error_state=false&src=typd&max_position=thGAVUV0VFVBaAgLCF6MWzsCIWkMC9gfCMh-oiEjUAFQAlAFUAFQAA&q=(toiletpapier%20OR%20toilet%20papier%20OR%20wc%20papier%20OR%20wc-papier)%20lang%3Anl%20since%3A2019-09-01%20until%3A2020-04-28%20since%3A2019-09-01%20until%3A2020-04-28&l=nl\nINFO: Using proxy 144.76.214.154:1080\nINFO: Scraping tweets from https://twitter.com/i/search/timeline?f=tweets&vertical=default&include_available_features=1&include_entities=1&reset_error_state=false&src=typd&max_position=thGAVUV0VFVBaAgLDppOensCIWkMC9gfCMh-oiEjUAFQAlAFUAFQAA&q=(toiletpapier%20OR%20toilet%20papier%20OR%20wc%20papier%20OR%20wc-papier)%20lang%3Anl%20since%3A2019-09-01%20until%3A2020-04-28%20since%3A2019-09-01%20until%3A2020-04-28&l=nl\nINFO: Using proxy 176.9.119.170:8080\nINFO: Scraping tweets from https://twitter.com/i/search/timeline?f=tweets&vertical=default&include_available_features=1&include_entities=1&reset_error_state=false&src=typd&max_position=thGAVUV0VFVBaCgLWdusKesCIWkMC9gfCMh-oiEjUAFQAlAFUAFQAA&q=(toiletpapier%20OR%20toilet%20papier%20OR%20wc%20papier%20OR%20wc-papier)%20lang%3Anl%20since%3A2019-09-01%20until%3A2020-04-28%20since%3A2019-09-01%20until%3A2020-04-28&l=nl\nINFO: Using proxy 66.97.43.62:80\nINFO: Scraping tweets from https://twitter.com/i/search/timeline?f=tweets&vertical=default&include_available_features=1&include_entities=1&reset_error_state=false&src=typd&max_position=thGAVUV0VFVBaKwLyJz5uYsCIWkMC9gfCMh-oiEjUAFQAlAFUAFQAA&q=(toiletpapier%20OR%20toilet%20papier%20OR%20wc%20papier%20OR%20wc-papier)%20lang%3Anl%20since%3A2019-09-01%20until%3A2020-04-28%20since%3A2019-09-01%20until%3A2020-04-28&l=nl\nINFO: Using proxy 144.76.214.159:1080\nINFO: Scraping tweets from https://twitter.com/i/search/timeline?f=tweets&vertical=default&include_available_features=1&include_entities=1&reset_error_state=false&src=typd&max_position=thGAVUV0VFVBaAgLu1nuORsCIWkMC9gfCMh-oiEjUAFQAlAFUAFQAA&q=(toiletpapier%20OR%20toilet%20papier%20OR%20wc%20papier%20OR%20wc-papier)%20lang%3Anl%20since%3A2019-09-01%20until%3A2020-04-28%20since%3A2019-09-01%20until%3A2020-04-28&l=nl\nINFO: Using proxy 51.38.184.52:8080\nINFO: Scraping tweets from https://twitter.com/i/search/timeline?f=tweets&vertical=default&include_available_features=1&include_entities=1&reset_error_state=false&src=typd&max_position=thGAVUV0VFVBaAwKD5otOJsCIWkMC9gfCMh-oiEjUAFQAlAFUAFQAA&q=(toiletpapier%20OR%20toilet%20papier%20OR%20wc%20papier%20OR%20wc-papier)%20lang%3Anl%20since%3A2019-09-01%20until%3A2020-04-28%20since%3A2019-09-01%20until%3A2020-04-28&l=nl\nINFO: Using proxy 159.8.114.37:8123\nINFO: Scraping tweets from https://twitter.com/i/search/timeline?f=tweets&vertical=default&include_available_features=1&include_entities=1&reset_error_state=false&src=typd&max_position=thGAVUV0VFVBaCgKeB18CEsCIWkMC9gfCMh-oiEjUAFQAlAFUAFQAA&q=(toiletpapier%20OR%20toilet%20papier%20OR%20wc%20papier%20OR%20wc-papier)%20lang%3Anl%20since%3A2019-09-01%20until%3A2020-04-28%20since%3A2019-09-01%20until%3A2020-04-28&l=nl\nINFO: Using proxy 154.16.202.22:8080\nINFO: Scraping tweets from https://twitter.com/i/search/timeline?f=tweets&vertical=default&include_available_features=1&include_entities=1&reset_error_state=false&src=typd&max_position=thGAVUV0VFVBaEwLTJx6n9ryIWkMC9gfCMh-oiEjUAFQAlAFUAFQAA&q=(toiletpapier%20OR%20toilet%20papier%20OR%20wc%20papier%20OR%20wc-papier)%20lang%3Anl%20since%3A2019-09-01%20until%3A2020-04-28%20since%3A2019-09-01%20until%3A2020-04-28&l=nl\nINFO: Using proxy 167.86.92.107:3128\nINFO: Scraping tweets from https://twitter.com/i/search/timeline?f=tweets&vertical=default&include_available_features=1&include_entities=1&reset_error_state=false&src=typd&max_position=thGAVUV0VFVBaUgLCpx-b1ryIWkMC9gfCMh-oiEjUAFQAlAFUAFQAA&q=(toiletpapier%20OR%20toilet%20papier%20OR%20wc%20papier%20OR%20wc-papier)%20lang%3Anl%20since%3A2019-09-01%20until%3A2020-04-28%20since%3A2019-09-01%20until%3A2020-04-28&l=nl\nINFO: Using proxy 196.2.14.250:51929\nINFO: Scraping tweets from https://twitter.com/i/search/timeline?f=tweets&vertical=default&include_available_features=1&include_entities=1&reset_error_state=false&src=typd&max_position=thGAVUV0VFVBaAgLuh0uPsryIWkMC9gfCMh-oiEjUAFQAlAFUAFQAA&q=(toiletpapier%20OR%20toilet%20papier%20OR%20wc%20papier%20OR%20wc-papier)%20lang%3Anl%20since%3A2019-09-01%20until%3A2020-04-28%20since%3A2019-09-01%20until%3A2020-04-28&l=nl\nINFO: Using proxy 188.40.183.185:1080\nINFO: Scraping tweets from https://twitter.com/i/search/timeline?f=tweets&vertical=default&include_available_features=1&include_entities=1&reset_error_state=false&src=typd&max_position=thGAVUV0VFVBaCgLupsvblryIWkMC9gfCMh-oiEjUAFQAlAFUAFQAA&q=(toiletpapier%20OR%20toilet%20papier%20OR%20wc%20papier%20OR%20wc-papier)%20lang%3Anl%20since%3A2019-09-01%20until%3A2020-04-28%20since%3A2019-09-01%20until%3A2020-04-28&l=nl\nINFO: Using proxy 85.10.219.99:1080\nINFO: Scraping tweets from https://twitter.com/i/search/timeline?f=tweets&vertical=default&include_available_features=1&include_entities=1&reset_error_state=false&src=typd&max_position=thGAVUV0VFVBaCgLz98srZryIWkMC9gfCMh-oiEjUAFQAlAFUAFQAA&q=(toiletpapier%20OR%20toilet%20papier%20OR%20wc%20papier%20OR%20wc-papier)%20lang%3Anl%20since%3A2019-09-01%20until%3A2020-04-28%20since%3A2019-09-01%20until%3A2020-04-28&l=nl\nINFO: Using proxy 144.76.214.155:1080\nINFO: Scraping tweets from https://twitter.com/i/search/timeline?f=tweets&vertical=default&include_available_features=1&include_entities=1&reset_error_state=false&src=typd&max_position=thGAVUV0VFVBaAwLTNxvvLryIWkMC9gfCMh-oiEjUAFQAlAFUAFQAA&q=(toiletpapier%20OR%20toilet%20papier%20OR%20wc%20papier%20OR%20wc-papier)%20lang%3Anl%20since%3A2019-09-01%20until%3A2020-04-28%20since%3A2019-09-01%20until%3A2020-04-28&l=nl\nINFO: Using proxy 51.158.119.88:8811\nINFO: Scraping tweets from https://twitter.com/i/search/timeline?f=tweets&vertical=default&include_available_features=1&include_entities=1&reset_error_state=false&src=typd&max_position=thGAVUV0VFVBaCgLqBsub_riIWkMC9gfCMh-oiEjUAFQAlAFUAFQAA&q=(toiletpapier%20OR%20toilet%20papier%20OR%20wc%20papier%20OR%20wc-papier)%20lang%3Anl%20since%3A2019-09-01%20until%3A2020-04-28%20since%3A2019-09-01%20until%3A2020-04-28&l=nl\nINFO: Using proxy 185.37.213.76:30695\nINFO: Scraping tweets from https://twitter.com/i/search/timeline?f=tweets&vertical=default&include_available_features=1&include_entities=1&reset_error_state=false&src=typd&max_position=thGAVUV0VFVBaOwL7RmozwriIWkMC9gfCMh-oiEjUAFQAlAFUAFQAA&q=(toiletpapier%20OR%20toilet%20papier%20OR%20wc%20papier%20OR%20wc-papier)%20lang%3Anl%20since%3A2019-09-01%20until%3A2020-04-28%20since%3A2019-09-01%20until%3A2020-04-28&l=nl\nINFO: Using proxy 81.16.10.141:30603\nINFO: Scraping tweets from https://twitter.com/i/search/timeline?f=tweets&vertical=default&include_available_features=1&include_entities=1&reset_error_state=false&src=typd&max_position=thGAVUV0VFVBaCgLuFwI2griIWkMC9gfCMh-oiEjUAFQAlAFUAFQAA&q=(toiletpapier%20OR%20toilet%20papier%20OR%20wc%20papier%20OR%20wc-papier)%20lang%3Anl%20since%3A2019-09-01%20until%3A2020-04-28%20since%3A2019-09-01%20until%3A2020-04-28&l=nl\nINFO: Using proxy 144.76.214.153:1080\nINFO: Scraping tweets from https://twitter.com/i/search/timeline?f=tweets&vertical=default&include_available_features=1&include_entities=1&reset_error_state=false&src=typd&max_position=thGAVUV0VFVBaAgKPJiZjZrCIWkMC9gfCMh-oiEjUAFQAlAFUAFQAA&q=(toiletpapier%20OR%20toilet%20papier%20OR%20wc%20papier%20OR%20wc-papier)%20lang%3Anl%20since%3A2019-09-01%20until%3A2020-04-28%20since%3A2019-09-01%20until%3A2020-04-28&l=nl\nINFO: Using proxy 144.76.214.157:1080\nINFO: Scraping tweets from https://twitter.com/i/search/timeline?f=tweets&vertical=default&include_available_features=1&include_entities=1&reset_error_state=false&src=typd&max_position=thGAVUV0VFVBaCwL2V4IvwqiIWkMC9gfCMh-oiEjUAFQAlAFUAFQAA&q=(toiletpapier%20OR%20toilet%20papier%20OR%20wc%20papier%20OR%20wc-papier)%20lang%3Anl%20since%3A2019-09-01%20until%3A2020-04-28%20since%3A2019-09-01%20until%3A2020-04-28&l=nl\nINFO: Using proxy 188.40.183.184:1080\nINFO: Scraping tweets from https://twitter.com/i/search/timeline?f=tweets&vertical=default&include_available_features=1&include_entities=1&reset_error_state=false&src=typd&max_position=thGAVUV0VFVBaAgLDNku7tpiIWkMC9gfCMh-oiEjUAFQAlAFUAFQAA&q=(toiletpapier%20OR%20toilet%20papier%20OR%20wc%20papier%20OR%20wc-papier)%20lang%3Anl%20since%3A2019-09-01%20until%3A2020-04-28%20since%3A2019-09-01%20until%3A2020-04-28&l=nl\nINFO: Using proxy 36.72.155.120:8080\nINFO: Scraping tweets from https://twitter.com/i/search/timeline?f=tweets&vertical=default&include_available_features=1&include_entities=1&reset_error_state=false&src=typd&max_position=thGAVUV0VFVBaAgLvtkr6aoyIWkMC9gfCMh-oiEjUAFQAlAFUAFQAA&q=(toiletpapier%20OR%20toilet%20papier%20OR%20wc%20papier%20OR%20wc-papier)%20lang%3Anl%20since%3A2019-09-01%20until%3A2020-04-28%20since%3A2019-09-01%20until%3A2020-04-28&l=nl\nINFO: Using proxy 178.128.206.2:80\nINFO: Scraping tweets from https://twitter.com/i/search/timeline?f=tweets&vertical=default&include_available_features=1&include_entities=1&reset_error_state=false&src=typd&max_position=thGAVUV0VFVBaCwLr9u8vSmSIWkMC9gfCMh-oiEjUAFQAlAFUAFQAA&q=(toiletpapier%20OR%20toilet%20papier%20OR%20wc%20papier%20OR%20wc-papier)%20lang%3Anl%20since%3A2019-09-01%20until%3A2020-04-28%20since%3A2019-09-01%20until%3A2020-04-28&l=nl\nINFO: Using proxy 144.76.214.158:1080\nINFO: Scraping tweets from https://twitter.com/i/search/timeline?f=tweets&vertical=default&include_available_features=1&include_entities=1&reset_error_state=false&src=typd&max_position=thGAVUV0VFVBaAwLrdudrhgiIWkMC9gfCMh-oiEjUAFQAlAFUAFQAA&q=(toiletpapier%20OR%20toilet%20papier%20OR%20wc%20papier%20OR%20wc-papier)%20lang%3Anl%20since%3A2019-09-01%20until%3A2020-04-28%20since%3A2019-09-01%20until%3A2020-04-28&l=nl\nINFO: Using proxy 47.52.255.67:80\nINFO: Scraping tweets from https://twitter.com/i/search/timeline?f=tweets&vertical=default&include_available_features=1&include_entities=1&reset_error_state=false&src=typd&max_position=thGAVUV0VFVBaIgLeB1Z7e7yEWkMC9gfCMh-oiEjUAFQAlAFUAFQAA&q=(toiletpapier%20OR%20toilet%20papier%20OR%20wc%20papier%20OR%20wc-papier)%20lang%3Anl%20since%3A2019-09-01%20until%3A2020-04-28%20since%3A2019-09-01%20until%3A2020-04-28&l=nl\nINFO: Using proxy 117.242.37.179:32597\nINFO: Scraping tweets from https://twitter.com/i/search/timeline?f=tweets&vertical=default&include_available_features=1&include_entities=1&reset_error_state=false&src=typd&max_position=thGAVUV0VFVBaAwLrBvLGp2yEWkMC9gfCMh-oiEjUAFQAlAFUAFQAA&q=(toiletpapier%20OR%20toilet%20papier%20OR%20wc%20papier%20OR%20wc-papier)%20lang%3Anl%20since%3A2019-09-01%20until%3A2020-04-28%20since%3A2019-09-01%20until%3A2020-04-28&l=nl\nINFO: Using proxy 159.203.61.169:3128\nINFO: Scraping tweets from https://twitter.com/i/search/timeline?f=tweets&vertical=default&include_available_features=1&include_entities=1&reset_error_state=false&src=typd&max_position=thGAVUV0VFVBaCgLep1-3PwSEWkMC9gfCMh-oiEjUAFQAlAFUAFQAA&q=(toiletpapier%20OR%20toilet%20papier%20OR%20wc%20papier%20OR%20wc-papier)%20lang%3Anl%20since%3A2019-09-01%20until%3A2020-04-28%20since%3A2019-09-01%20until%3A2020-04-28&l=nl\nINFO: Using proxy 115.178.97.176:23500\nINFO: Scraping tweets from https://twitter.com/i/search/timeline?f=tweets&vertical=default&include_available_features=1&include_entities=1&reset_error_state=false&src=typd&max_position=thGAVUV0VFVBaAwLW57YShsyEWkMC9gfCMh-oiEjUAFQAlAFUAFQAA&q=(toiletpapier%20OR%20toilet%20papier%20OR%20wc%20papier%20OR%20wc-papier)%20lang%3Anl%20since%3A2019-09-01%20until%3A2020-04-28%20since%3A2019-09-01%20until%3A2020-04-28&l=nl\nINFO: Using proxy 181.196.145.106:50899\nINFO: Scraping tweets from https://twitter.com/i/search/timeline?f=tweets&vertical=default&include_available_features=1&include_entities=1&reset_error_state=false&src=typd&max_position=thGAVUV0VFVBaEgLed_OjxnyEWkMC9gfCMh-oiEjUAFQAlAFUAFQAA&q=(toiletpapier%20OR%20toilet%20papier%20OR%20wc%20papier%20OR%20wc-papier)%20lang%3Anl%20since%3A2019-09-01%20until%3A2020-04-28%20since%3A2019-09-01%20until%3A2020-04-28&l=nl\nINFO: Using proxy 82.119.170.106:8080\nINFO: Scraping tweets from https://twitter.com/i/search/timeline?f=tweets&vertical=default&include_available_features=1&include_entities=1&reset_error_state=false&src=typd&max_position=thGAVUV0VFVBaAgLe5-IvHjiEWkMC9gfCMh-oiEjUAFQAlAFUAFQAA&q=(toiletpapier%20OR%20toilet%20papier%20OR%20wc%20papier%20OR%20wc-papier)%20lang%3Anl%20since%3A2019-09-01%20until%3A2020-04-28%20since%3A2019-09-01%20until%3A2020-04-28&l=nl\nINFO: Using proxy 46.4.96.87:80\nINFO: Scraping tweets from https://twitter.com/i/search/timeline?f=tweets&vertical=default&include_available_features=1&include_entities=1&reset_error_state=false&src=typd&max_position=thGAVUV0VFVBaAwL7ly-nW-CAWkMC9gfCMh-oiEjUAFQAlAFUAFQAA&q=(toiletpapier%20OR%20toilet%20papier%20OR%20wc%20papier%20OR%20wc-papier)%20lang%3Anl%20since%3A2019-09-01%20until%3A2020-04-28%20since%3A2019-09-01%20until%3A2020-04-28&l=nl\nINFO: Using proxy 176.9.35.158:808\nINFO: Scraping tweets from https://twitter.com/i/search/timeline?f=tweets&vertical=default&include_available_features=1&include_entities=1&reset_error_state=false&src=typd&max_position=thGAVUV0VFVBaAwLy1yoGK4iAWkMC9gfCMh-oiEjUAFQAlAFUAFQAA&q=(toiletpapier%20OR%20toilet%20papier%20OR%20wc%20papier%20OR%20wc-papier)%20lang%3Anl%20since%3A2019-09-01%20until%3A2020-04-28%20since%3A2019-09-01%20until%3A2020-04-28&l=nl\nINFO: Using proxy 61.238.21.177:80\nINFO: Scraping tweets from https://twitter.com/i/search/timeline?f=tweets&vertical=default&include_available_features=1&include_entities=1&reset_error_state=false&src=typd&max_position=thGAVUV0VFVBaCgLvVrMyN1SAWkMC9gfCMh-oiEjUAFQAlAFUAFQAA&q=(toiletpapier%20OR%20toilet%20papier%20OR%20wc%20papier%20OR%20wc-papier)%20lang%3Anl%20since%3A2019-09-01%20until%3A2020-04-28%20since%3A2019-09-01%20until%3A2020-04-28&l=nl\nINFO: Using proxy 42.3.51.34:80\nINFO: Scraping tweets from https://twitter.com/i/search/timeline?f=tweets&vertical=default&include_available_features=1&include_entities=1&reset_error_state=false&src=typd&max_position=thGAVUV0VFVBaCwLXl9sqNuyAWkMC9gfCMh-oiEjUAFQAlAFUAFQAA&q=(toiletpapier%20OR%20toilet%20papier%20OR%20wc%20papier%20OR%20wc-papier)%20lang%3Anl%20since%3A2019-09-01%20until%3A2020-04-28%20since%3A2019-09-01%20until%3A2020-04-28&l=nl\nINFO: Using proxy 188.165.141.114:3129\nINFO: Scraping tweets from https://twitter.com/i/search/timeline?f=tweets&vertical=default&include_available_features=1&include_entities=1&reset_error_state=false&src=typd&max_position=thGAVUV0VFVBaAgLu5yt7dtSAWkMC9gfCMh-oiEjUAFQAlAFUAFQAA&q=(toiletpapier%20OR%20toilet%20papier%20OR%20wc%20papier%20OR%20wc-papier)%20lang%3Anl%20since%3A2019-09-01%20until%3A2020-04-28%20since%3A2019-09-01%20until%3A2020-04-28&l=nl\nINFO: Using proxy 92.247.93.142:43441\nINFO: Twitter returned : 'has_more_items' \nINFO: Got 1490 tweets for (toiletpapier%20OR%20toilet%20papier%20OR%20wc%20papier%20OR%20wc-papier)%20lang%3Anl%20since%3A2019-09-01%20until%3A2020-04-28%20since%3A2019-09-01%20until%3A2020-04-28.\nINFO: Got 1490 tweets (1490 new).\n"
    }
   ],
   "source": [
    "tweets = query_tweets(query= query, limit=limit, begindate=begindate, enddate=enddate, poolsize=1, lang=lang)"
   ]
  },
  {
   "cell_type": "code",
   "execution_count": 6,
   "metadata": {
    "tags": [
     "outputPrepend"
    ]
   },
   "outputs": [
    {
     "output_type": "stream",
     "name": "stdout",
     "text": " daarom is het handig als de verkoper iets meer uitlegt aan de deur. Dan alleen maar zeggen dat ie toilet papier verkoopt voor Sierra Leone.  Maar fijn dat het allemaal goed is. Ik hoop dat de man veel verkoopt \nIemand aan de deur die toilet papier van de action verkoopt voor kinderen in Sierra Leone? Raar verhaal @POL_Kampen ?\nTijd voor actie: https://www.youtube.com/watch?v=WBx_0e5jagw …\nToiletpapier met een missie! Het toiletpapier is van 100% gerecycled Pools oud papier, verkrijgbaar bij de buurtwinkel in Warszawa. Zal ze leren.  pic.twitter.com/kQpvpmxCox\nAmerikaans onderzoek heeft uitgewezen dat veel toiletpapier ongebruikt wordt doorgespoeld. Dit papier wordt tegenwoordig apart ingezameld en gerecycled.\nWanneer je haast hebt dus niet checkt of er wc papier hangt in het toilet en je komt erachter dat het er niet is \nGoed bezig Bente! Lekker de aandacht afleiden van jouw corrupte ambtsgenoten! Volgens mij denk je ook nog dat niemand dat doorziet! Graag de vragen printen op rollen toilet papier, breng ik deze wel naar de toiletten op Schiphol, daar horen ze thuis!\nWat moet jij genieten zeg...  Eigen toilet met papier, warme douche, warme kamers. Daar zit muziek in. Reken daar maar op. https://twitter.com/CFuturi/status/1203195370454560771 …\nOnlangs nog een paar verkopers van de @volkskrant op straat Op de vraag of ik 'n #Volkskrant wilde hebben: Nee dank je wel, wij kunnen gewoon toilet papier kopen hoor \nDie is voor op het toilet. Mocht het wc papier onverhoopt opraken. \nHet toilet papier was op vanmorgen. @thierrybaudet zou zeggen dat het de schuld van de buitenlanders was #Satire\nJaaaaa... Liefdesverdriet.... Hamster dood... Toilet verstopt met teveel wc papier. Allemaal malaise \nHet hangt in ons vip toilet ...\n... als afveeg papier , na het plassen .\nDe oudere druppende mannetjes .\nDaar is ie goed in . Hun gezeik ' af te horen '. In het kommetje van zijn oortje .\n\nMeneer https://twitter.com/AlfredAlfred009/status/1201208545330573313 …\nWat is er precies aan de hand met het toilet? Is het verstopt, vervuild, wc papier? Wij mogen bij verstopte toiletten niet reinigen omdat er een monteur aan te pas komt. Als je kunt specificeren zoals aangegeven kunnen wij gerichte instructies geven ad reiniger. ^AK\nStel dat je het vergeet...heb je minder dorst, koop je minder drank, ben je minder vaak op toilet (wc papier), heb je dus ook nog wel zin in wat meer... Jij snapt commercie niet, jij wil gewoon een normaal stukje vlees...pfff\nToilet papier maken heeft meer gezuiverd water nodig. En vervuilt het water.\nIk ga speciaal toilet papier bestellen met de EU vlag erop. \nLang, lang geleden alweer. Het papier dat ik gebruikt heb om bezwaar aan te schrijven had ik beter als toiletpapier kunnen gebruiken, dan had het nog wat nut gehad.\nOp een echte mannen toilet met speakers en voldoende papier om rustig je gang te gaan.\nSterkte en beterschap (zacht toilet papier aangeeft )\nIk gebruik m wel als toilet papier\n-Ik zie dat je verschillende religieuze boeken op het toilet hebt liggen..\n~Ja klopt, voor als het papier op is.\n\nEn dat was het stukje religie op de zondag middag dat ik wilde delen.\n#PPP: poep, plas en papier in je toilet... de rest doe je gewoon in je vuilnisbak https://twitter.com/CleanCoasts/status/1198572115269734402 …\nNederland zal er ook geen traan om laten als de over de datum zijnde Henk Spaan, zijn commentaar voortaan op wc papier schrijft en het door zijn eigen toilet spoelt.\nOok in het gebied van @Vechtstromen nog steeds een groot probleem. Alleen de 3 P’s mogen door het riool; Poep, Plas en (toilet) Papier! #waternietinkomthoefterooknietuit!\n\nRioolgemalen verstopt met billendoekjes, waterschap wordt onnodig op kosten gejaagdhttp://rtvoo.st/2LeO \nMooi politiek antwoord: de zienswijzes zijn welkom. Vervolgens belanden ze op het toilet en worden ze behandeld als wc papier. Wanneer gaat Pro 98 voor haar burgers opkomen ipv de plannetjes van de wethouder altijd te steunen????\nIk was super knap, opgedoft alles cuz I felt like it. We zien elkaar en hij zegt dat hij ziek is en zich niet goed voelt maar hij wou me echt zien. Hij nodigt me uit bij hem en eens gearriveerd vraagt hij of ik wil koken (???) en er was geen wc papier in zijn toilet https://twitter.com/LakerGangDay/status/1197237390299009026 …\nIk zit op de wc @ stage en er is geen toilet papier in de wc..FUCK\nSpeciaal lijstje gemaakt met extra boodschappen zodat ik niet met alleen toiletpapier bij de kassa zou staan, want dat staat zo van ik moest naar de wc maar papier was op kuttzooi, nu heb k een tas vol boodschappen BEHALVE TOILETPAPIER GRRRRLKJASFLKJSAF@@!!! \nVandaag is het #WereldToiletdag. Wat mag je door het toilet spelen? En hoeveel papier spoelen wij per dag door het toilet? Het programma Groen Doen op http://Oefenen.nl  daagt je uit om na te denken over hoe jij woont. \nhttp://bit.ly/Groen_Doen pic.twitter.com/f1tjppWKHO\nEen oplossing kan ook zijn door vóór je naar het toilet gaat, je eerst 2 velletjes wc papier legt over het watergedeelte, toch ?\nNiks is meer veilig nie. Een van die dae steel hulle tot jou toilet papier uit jou toilet\nOk. Wie stak de laatste rol wc papier op de houder en dacht niet om even het voorraadje in het toilet aan te vullen.\nEn wie liet daarna die aangebroken rol achter met nog 4 velletjes zonder te checken of er nog nieuwe rollen stonden?\nIk meen dat die vent links woont in een huis gebouwd van afval hout en boombladeren, en alleen maar rauwe groenten eet en slaapt op een matras gemaakt van papier maché afkomstig van gerecycled toiletpapier ??\nThe Good Roll Toiletpapier van Gerecycled Papier: Je Billen Afvegen Voor Het Goede Doel\n https://www.stichtingmilieunet.nl/andersbekekenblog/agenda/the-good-roll-toiletpapier-van-gerecycled-papier-je-billen-afvegen-voor-het-goede-doel.html …\n@NS_online @HagoRailService Het toilet van treinstel 2720 heeft wat vloeistof op de vloer en wc-bril. Er is geen wc papier meer om het enigzinds op te schonen, waarmee het toilet praktisch onbruikbaar is. Kan dit gereinigd worden? Het stel rijdt als trein 5669 naar Zwolle. pic.twitter.com/Ex3ZNcCIGC\nDat is wel lastig. Dat wordt dan een nieuwe tablet kopen. \nDigitaal is leuk maar ik blijf toch graag papier gebruiken, aantekeningen maken, een boek lezen, krant lezen.  \nOh en gewoon toiletpapier\nOverigens geheel terzijde. Veel Afrikaanse stammen nemen ook een fles water mee naar het toilet. Ze gebruiken water ipv WC papier\nHet is dank die tweeverdieners dat hij subsidies krijgt. Toilet papier kopen moet niet want zijn gat afkuisen dat hij in publieke ruimtes.\nToilet papier met 12 laagjes, volgens mij uitgevonden door de orde der loodgieters, Da spoelt nie weg ?! @patrickvdbp \nTrouwens Page toilet papier is in de aanbieding bij Blokker! 8 rollen voor 2,30 ofzo\n\nEn LETTELRIJK alle wasmiddel bij AH maar ik zou bij Kruidvat gaan want daar is nog goedkoper\nI swear als mijn broertje nog een keer naar toilet gaat en het toilet papier niet aanvult gaan er klappen vallen \nNRC......altijd handig als je zonder toilet papier komt te zitten\nThierry z’n tere billetjes kunnen niets anders verdragen dan vierdaags toilet papier toch? Hoort bij onze cultuur\n@GroenLeven bedankt voor jullie krantje het toilet papier was net op \nAls de nationale veiligheid in het geding is ,[en dat is zo] dan kan de regering dit vonnis gewoon als toilet papier gebruiken ! https://twitter.com/DDStandaard/status/1193937186413920257 …\nOnlangs las ik dat er in toilet papier zelfs gelatine verwerkt zit. Ik snap wel dat dit reststromen zijn, maar of het dan weer nodig is, vind ik een heel andere conclusie... Aan de ene kant een grappige opmerking, aan de andere kant hallucinant hoe dieren producten zijn geworden\nNeemt het papier vocht op??  Dan gebruiken als toiletpapier!\nThuis op de toilet neem ik altijd per twee velletjes wc papier. Maar bij iemand anders zijn thuis neem ik per vier velletjes wc papier. \nIs dat erover of moet dat kunnen? Is eigenlijk  Niet echt rechtvaardig he....\nSorry wij hebben geen toilet papier \nIk lees @DonArturito op twitter. Kranten lees ik sowieso niet behalve de #PostOffline\nZoals je wel uit mn ava af kunt leiden ben ik van n generatie die papier alleen nog gebruikt op een toilet.\nOf in het geval van de PostOffline in fluwelen doeken gewikkeld in de kluis.\nDaai DA gatkruip plan het al lank al gesink. Die wit man probeer en hulle bly ons haat en ons vertrap. Hul noem ons nie verniet toilet papier onder mekaar nie.\nWij gaan later spenden op die ultra soft 6layer toilet papier met vanille geur €€€€€€€€\n@NS_online Treinstel 9407 heeft een defect toilet dat automatisch afgeloten (handig stukje techniek, maar omdat hij niet afgeplakt is staan mensen nu voor niks te wachten). Op het andere toilet is geen papier. Kan dit doorgegeven worden? Het stel rijd als IC 3155 naar Nm.\nRerig? Dink ek moet maar die rolletjie toilet papier sitkamer toe bring. https://twitter.com/MarcelleGordon/status/1190606393339830272 …\nElien vroeg mij overlaatst op ne voordrink of ik een toilet had op kot.\n\nWat ik wou zeggen: \nja op de tafel ligt er nog papier want ‘t wc-papier is op, maar de wc is in de gang achteraan links’\n\nWat ik zei: \nja op de tafel \n\nEn toen was ik afgeleid en liep ik weg hahahahADHD\nLaat ek maar nog n rolletjie toilet papier gaan uithaal.  https://twitter.com/derekalberts1/status/1189509761156419585 …\nIk heb ook vernomen dat vochtig toiletpapier eigenlijk niet goed is voor je ivm irriterende stoffen in vocht papier\nSommige mensen moeten echt niet in koffieshops werken... De grond plakt hier and er is geen papier meer beschikbaar in het toilet.\n\"Ah OK in vul het subiet weer bij!\" *zit een kwart met een glimlach op haar gsm* over lui personeel gesproken..\nStraks meldt hij nog dat hij is overgestapt op ander merk toilet papier en dat hij maar drie velletjes gebruikt om de CO2 uitstoot terug te brengen. De armoede van politiek ten top.\nDat je uberhaupt papier gebruikt, ik had je toch wel op een zacht paarlende douchestraal ingeschat van een luxe bidet of zo’n Japans high-tech toilet. \nWag ek kom saam met my pt broek dan koop ons cheap siegrêts, one ply toilet papier en n paar quarts black label. Kief my goose ek sê.\nMen gebruikt gewoon wat meer toilet papier in plaats van een velletje of men gebruikt er vochtig toiletpapier by..\nTPO plus: Toilet Papier Op, dus dumpen we onze shit maar op het internet.\nJe kan ook dubbel vouwen heb je ook 2 laags toilet papier \n4 laags toilet papier hier in huis want iedereen verdient een schone bibs. https://twitter.com/zwartmaantje/status/1186704751670579202 …\nKunnen we dit niet op toiletpapier laten drukken?\n\nIn plaats van de televisie ploeg te bekogelen zou je dan onder het motto vreedzaam \"versieren\" die hele club in dit toilet papier draperen dat zouden ze nooit uit kunnen zenden pic.twitter.com/PuKgdqIg1u\nKaas. Brood. Koffie. Toiletpapier. Courgette. Aubergine. Vegaburgers. Wortels. Azijn. Noten. Eieren. Kattengrit. Bananen. Sandwichspread. Boter. Olijfolie.  Sorry ff geen pen en papier bij de hand. Ben ik nog iets vergeten?\nGlo my, jy loop net een keer deur die veld sonder toilet papier\n@NMBS goedemorgen ic uit nl naar Brussel aankomst 11.15 toilet helemaal verstopt zou dit geleegd en gereinigd kunnen worden hele verstopping ligt super veel toilet papier in dat is reden verstopping\nLankal jy eet toilet papier \nYes, op naar 150 partijen. Hebben we tenminste wat te kiezen. Stembiljetten als toilet papier. Ideaal want met de verkiezingsuitslag veegt men sowieso de .....!\nZe deden hier net een van expireren met wc papier en de rest hoeveel er in het toilet kan\nKill met alles reed ik in me auto, toilet papier, deo, extra kleding. Ptjieng torie! https://twitter.com/G_Frijmi/status/1184038149988765697 …\nals je niet aan ziet komen dat je toilet papier opraakt doe  je toch echt iets verkeerd. @peterjandewerk\nIk vraag mij af hoe ze die lessen geven in landen zonder toilet papier en zo \nBij ons op kantoor worden ze netjes gescheiden en schijnen ze er toilet papier van te maken.\nOké hoe gaan mensen naar toilet zonder door hun wc papier te zitten?? I need to pee and I’m scared https://twitter.com/ShauniBckstl/status/1182743499822813184 …\nNee hoor lekker proppen en meer toilet papier.\nIk heb ook een quran. Om te weten waar ik het over heb. Maar zodra het probleem van #islam verdwenen is, doneer ik hem met liefde aan het oud papier om een tweede leven als toiletpapier tegemoet te gaan. Recyclen doen we immers samen. \n1 velletje toilet papier 'beste dat we hebben '.\n... viezerik ... poten af van Nederland en de boeren of wat dan ook . Koning , dit kan niet .\nEen hele sector !!!! Onze economie ' koninklijke toelage '. Hallo is er iemand .\n\nhttps://nos.nl/ttapp pic.twitter.com/1fOp3qWS48\n@NS_online en @HagoRailService de complimenten voor het prachtig schone toilet op treinstel 4223! Het blinkt, er is wc papier en de kraan werkt! Het enige wat jammer is dat de zeep op is, maar het ziet er goed uit. Hier word ik blij van \nvandaag heb ik: vuilniszak weggebracht, papier weggebracht, toiletpapier gekocht, stofgezogen, keuken opgeruimd EN alle handdoeken / schoonmaak doekjes gewassen \n\nwie geeft me een schouderklopje \nAls #Volkskrant een andere papier zou nemen. Dan overweeg ik het wel om het als toiletpapier te gaan gebruiken!\nWarre en ik spelen “steen, papier, schaar” om te bepalen wie er het eerst naar het toilet mag. Ja. Dat.\nWanneer je op het toilet zit en het te laat is om te stoppen, maar je hebt nog niet gecheckt of er wel wc papier is. pic.twitter.com/DnvNZ8radv\nEr overheen wrijven met toilet papier schijnt te helpen \nvoor 30 EURO AAN TOILET PAPIER! Daar doe ik een jaar mee!! #steenrijkstraatarm\nPrima te gebruiken als toilet papier om vervolgens retour afzender te sturen.\nEn ja het linkse krantje steunt haar oprecht. @AD afgekeurd papier voor toiletpapier. Diep triest clubje\nWho the fuck cares. Toilet lectuur. Als je een abbo hebt, opzeggen. Papier, transport, milieu vervuiling. Kan het kantoor en fabriek waar die troep gedrukt wordt meteen dicht.\nDe meeste couranten zijn niets meer dan bedrukt toilet papier die hun subsidiegevers ter wille zijn. Vol-geleugend door politieke activisten die zich journalist noemt. Zeker het AD .. wie leest die pulp nu nog ????\nDe meeste couranten zijn niets meer dan bedrukt toilet papier die hun subsidiegevers ter wille zijn. Vol-geleugend door politieke activisten die zich journalist noemt. Zeker het AD .. wie leest die pulp nu nog ???? https://twitter.com/DDStandaard/status/1178958620605575169 …\nVerkocht .. weer een klant blij gemaakt! Super scherpe papier prijzen @pro_hygiene cleanstar_benelux #groothandel #schoonmaak #schoonmaakgroothandel #papierhier #toilet #toiletpaper #fayonschoonmaakgroothandel… https://www.instagram.com/p/B3ERZUAIf57/?igshid=11q3p4ziepwjn …\nOjawel hoor hij denkt wél aan het toilet papier..\n‘Page vochtig toilet papier’ doet aan stilzwijgend verminderen. Dus dat wordt vegen met minder voor dezelfde prijs. En @Fietshokje verkoopt ebike die na reparatie zoek raakt. En natuurlijk nog veel meer! Vnvnd in @avrotrosradar 20.30 u @NPO1 #radar\nVorige keer zag ik er een met een rol toilet papier onder zijn arm, vond ik ook al zo vreemd!\nWanneer ge in de hemel op het wc zit en de rol toilet papier laat vallen. pic.twitter.com/uYudEncL5q\nWist je dat ...\n... het toiletpapier in badkamers van hotels in een puntje wordt gevouwen om je te laten weten dat het toilet schoon is? De schoonmakers vouwen een puntje in het uiteinde van het papier, zodat je... https://www.facebook.com/bert.haveman.3/posts/10156855324497547 …\nDie perd dink nie mooi nie,hoe gaan hy nou sy gat afvee sonder die rol toilet papier\nHy moet daai toilet papier gebruik om die kak uit sy mond uit te vee #johandejonge\nKyk net die ou boks ... wie ry met toilet papier in hulle kar rond in elk geval ? #JohanIsNouKwaad #BokTwitterhttps://twitter.com/perryperry013/status/1177161216835379200 …\nNiks toilet papier in die toilet nie. Ek gaan nou wag tot dit droog is \n\nMy bene raak lum nou....fok\nAs die staat more se jy mag nie jou gat af vee met n donkerder toilet papier as wit nie! Dis dan rasisme! Sal julle dit ook sekker glo..\n@NS_online @HagoRailService De toilet van treinstel 8734 (bij deur 13 & 14) zou graag een nieuw rolletje papier ontvangen \nJa daar waren ze bij ons op school altijd wel goed in. Zo moesten alle kinderen ooit een rol wc papier meenemen naar school, want er moest bezuinigd worden en dat deden ze dan maar op het toiletpapier \nPage toilet-papier en gerookte zalm ? Dat is het bonnetje en boodschappen van de journalist, niet van een arm gezin.\nterug in maastricht. zit op de wc en niemand heeft nieuw toilet papier gekocht  dan baal je echt\nNiet normaal krijgen wij straks ook een lapje voor een toilet bezoekje omdat het anders papier verspilling is? Waar kunnen de mensen tekenen die ertegen zijn?\nVroeger waren die gazetten van papier. Dan kon je er na het lezen op toilet nog iets nuttigs mee doen.\nDoor papier te recyclen, kan het een tweede leven krijgen als toiletpapier, tissues en kantoorpapier! Hierdoor zijn er minder bomen nodig om deze nieuwe producten te maken. \nhttps://bit.ly/2H3jnVi \n#papierrecycling #circulaireeconomie #wastenomore #wastetoproduct\nJammer ek het dié reeds gebruik soos n WP trui. Jy weet, soos wanneer Die toilet -papier klaar was.\nGedragsverandering dus!\nZoals 2 eeuwen geleden ? Plassen en poepen in een bak, latrine, buitenplé, riool, toilet\nOf handen.. afvegen aan je kleren, aan een doek, aan papier, in de sloot, onder de pomp, onder de kraan...door waterleiding en riolering.\nHey @NS_online. Waarom betaal ik €0,50 (Station Hengelo) voor een smerig toilet zonder papier en met een niet werkende handendroger? pic.twitter.com/Sa1hsCVxTd\n@HagoRailService In treinstel 8681 (IC 2263 naar Haarlem) is het papier in het toilet bij deur 19/20 op. Bovendien is het toilet nogal vervuild met rondliggende lege toiletrollen, stukken papier (ook op het balkon) en zelfs wattenstaafjes. Kan hier wat aan gedaan worden?\nWaarom kunnen mijn huisgenoten niet normaal de kartonnen rolletjes van het wc papier in de prullenbak gooien die bij het toilet staat? I.p.v. daar van leggen ze het op de grond neer nog geen 1 meter er vandaan. Triggered\nWel Kristien In Kos hebben we heel goed contact met de verantwoordelijke van de kamer dames ,na vijf jaar kennen we dus de meeste ! Daar er op de Griekse eilanden geen wc papier door de toilet mag maar in het vuilbakje moet,Kan je u al inbeelden \nIdd wat zij soms aantreffen\nDit staan op Namibie se toilet papier\n Bietjie meer subtiel https://twitter.com/irish_za/status/1171013752642293760 …\nDie mensen die toilet poetsen moeten ook betaald. Producten, wc papier. Morgen sta ik voor uw deur mag ik even.\nWaren natuurlijk van die milieuactivisten. \n\nNiet zo maar papier weggooien. Je kan namelijk ook de ander kant nog beschrijven. \n\nDoen ze trouwens ook met toiletpapier, heb ik wel eens gehoord.\nLogisch, bij hem thuis hangt aan iedere boom een rol toilet papier.... \nDit hotel heeft free Wifi en toilet papier….. Meer heb je niet nodig :-D pic.twitter.com/j7NHsLywWw\nThe Good Roll Toiletpapier van Gerecycled Papier: Je Billen Afvegen Voor Het Goede Doel\n https://www.stichtingmilieunet.nl/andersbekekenblog/goed-doel/the-good-roll-toiletpapier-van-gerecycled-papier-je-billen-afvegen-voor-het-goede-doel.html …\nBoys hebben jullie ook dat als je gaat poepen je altijd een stukje toilet papier op je dick zet omdat je een crippiling fear hebt dat het de rand van de toilet aanraakt \nOf je nu bij het kopieerapparaat staat of op het toilet zit......het papier is altijd op https://twitter.com/NicoHey159/status/1168781316751597568 …\nJe kent toch wel dat moment dat je een nieuwe rol toiletpapier aanbreekt en je ipv een stevig stuk papier alleen het aller bovenste laagje lostrekt? Zo voel ik me dit jaar\n@NS_online vroege trein, na vertrek al wat vertraging, hopelijk straks genoeg overstaptijd. Schoon toilet, maar papier al op. Handzeep doet ‘t, maar water om je handen af te spoelen dan weer niet. Hoop dat het hier bij blijft.\n"
    }
   ],
   "source": [
    "for tweet in tweets:\n",
    "    print(tweet.text)"
   ]
  },
  {
   "cell_type": "markdown",
   "metadata": {},
   "source": [
    "## Store as dataframe and drop duplicates"
   ]
  },
  {
   "cell_type": "code",
   "execution_count": 7,
   "metadata": {},
   "outputs": [],
   "source": [
    "import re\n",
    "def delete_hashtags(tweet):\n",
    "    return re.sub('#', '', tweet)\n",
    "\n",
    "tweets_df = DataFrame([[tweet.user_id, delete_hashtags(tweet.text), tweet.retweets, tweet.timestamp] for tweet in tweets], columns=['user_id', 'text', 'retweets', 'timestamp'])"
   ]
  },
  {
   "cell_type": "code",
   "execution_count": 8,
   "metadata": {},
   "outputs": [],
   "source": [
    "tweets_df = tweets_df.drop_duplicates()"
   ]
  },
  {
   "cell_type": "markdown",
   "metadata": {},
   "source": [
    "## Translate to english for generela sentiment analysis"
   ]
  },
  {
   "cell_type": "code",
   "execution_count": 9,
   "metadata": {},
   "outputs": [],
   "source": [
    "from googletrans import Translator"
   ]
  },
  {
   "cell_type": "code",
   "execution_count": 10,
   "metadata": {},
   "outputs": [
    {
     "output_type": "error",
     "ename": "JSONDecodeError",
     "evalue": "Expecting value: line 1 column 1 (char 0)",
     "traceback": [
      "\u001b[0;31m---------------------------------------------------------------------------\u001b[0m",
      "\u001b[0;31mJSONDecodeError\u001b[0m                           Traceback (most recent call last)",
      "\u001b[0;32m<ipython-input-10-27215384c561>\u001b[0m in \u001b[0;36m<module>\u001b[0;34m\u001b[0m\n\u001b[1;32m      1\u001b[0m \u001b[0mtranslator\u001b[0m \u001b[0;34m=\u001b[0m \u001b[0mTranslator\u001b[0m\u001b[0;34m(\u001b[0m\u001b[0;34m)\u001b[0m\u001b[0;34m\u001b[0m\u001b[0;34m\u001b[0m\u001b[0m\n\u001b[1;32m      2\u001b[0m \u001b[0mtweets_text\u001b[0m \u001b[0;34m=\u001b[0m \u001b[0mtweets_df\u001b[0m\u001b[0;34m[\u001b[0m\u001b[0;34m'text'\u001b[0m\u001b[0;34m]\u001b[0m\u001b[0;34m.\u001b[0m\u001b[0mtolist\u001b[0m\u001b[0;34m(\u001b[0m\u001b[0;34m)\u001b[0m\u001b[0;34m\u001b[0m\u001b[0;34m\u001b[0m\u001b[0m\n\u001b[0;32m----> 3\u001b[0;31m \u001b[0mtranslations\u001b[0m \u001b[0;34m=\u001b[0m \u001b[0mtranslator\u001b[0m\u001b[0;34m.\u001b[0m\u001b[0mtranslate\u001b[0m\u001b[0;34m(\u001b[0m\u001b[0mtweets_text\u001b[0m\u001b[0;34m)\u001b[0m\u001b[0;34m\u001b[0m\u001b[0;34m\u001b[0m\u001b[0m\n\u001b[0m\u001b[1;32m      4\u001b[0m \u001b[0mtranslations\u001b[0m \u001b[0;34m=\u001b[0m \u001b[0;34m[\u001b[0m\u001b[0mx\u001b[0m\u001b[0;34m.\u001b[0m\u001b[0mtext\u001b[0m \u001b[0;32mfor\u001b[0m \u001b[0mx\u001b[0m \u001b[0;32min\u001b[0m \u001b[0mtranslations\u001b[0m\u001b[0;34m]\u001b[0m\u001b[0;34m\u001b[0m\u001b[0;34m\u001b[0m\u001b[0m\n",
      "\u001b[0;32m/mnt/c/Users/Vande/OneDrive - ugentbe/Ingenieurswetenschappen/_master/2MA/big_data_science/project/bds-project-2020/twitter_scraper_test/venv/lib/python3.6/site-packages/googletrans/client.py\u001b[0m in \u001b[0;36mtranslate\u001b[0;34m(self, text, dest, src)\u001b[0m\n\u001b[1;32m    165\u001b[0m             \u001b[0mresult\u001b[0m \u001b[0;34m=\u001b[0m \u001b[0;34m[\u001b[0m\u001b[0;34m]\u001b[0m\u001b[0;34m\u001b[0m\u001b[0;34m\u001b[0m\u001b[0m\n\u001b[1;32m    166\u001b[0m             \u001b[0;32mfor\u001b[0m \u001b[0mitem\u001b[0m \u001b[0;32min\u001b[0m \u001b[0mtext\u001b[0m\u001b[0;34m:\u001b[0m\u001b[0;34m\u001b[0m\u001b[0;34m\u001b[0m\u001b[0m\n\u001b[0;32m--> 167\u001b[0;31m                 \u001b[0mtranslated\u001b[0m \u001b[0;34m=\u001b[0m \u001b[0mself\u001b[0m\u001b[0;34m.\u001b[0m\u001b[0mtranslate\u001b[0m\u001b[0;34m(\u001b[0m\u001b[0mitem\u001b[0m\u001b[0;34m,\u001b[0m \u001b[0mdest\u001b[0m\u001b[0;34m=\u001b[0m\u001b[0mdest\u001b[0m\u001b[0;34m,\u001b[0m \u001b[0msrc\u001b[0m\u001b[0;34m=\u001b[0m\u001b[0msrc\u001b[0m\u001b[0;34m)\u001b[0m\u001b[0;34m\u001b[0m\u001b[0;34m\u001b[0m\u001b[0m\n\u001b[0m\u001b[1;32m    168\u001b[0m                 \u001b[0mresult\u001b[0m\u001b[0;34m.\u001b[0m\u001b[0mappend\u001b[0m\u001b[0;34m(\u001b[0m\u001b[0mtranslated\u001b[0m\u001b[0;34m)\u001b[0m\u001b[0;34m\u001b[0m\u001b[0;34m\u001b[0m\u001b[0m\n\u001b[1;32m    169\u001b[0m             \u001b[0;32mreturn\u001b[0m \u001b[0mresult\u001b[0m\u001b[0;34m\u001b[0m\u001b[0;34m\u001b[0m\u001b[0m\n",
      "\u001b[0;32m/mnt/c/Users/Vande/OneDrive - ugentbe/Ingenieurswetenschappen/_master/2MA/big_data_science/project/bds-project-2020/twitter_scraper_test/venv/lib/python3.6/site-packages/googletrans/client.py\u001b[0m in \u001b[0;36mtranslate\u001b[0;34m(self, text, dest, src)\u001b[0m\n\u001b[1;32m    170\u001b[0m \u001b[0;34m\u001b[0m\u001b[0m\n\u001b[1;32m    171\u001b[0m         \u001b[0morigin\u001b[0m \u001b[0;34m=\u001b[0m \u001b[0mtext\u001b[0m\u001b[0;34m\u001b[0m\u001b[0;34m\u001b[0m\u001b[0m\n\u001b[0;32m--> 172\u001b[0;31m         \u001b[0mdata\u001b[0m \u001b[0;34m=\u001b[0m \u001b[0mself\u001b[0m\u001b[0;34m.\u001b[0m\u001b[0m_translate\u001b[0m\u001b[0;34m(\u001b[0m\u001b[0mtext\u001b[0m\u001b[0;34m,\u001b[0m \u001b[0mdest\u001b[0m\u001b[0;34m,\u001b[0m \u001b[0msrc\u001b[0m\u001b[0;34m)\u001b[0m\u001b[0;34m\u001b[0m\u001b[0;34m\u001b[0m\u001b[0m\n\u001b[0m\u001b[1;32m    173\u001b[0m \u001b[0;34m\u001b[0m\u001b[0m\n\u001b[1;32m    174\u001b[0m         \u001b[0;31m# this code will be updated when the format is changed.\u001b[0m\u001b[0;34m\u001b[0m\u001b[0;34m\u001b[0m\u001b[0;34m\u001b[0m\u001b[0m\n",
      "\u001b[0;32m/mnt/c/Users/Vande/OneDrive - ugentbe/Ingenieurswetenschappen/_master/2MA/big_data_science/project/bds-project-2020/twitter_scraper_test/venv/lib/python3.6/site-packages/googletrans/client.py\u001b[0m in \u001b[0;36m_translate\u001b[0;34m(self, text, dest, src)\u001b[0m\n\u001b[1;32m     79\u001b[0m         \u001b[0mr\u001b[0m \u001b[0;34m=\u001b[0m \u001b[0mself\u001b[0m\u001b[0;34m.\u001b[0m\u001b[0msession\u001b[0m\u001b[0;34m.\u001b[0m\u001b[0mget\u001b[0m\u001b[0;34m(\u001b[0m\u001b[0murl\u001b[0m\u001b[0;34m,\u001b[0m \u001b[0mparams\u001b[0m\u001b[0;34m=\u001b[0m\u001b[0mparams\u001b[0m\u001b[0;34m)\u001b[0m\u001b[0;34m\u001b[0m\u001b[0;34m\u001b[0m\u001b[0m\n\u001b[1;32m     80\u001b[0m \u001b[0;34m\u001b[0m\u001b[0m\n\u001b[0;32m---> 81\u001b[0;31m         \u001b[0mdata\u001b[0m \u001b[0;34m=\u001b[0m \u001b[0mutils\u001b[0m\u001b[0;34m.\u001b[0m\u001b[0mformat_json\u001b[0m\u001b[0;34m(\u001b[0m\u001b[0mr\u001b[0m\u001b[0;34m.\u001b[0m\u001b[0mtext\u001b[0m\u001b[0;34m)\u001b[0m\u001b[0;34m\u001b[0m\u001b[0;34m\u001b[0m\u001b[0m\n\u001b[0m\u001b[1;32m     82\u001b[0m         \u001b[0;32mreturn\u001b[0m \u001b[0mdata\u001b[0m\u001b[0;34m\u001b[0m\u001b[0;34m\u001b[0m\u001b[0m\n\u001b[1;32m     83\u001b[0m \u001b[0;34m\u001b[0m\u001b[0m\n",
      "\u001b[0;32m/mnt/c/Users/Vande/OneDrive - ugentbe/Ingenieurswetenschappen/_master/2MA/big_data_science/project/bds-project-2020/twitter_scraper_test/venv/lib/python3.6/site-packages/googletrans/utils.py\u001b[0m in \u001b[0;36mformat_json\u001b[0;34m(original)\u001b[0m\n\u001b[1;32m     60\u001b[0m         \u001b[0mconverted\u001b[0m \u001b[0;34m=\u001b[0m \u001b[0mjson\u001b[0m\u001b[0;34m.\u001b[0m\u001b[0mloads\u001b[0m\u001b[0;34m(\u001b[0m\u001b[0moriginal\u001b[0m\u001b[0;34m)\u001b[0m\u001b[0;34m\u001b[0m\u001b[0;34m\u001b[0m\u001b[0m\n\u001b[1;32m     61\u001b[0m     \u001b[0;32mexcept\u001b[0m \u001b[0mValueError\u001b[0m\u001b[0;34m:\u001b[0m\u001b[0;34m\u001b[0m\u001b[0;34m\u001b[0m\u001b[0m\n\u001b[0;32m---> 62\u001b[0;31m         \u001b[0mconverted\u001b[0m \u001b[0;34m=\u001b[0m \u001b[0mlegacy_format_json\u001b[0m\u001b[0;34m(\u001b[0m\u001b[0moriginal\u001b[0m\u001b[0;34m)\u001b[0m\u001b[0;34m\u001b[0m\u001b[0;34m\u001b[0m\u001b[0m\n\u001b[0m\u001b[1;32m     63\u001b[0m \u001b[0;34m\u001b[0m\u001b[0m\n\u001b[1;32m     64\u001b[0m     \u001b[0;32mreturn\u001b[0m \u001b[0mconverted\u001b[0m\u001b[0;34m\u001b[0m\u001b[0;34m\u001b[0m\u001b[0m\n",
      "\u001b[0;32m/mnt/c/Users/Vande/OneDrive - ugentbe/Ingenieurswetenschappen/_master/2MA/big_data_science/project/bds-project-2020/twitter_scraper_test/venv/lib/python3.6/site-packages/googletrans/utils.py\u001b[0m in \u001b[0;36mlegacy_format_json\u001b[0;34m(original)\u001b[0m\n\u001b[1;32m     52\u001b[0m             \u001b[0mtext\u001b[0m \u001b[0;34m=\u001b[0m \u001b[0mtext\u001b[0m\u001b[0;34m[\u001b[0m\u001b[0;34m:\u001b[0m\u001b[0mp\u001b[0m\u001b[0;34m]\u001b[0m \u001b[0;34m+\u001b[0m \u001b[0mstates\u001b[0m\u001b[0;34m[\u001b[0m\u001b[0mj\u001b[0m\u001b[0;34m]\u001b[0m\u001b[0;34m[\u001b[0m\u001b[0;36m1\u001b[0m\u001b[0;34m]\u001b[0m \u001b[0;34m+\u001b[0m \u001b[0mtext\u001b[0m\u001b[0;34m[\u001b[0m\u001b[0mnxt\u001b[0m\u001b[0;34m:\u001b[0m\u001b[0;34m]\u001b[0m\u001b[0;34m\u001b[0m\u001b[0;34m\u001b[0m\u001b[0m\n\u001b[1;32m     53\u001b[0m \u001b[0;34m\u001b[0m\u001b[0m\n\u001b[0;32m---> 54\u001b[0;31m     \u001b[0mconverted\u001b[0m \u001b[0;34m=\u001b[0m \u001b[0mjson\u001b[0m\u001b[0;34m.\u001b[0m\u001b[0mloads\u001b[0m\u001b[0;34m(\u001b[0m\u001b[0mtext\u001b[0m\u001b[0;34m)\u001b[0m\u001b[0;34m\u001b[0m\u001b[0;34m\u001b[0m\u001b[0m\n\u001b[0m\u001b[1;32m     55\u001b[0m     \u001b[0;32mreturn\u001b[0m \u001b[0mconverted\u001b[0m\u001b[0;34m\u001b[0m\u001b[0;34m\u001b[0m\u001b[0m\n\u001b[1;32m     56\u001b[0m \u001b[0;34m\u001b[0m\u001b[0m\n",
      "\u001b[0;32m/usr/lib/python3.6/json/__init__.py\u001b[0m in \u001b[0;36mloads\u001b[0;34m(s, encoding, cls, object_hook, parse_float, parse_int, parse_constant, object_pairs_hook, **kw)\u001b[0m\n\u001b[1;32m    352\u001b[0m             \u001b[0mparse_int\u001b[0m \u001b[0;32mis\u001b[0m \u001b[0;32mNone\u001b[0m \u001b[0;32mand\u001b[0m \u001b[0mparse_float\u001b[0m \u001b[0;32mis\u001b[0m \u001b[0;32mNone\u001b[0m \u001b[0;32mand\u001b[0m\u001b[0;34m\u001b[0m\u001b[0;34m\u001b[0m\u001b[0m\n\u001b[1;32m    353\u001b[0m             parse_constant is None and object_pairs_hook is None and not kw):\n\u001b[0;32m--> 354\u001b[0;31m         \u001b[0;32mreturn\u001b[0m \u001b[0m_default_decoder\u001b[0m\u001b[0;34m.\u001b[0m\u001b[0mdecode\u001b[0m\u001b[0;34m(\u001b[0m\u001b[0ms\u001b[0m\u001b[0;34m)\u001b[0m\u001b[0;34m\u001b[0m\u001b[0;34m\u001b[0m\u001b[0m\n\u001b[0m\u001b[1;32m    355\u001b[0m     \u001b[0;32mif\u001b[0m \u001b[0mcls\u001b[0m \u001b[0;32mis\u001b[0m \u001b[0;32mNone\u001b[0m\u001b[0;34m:\u001b[0m\u001b[0;34m\u001b[0m\u001b[0;34m\u001b[0m\u001b[0m\n\u001b[1;32m    356\u001b[0m         \u001b[0mcls\u001b[0m \u001b[0;34m=\u001b[0m \u001b[0mJSONDecoder\u001b[0m\u001b[0;34m\u001b[0m\u001b[0;34m\u001b[0m\u001b[0m\n",
      "\u001b[0;32m/usr/lib/python3.6/json/decoder.py\u001b[0m in \u001b[0;36mdecode\u001b[0;34m(self, s, _w)\u001b[0m\n\u001b[1;32m    337\u001b[0m \u001b[0;34m\u001b[0m\u001b[0m\n\u001b[1;32m    338\u001b[0m         \"\"\"\n\u001b[0;32m--> 339\u001b[0;31m         \u001b[0mobj\u001b[0m\u001b[0;34m,\u001b[0m \u001b[0mend\u001b[0m \u001b[0;34m=\u001b[0m \u001b[0mself\u001b[0m\u001b[0;34m.\u001b[0m\u001b[0mraw_decode\u001b[0m\u001b[0;34m(\u001b[0m\u001b[0ms\u001b[0m\u001b[0;34m,\u001b[0m \u001b[0midx\u001b[0m\u001b[0;34m=\u001b[0m\u001b[0m_w\u001b[0m\u001b[0;34m(\u001b[0m\u001b[0ms\u001b[0m\u001b[0;34m,\u001b[0m \u001b[0;36m0\u001b[0m\u001b[0;34m)\u001b[0m\u001b[0;34m.\u001b[0m\u001b[0mend\u001b[0m\u001b[0;34m(\u001b[0m\u001b[0;34m)\u001b[0m\u001b[0;34m)\u001b[0m\u001b[0;34m\u001b[0m\u001b[0;34m\u001b[0m\u001b[0m\n\u001b[0m\u001b[1;32m    340\u001b[0m         \u001b[0mend\u001b[0m \u001b[0;34m=\u001b[0m \u001b[0m_w\u001b[0m\u001b[0;34m(\u001b[0m\u001b[0ms\u001b[0m\u001b[0;34m,\u001b[0m \u001b[0mend\u001b[0m\u001b[0;34m)\u001b[0m\u001b[0;34m.\u001b[0m\u001b[0mend\u001b[0m\u001b[0;34m(\u001b[0m\u001b[0;34m)\u001b[0m\u001b[0;34m\u001b[0m\u001b[0;34m\u001b[0m\u001b[0m\n\u001b[1;32m    341\u001b[0m         \u001b[0;32mif\u001b[0m \u001b[0mend\u001b[0m \u001b[0;34m!=\u001b[0m \u001b[0mlen\u001b[0m\u001b[0;34m(\u001b[0m\u001b[0ms\u001b[0m\u001b[0;34m)\u001b[0m\u001b[0;34m:\u001b[0m\u001b[0;34m\u001b[0m\u001b[0;34m\u001b[0m\u001b[0m\n",
      "\u001b[0;32m/usr/lib/python3.6/json/decoder.py\u001b[0m in \u001b[0;36mraw_decode\u001b[0;34m(self, s, idx)\u001b[0m\n\u001b[1;32m    355\u001b[0m             \u001b[0mobj\u001b[0m\u001b[0;34m,\u001b[0m \u001b[0mend\u001b[0m \u001b[0;34m=\u001b[0m \u001b[0mself\u001b[0m\u001b[0;34m.\u001b[0m\u001b[0mscan_once\u001b[0m\u001b[0;34m(\u001b[0m\u001b[0ms\u001b[0m\u001b[0;34m,\u001b[0m \u001b[0midx\u001b[0m\u001b[0;34m)\u001b[0m\u001b[0;34m\u001b[0m\u001b[0;34m\u001b[0m\u001b[0m\n\u001b[1;32m    356\u001b[0m         \u001b[0;32mexcept\u001b[0m \u001b[0mStopIteration\u001b[0m \u001b[0;32mas\u001b[0m \u001b[0merr\u001b[0m\u001b[0;34m:\u001b[0m\u001b[0;34m\u001b[0m\u001b[0;34m\u001b[0m\u001b[0m\n\u001b[0;32m--> 357\u001b[0;31m             \u001b[0;32mraise\u001b[0m \u001b[0mJSONDecodeError\u001b[0m\u001b[0;34m(\u001b[0m\u001b[0;34m\"Expecting value\"\u001b[0m\u001b[0;34m,\u001b[0m \u001b[0ms\u001b[0m\u001b[0;34m,\u001b[0m \u001b[0merr\u001b[0m\u001b[0;34m.\u001b[0m\u001b[0mvalue\u001b[0m\u001b[0;34m)\u001b[0m \u001b[0;32mfrom\u001b[0m \u001b[0;32mNone\u001b[0m\u001b[0;34m\u001b[0m\u001b[0;34m\u001b[0m\u001b[0m\n\u001b[0m\u001b[1;32m    358\u001b[0m         \u001b[0;32mreturn\u001b[0m \u001b[0mobj\u001b[0m\u001b[0;34m,\u001b[0m \u001b[0mend\u001b[0m\u001b[0;34m\u001b[0m\u001b[0;34m\u001b[0m\u001b[0m\n",
      "\u001b[0;31mJSONDecodeError\u001b[0m: Expecting value: line 1 column 1 (char 0)"
     ]
    }
   ],
   "source": [
    "translator = Translator()\n",
    "tweets_text = tweets_df['text'].tolist()\n",
    "translations = translator.translate(tweets_text)\n",
    "translations = [x.text for x in translations]\n"
   ]
  },
  {
   "cell_type": "code",
   "execution_count": null,
   "metadata": {},
   "outputs": [],
   "source": [
    "tweets_df['translation'] = translations"
   ]
  },
  {
   "cell_type": "markdown",
   "metadata": {},
   "source": [
    "## Sentiment analysis"
   ]
  },
  {
   "cell_type": "code",
   "execution_count": null,
   "metadata": {},
   "outputs": [],
   "source": [
    "# https://medium.com/@b.terryjack/nlp-pre-trained-sentiment-analysis-1eb52a9d742c\n",
    "import nltk\n",
    "nltk.download('vader_lexicon')\n",
    "from nltk.sentiment.vader import SentimentIntensityAnalyzer\n",
    "sid = SentimentIntensityAnalyzer()"
   ]
  },
  {
   "cell_type": "code",
   "execution_count": null,
   "metadata": {},
   "outputs": [],
   "source": [
    "def add_translation(row):\n",
    "    text = row['text']\n",
    "    translation = translator.translate(text).text\n",
    "\n",
    "    row['translation'] = translation\n",
    "\n",
    "    return row\n",
    "\n",
    "def sentiment_analysis(row):\n",
    "    trans = row['translation']\n",
    "    sentiment = sid.polarity_scores(trans)\n",
    "\n",
    "    row['negative'] = sentiment['neg']\n",
    "    row['neutral'] = sentiment['neu']\n",
    "    row['positive'] = sentiment['pos']\n",
    "\n",
    "    return row\n",
    "\n",
    "\n"
   ]
  },
  {
   "cell_type": "code",
   "execution_count": null,
   "metadata": {},
   "outputs": [],
   "source": [
    "tweets_df_with_sentiment = tweets_df.apply(sentiment_analysis, axis=1)"
   ]
  },
  {
   "cell_type": "code",
   "execution_count": null,
   "metadata": {},
   "outputs": [],
   "source": [
    "tweets_df_with_sentiment"
   ]
  },
  {
   "cell_type": "markdown",
   "metadata": {},
   "source": [
    "## Weekly analysis"
   ]
  },
  {
   "cell_type": "code",
   "execution_count": null,
   "metadata": {},
   "outputs": [],
   "source": [
    "tweets_df_with_sentiment.set_index(tweets_df_with_sentiment['timestamp'])[['negative', 'neutral', 'positive']].resample('W').sum()"
   ]
  },
  {
   "cell_type": "markdown",
   "metadata": {},
   "source": [
    "## MOnthly analysis"
   ]
  },
  {
   "cell_type": "code",
   "execution_count": null,
   "metadata": {},
   "outputs": [],
   "source": [
    "tweets_df_with_sentiment.set_index(tweets_df_with_sentiment['timestamp'])[['negative', 'neutral', 'positive']].resample('M').sum()"
   ]
  },
  {
   "cell_type": "code",
   "execution_count": null,
   "metadata": {},
   "outputs": [],
   "source": [
    "tweets_df_per_period = tweets_df_with_sentiment.set_index(tweets_df_with_sentiment['timestamp'])[['negative', 'neutral', 'positive']].resample('M').sum()"
   ]
  },
  {
   "cell_type": "code",
   "execution_count": null,
   "metadata": {},
   "outputs": [],
   "source": [
    "import numpy as np\n",
    "from matplotlib import pyplot as plt"
   ]
  },
  {
   "cell_type": "code",
   "execution_count": null,
   "metadata": {},
   "outputs": [],
   "source": [
    "neg = np.array(tweets_df_per_period['negative'].to_list())\n",
    "neutr = np.array(tweets_df_per_period['neutral'].to_list())\n",
    "pos = np.array(tweets_df_per_period['positive'].to_list())\n",
    "\n",
    "neg_neutr = neg + neutr\n",
    "neg_neutr_pos = neg_neutr + pos\n"
   ]
  },
  {
   "cell_type": "code",
   "execution_count": null,
   "metadata": {},
   "outputs": [],
   "source": [
    "# %b for month, %d for day, %y for year \n",
    "dates = [x.strftime(\"%b\") for x in tweets_df_per_period.index.tolist()]\n",
    "\n",
    "fig = plt.figure()\n",
    "plt.plot(dates, neg, 'r')\n",
    "plt.plot(dates, neg_neutr, 'orange')\n",
    "plt.plot(dates, neg_neutr_pos, 'g')\n",
    "plt.fill_between(dates, [0 for x in neg], neg, facecolor='red', alpha=0.5)\n",
    "plt.fill_between(dates, neg, neg_neutr, facecolor='orange', alpha=0.5)\n",
    "plt.fill_between(dates, neg_neutr, neg_neutr_pos, facecolor='green', alpha=0.5)"
   ]
  },
  {
   "cell_type": "code",
   "execution_count": null,
   "metadata": {},
   "outputs": [],
   "source": []
  },
  {
   "cell_type": "code",
   "execution_count": null,
   "metadata": {},
   "outputs": [],
   "source": []
  }
 ],
 "metadata": {
  "language_info": {
   "codemirror_mode": {
    "name": "ipython",
    "version": 3
   },
   "file_extension": ".py",
   "mimetype": "text/x-python",
   "name": "python",
   "nbconvert_exporter": "python",
   "pygments_lexer": "ipython3",
   "version": "3.6.9-final"
  },
  "orig_nbformat": 2,
  "kernelspec": {
   "name": "python36964bitvenvvirtualenvaa63ac1f89734736a689a78acc2cc528",
   "display_name": "Python 3.6.9 64-bit ('venv': virtualenv)"
  }
 },
 "nbformat": 4,
 "nbformat_minor": 2
}